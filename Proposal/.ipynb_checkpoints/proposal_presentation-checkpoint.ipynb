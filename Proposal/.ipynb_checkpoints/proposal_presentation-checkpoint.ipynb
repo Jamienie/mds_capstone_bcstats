{
 "cells": [
  {
   "cell_type": "markdown",
   "metadata": {
    "slideshow": {
     "slide_type": "slide"
    }
   },
   "source": [
    "# Master of Data Science Capstone Proposal \n",
    "\n",
    "# BC Stats\n",
    "# Work Employment Survey Analysis\n",
    "\n",
    "\n",
    "\n",
    "#### Team: Aaron Quinton, Fan Nie, Ayla Pearson\n",
    "\n",
    "#### Mentor: Varada Kolhatkar "
   ]
  },
  {
   "cell_type": "code",
   "execution_count": 41,
   "metadata": {
    "slideshow": {
     "slide_type": "skip"
    }
   },
   "outputs": [],
   "source": [
    "# imports\n",
    "\n",
    "library(tidyverse)"
   ]
  },
  {
   "cell_type": "markdown",
   "metadata": {
    "slideshow": {
     "slide_type": "slide"
    }
   },
   "source": [
    "# Executive Summary \n",
    "\n",
    "\n",
    "Question/Purpose  \n",
    "Data  \n",
    "Models  \n",
    "Deliverables  \n"
   ]
  },
  {
   "cell_type": "markdown",
   "metadata": {
    "slideshow": {
     "slide_type": "slide"
    }
   },
   "source": [
    "# Business Questions\n",
    "\n",
    "1. What themes and sub-themes are present in the qualitative responses?\n",
    "\n",
    "2. How well does the sentiment of the qualitative responses agree with the sentiment of the quantitative responses?\n",
    "\n",
    "3. Have the scores of the quantitative themes changed from 2008 to 2018?"
   ]
  },
  {
   "cell_type": "markdown",
   "metadata": {
    "slideshow": {
     "slide_type": "slide"
    }
   },
   "source": [
    "# Objectives & Deliverables \n",
    "\n",
    "1. Topic Modeling\n",
    "  - Python model for future labelling\n",
    "2. Percentage Agreement \n",
    "  - Report  \n",
    "3. Descriptive Statistics\n",
    "  - Python dashboard"
   ]
  },
  {
   "cell_type": "markdown",
   "metadata": {
    "slideshow": {
     "slide_type": "slide"
    }
   },
   "source": [
    "# Quantitative Data\n",
    "\n",
    "- 80 multiple choice questions with 5-point scale\n",
    "- responses are aggregated into 16 main themes\n",
    "  - scores are averaged over 100\n",
    "- data ranges from 2007 to 2018\n",
    "- 84% of employees took the survey in 2018 \n",
    "\n",
    "\n",
    "**place few rows of summary data Fan made or some plot**"
   ]
  },
  {
   "cell_type": "markdown",
   "metadata": {
    "slideshow": {
     "slide_type": "notes"
    }
   },
   "source": [
    "# Notes \n",
    "\n",
    "- survey slightly varies year to year \n",
    "- 84% == 22,800 employees took the survey \n",
    "\n",
    "The question blocks \n",
    "- Day-to-day Work\n",
    "- Physical Environment and Tools\n",
    "- Development and Performance\n",
    "- Co-workers\n",
    "- Person I report to\n",
    "- Executive \n",
    "- Organization \n",
    "- Employment as a BC Public Servant"
   ]
  },
  {
   "cell_type": "markdown",
   "metadata": {
    "slideshow": {
     "slide_type": "slide"
    }
   },
   "source": [
    "# Qualitative Data\n",
    "\n",
    "\n",
    "#### Whats **one thing** would you like your organization to focus on to improve your work environment?\n",
    "\n",
    "Coded into: \n",
    "- 13 main themes\n",
    "- 61 sub topics \n",
    "\n",
    "<br>\n",
    "\n",
    "<center>\n",
    "<img src=\"img/qualitative_data_ex.PNG\" height=\"1000\" width=\"1000\" > \n",
    "</center>\n",
    "<br><br>\n",
    "Reference BC Public Service WES Results"
   ]
  },
  {
   "cell_type": "markdown",
   "metadata": {
    "slideshow": {
     "slide_type": "notes"
    }
   },
   "source": [
    "# Notes\n",
    "\n",
    "- there is only 1 written question (qualitative)\n",
    "- There are 13 themes in total (includes other and unrelated)\n",
    "- 3 of the subtopics are from other\n",
    "- 14,796 responses in 2018 64% of total respondents\n",
    "- each response can be coded with up to 5 subtopics "
   ]
  },
  {
   "cell_type": "markdown",
   "metadata": {
    "slideshow": {
     "slide_type": "slide"
    }
   },
   "source": [
    "# Topic Modeling  \n",
    "\n",
    "- Build LDA model to catorgize future WES results\n",
    "- data is labeled = simple method for measuring accuracy \n",
    "- challenges\n",
    "  - large number of subtopics \n",
    "  - comments can contain from 1 to 5 topics"
   ]
  },
  {
   "cell_type": "markdown",
   "metadata": {
    "slideshow": {
     "slide_type": "skip"
    }
   },
   "source": [
    "# Notes\n",
    "\n",
    "- starting steps of things like pre-processing"
   ]
  },
  {
   "cell_type": "markdown",
   "metadata": {
    "slideshow": {
     "slide_type": "slide"
    }
   },
   "source": [
    "# Percentage Agreement\n",
    "\n",
    "- preform sentiment and emotional analysis on qualitative results\n",
    "- look at the correlation between the sentiment of the qualitative and quantitative results to see how they correspond  \n",
    "- help to reinforce the qualitative results \n",
    "- generate report describing and visualizing results \n",
    "\n"
   ]
  },
  {
   "cell_type": "code",
   "execution_count": 59,
   "metadata": {
    "slideshow": {
     "slide_type": "skip"
    }
   },
   "outputs": [
    {
     "name": "stderr",
     "output_type": "stream",
     "text": [
      "Parsed with column specification:\n",
      "cols(\n",
      "  .default = col_integer(),\n",
      "  USERID = col_character(),\n",
      "  USERID_check = col_character(),\n",
      "  COMPLETED07 = col_character(),\n",
      "  OVERALLSCOPE07 = col_character(),\n",
      "  POPULATION08 = col_character(),\n",
      "  BCPUBLICSERVICE08 = col_double(),\n",
      "  OVERALLSCOPE08 = col_character(),\n",
      "  POPULATION09 = col_character(),\n",
      "  BCPUBLICSERVICE09 = col_character(),\n",
      "  COMPLETED09 = col_character(),\n",
      "  OVERALLSCOPE09 = col_character(),\n",
      "  OVERALLSCOPE10 = col_character(),\n",
      "  POPULATION11 = col_character(),\n",
      "  COMPLETED11 = col_character(),\n",
      "  OVERALLSCOPE11 = col_character(),\n",
      "  BCPUBLICSERVICE13 = col_character(),\n",
      "  COMPLETED13 = col_character(),\n",
      "  OVERALLSCOPE13 = col_character(),\n",
      "  BCPUBLICSERVICE15 = col_character(),\n",
      "  COMPLETED15 = col_double()\n",
      "  # ... with 446 more columns\n",
      ")\n",
      "See spec(...) for full column specifications.\n",
      "Warning message in rbind(names(probs), probs_f):\n",
      "\"number of columns of result is not a multiple of vector length (arg 1)\"Warning message:\n",
      "\"28 parsing failures.\n",
      "row # A tibble: 5 x 5 col     row col   expected     actual     file                                      expected   <int> <chr> <chr>        <chr>      <chr>                                     actual 1   137 <NA>  1273 columns 326 colum~ '../Data/WES 2007-2018 LONGITUDINAL DATA~ file 2   138 <NA>  1273 columns 948 colum~ '../Data/WES 2007-2018 LONGITUDINAL DATA~ row 3   351 <NA>  1273 columns 326 colum~ '../Data/WES 2007-2018 LONGITUDINAL DATA~ col 4   352 <NA>  1273 columns 948 colum~ '../Data/WES 2007-2018 LONGITUDINAL DATA~ expected 5   504 <NA>  1273 columns 971 colum~ '../Data/WES 2007-2018 LONGITUDINAL DATA~\n",
      "... ................. ... ............................................................................... ........ ............................................................................... ...... ............................................................................... .... ............................................................................... ... ............................................................................... ... ............................................................................... ........ ...............................................................................\n",
      "See problems(...) for more details.\n",
      "\""
     ]
    },
    {
     "data": {
      "text/html": [
       "<strong>png:</strong> 2"
      ],
      "text/latex": [
       "\\textbf{png:} 2"
      ],
      "text/markdown": [
       "**png:** 2"
      ],
      "text/plain": [
       "png \n",
       "  2 "
      ]
     },
     "metadata": {},
     "output_type": "display_data"
    }
   ],
   "source": [
    "# Code for descriptive stats\n",
    "sav_data <- \"../Data/WES 2007-2018 LONGITUDINAL DATA_sample.csv\"\n",
    "df <- read_csv(sav_data)\n",
    "\n",
    "# remove weird 18 rows that should be removed \n",
    "df <- df %>% \n",
    "  filter(USERID != \"Policy\") %>% \n",
    "  filter(!grepl(\"^EP\", USERID))   # filter out rows where EP is at start\n",
    "\n",
    "#user number to test\n",
    "person_1 <- \"172555-478238\"\n",
    "person_2 <- \"176325-511986\"\n",
    "\n",
    "desc_plot <- df %>% \n",
    "  filter(USERID == person_1) %>% \n",
    "  select(matches(\"Engagement_\\\\d\")) %>% \n",
    "  gather(key = \"Year\", value = \"Score\") %>% \n",
    "  separate(Year, into = c(\"Question\", \"Year\"), sep = \"_\") %>% \n",
    "  mutate(Year = as.numeric(Year),\n",
    "         Score = as.numeric(Score),\n",
    "         Year = Year + 2000) %>% \n",
    "  ggplot() +\n",
    "    geom_line(aes(Year, Score))+\n",
    "    ylim(c(0,100)) +\n",
    "    theme_classic()  +\n",
    "    theme(text=element_text(size=20)) +\n",
    "    ylab(\"Engagement\")\n",
    "\n",
    "png(\"img/desc_stats.png\")\n",
    "print(desc_plot)\n",
    "dev.off()"
   ]
  },
  {
   "cell_type": "markdown",
   "metadata": {
    "slideshow": {
     "slide_type": "slide"
    }
   },
   "source": [
    "# Descriptive Statistics \n",
    "\n",
    "- longitudinal study across the quantitative data\n",
    "- visualize the 16 themes over time at various scales:\n",
    " - organizational\n",
    " - ministry \n",
    "- Python Dashboard made with plotly's Dash\n",
    "\n",
    "<center>\n",
    "<img src=\"img/desc_stats.PNG\" width=\"500\" height=\"400\"> \n",
    "</center>\n"
   ]
  },
  {
   "cell_type": "markdown",
   "metadata": {
    "slideshow": {
     "slide_type": "notes"
    }
   },
   "source": [
    "# Notes\n",
    "\n",
    "- scales are like organizational, ministry, department, etc"
   ]
  },
  {
   "cell_type": "code",
   "execution_count": 40,
   "metadata": {
    "slideshow": {
     "slide_type": "skip"
    }
   },
   "outputs": [
    {
     "data": {
      "text/html": [
       "<strong>png:</strong> 2"
      ],
      "text/latex": [
       "\\textbf{png:} 2"
      ],
      "text/markdown": [
       "**png:** 2"
      ],
      "text/plain": [
       "png \n",
       "  2 "
      ]
     },
     "metadata": {},
     "output_type": "display_data"
    }
   ],
   "source": [
    "# Code to generate timeline chart \n",
    "library(tidyverse)\n",
    "\n",
    "data1  <- fship <- tribble(\n",
    "  ~date,    ~Activity,  \n",
    "  1, \"Topic Modeling\",  # start time\n",
    "  4, \"Topic Modeling\",  # finish time\n",
    "  1, \"Percentage Agreement\",   # start time\n",
    "  5, \"Percentage Agreement\",   # finish time\n",
    "  2, \"Descriptive Statistics\",  # start time\n",
    "  6, \"Descriptive Statistics\" ) # finish time\n",
    "\n",
    "plot <- ggplot(data1, aes(date, Activity, color=Activity)) +\n",
    "  geom_line(size =10) +\n",
    "  xlab(\"weeks\") +\n",
    "  ylab(\"\") +\n",
    "  xlim(c(1,6)) +\n",
    "  theme_classic() +\n",
    "  theme(text=element_text(size=20),\n",
    "       legend.position=\"none\") \n",
    "\n",
    "#plot\n",
    "\n",
    "png(\"img/timeline1.png\")\n",
    "print(plot)\n",
    "dev.off()"
   ]
  },
  {
   "cell_type": "markdown",
   "metadata": {
    "slideshow": {
     "slide_type": "slide"
    }
   },
   "source": [
    "# Time line\n",
    "\n",
    "<center>\n",
    "<img src=\"img/timeline1.PNG\" > \n",
    "</center>\n",
    "\n"
   ]
  },
  {
   "cell_type": "markdown",
   "metadata": {
    "slideshow": {
     "slide_type": "notes"
    }
   },
   "source": [
    "# Notes\n",
    "- Topic modeling first priority because partners ask for it and simple enough to do and will be the simplest of the 3 tasks\n",
    "- The percentage agreement has multiple parts including sentiment analysis, comparison and report generation\n",
    "- The descriptive statistics with be a simple analysis but we plan to use a new tool and we want the dash board to be professional so lots of time of stylizing and bugs needs to be scheduled in"
   ]
  }
 ],
 "metadata": {
  "celltoolbar": "Slideshow",
  "kernelspec": {
   "display_name": "R",
   "language": "R",
   "name": "ir"
  },
  "language_info": {
   "codemirror_mode": "r",
   "file_extension": ".r",
   "mimetype": "text/x-r-source",
   "name": "R",
   "pygments_lexer": "r",
   "version": "3.5.1"
  },
  "rise": {
   "theme": "sky",
   "transition": "slow"
  }
 },
 "nbformat": 4,
 "nbformat_minor": 2
}
