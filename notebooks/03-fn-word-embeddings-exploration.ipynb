{
 "cells": [
  {
   "cell_type": "code",
   "execution_count": 1,
   "metadata": {},
   "outputs": [],
   "source": [
    "import os"
   ]
  },
  {
   "cell_type": "code",
   "execution_count": 2,
   "metadata": {},
   "outputs": [
    {
     "data": {
      "text/plain": [
       "'C:\\\\Users\\\\fanfan\\\\Documents\\\\Capstone\\\\DSCI_591_capstone-BCStats\\\\notebooks'"
      ]
     },
     "execution_count": 2,
     "metadata": {},
     "output_type": "execute_result"
    }
   ],
   "source": [
    "# check current working directory\n",
    "os.getcwd() "
   ]
  },
  {
   "cell_type": "code",
   "execution_count": 3,
   "metadata": {},
   "outputs": [
    {
     "data": {
      "text/plain": [
       "'C:\\\\Users\\\\fanfan\\\\Documents\\\\Capstone\\\\DSCI_591_capstone-BCStats'"
      ]
     },
     "execution_count": 3,
     "metadata": {},
     "output_type": "execute_result"
    }
   ],
   "source": [
    "# change the working directory to the root directory of the project\n",
    "os.chdir('../')\n",
    "os.getcwd()"
   ]
  },
  {
   "cell_type": "code",
   "execution_count": 73,
   "metadata": {},
   "outputs": [],
   "source": [
    "import pandas as pd\n",
    "import numpy as np\n",
    "#import tqdm\n",
    "from sklearn.model_selection import train_test_split\n",
    "from sklearn.feature_extraction.text import CountVectorizer\n",
    "from sklearn.svm import LinearSVC\n",
    "from skmultilearn.problem_transform import BinaryRelevance"
   ]
  },
  {
   "cell_type": "code",
   "execution_count": 7,
   "metadata": {},
   "outputs": [],
   "source": [
    "# read in 2018 qualitative data\n",
    "df_2018 = pd.read_csv(\"data/interim/train_2018-qualitative-data.csv\")\n",
    "\n",
    "df_2018 = df_2018[['2018 Comment']].join(df_2018.loc[:,'CPD':'OTH'])\n",
    "df_2018 = df_2018.rename(columns = {'2018 Comment' : 'comment'})\n",
    "\n",
    "categories = df_2018.loc[:,'CPD':'OTH'].columns.tolist()"
   ]
  },
  {
   "cell_type": "code",
   "execution_count": 42,
   "metadata": {},
   "outputs": [
    {
     "data": {
      "text/plain": [
       "['CPD',\n",
       " 'CB',\n",
       " 'EWC',\n",
       " 'Exec',\n",
       " 'FWE',\n",
       " 'SP',\n",
       " 'RE',\n",
       " 'Sup',\n",
       " 'SW',\n",
       " 'TEPE',\n",
       " 'VMG',\n",
       " 'OTH']"
      ]
     },
     "execution_count": 42,
     "metadata": {},
     "output_type": "execute_result"
    }
   ],
   "source": [
    "categories"
   ]
  },
  {
   "cell_type": "code",
   "execution_count": 9,
   "metadata": {},
   "outputs": [
    {
     "data": {
      "text/html": [
       "<div>\n",
       "<style scoped>\n",
       "    .dataframe tbody tr th:only-of-type {\n",
       "        vertical-align: middle;\n",
       "    }\n",
       "\n",
       "    .dataframe tbody tr th {\n",
       "        vertical-align: top;\n",
       "    }\n",
       "\n",
       "    .dataframe thead th {\n",
       "        text-align: right;\n",
       "    }\n",
       "</style>\n",
       "<table border=\"1\" class=\"dataframe\">\n",
       "  <thead>\n",
       "    <tr style=\"text-align: right;\">\n",
       "      <th></th>\n",
       "      <th>comment</th>\n",
       "      <th>CPD</th>\n",
       "      <th>CB</th>\n",
       "      <th>EWC</th>\n",
       "      <th>Exec</th>\n",
       "      <th>FWE</th>\n",
       "      <th>SP</th>\n",
       "      <th>RE</th>\n",
       "      <th>Sup</th>\n",
       "      <th>SW</th>\n",
       "      <th>TEPE</th>\n",
       "      <th>VMG</th>\n",
       "      <th>OTH</th>\n",
       "    </tr>\n",
       "  </thead>\n",
       "  <tbody>\n",
       "    <tr>\n",
       "      <th>0</th>\n",
       "      <td>I would suggest having a developmental growth ...</td>\n",
       "      <td>1</td>\n",
       "      <td>0</td>\n",
       "      <td>0</td>\n",
       "      <td>0</td>\n",
       "      <td>0</td>\n",
       "      <td>1</td>\n",
       "      <td>0</td>\n",
       "      <td>0</td>\n",
       "      <td>0</td>\n",
       "      <td>0</td>\n",
       "      <td>0</td>\n",
       "      <td>0</td>\n",
       "    </tr>\n",
       "    <tr>\n",
       "      <th>1</th>\n",
       "      <td>Base decisions regarding fish and wildlife on ...</td>\n",
       "      <td>0</td>\n",
       "      <td>0</td>\n",
       "      <td>0</td>\n",
       "      <td>0</td>\n",
       "      <td>0</td>\n",
       "      <td>0</td>\n",
       "      <td>0</td>\n",
       "      <td>0</td>\n",
       "      <td>0</td>\n",
       "      <td>0</td>\n",
       "      <td>1</td>\n",
       "      <td>0</td>\n",
       "    </tr>\n",
       "    <tr>\n",
       "      <th>2</th>\n",
       "      <td>Get rid of Leading Workplace Strategies and gi...</td>\n",
       "      <td>0</td>\n",
       "      <td>0</td>\n",
       "      <td>0</td>\n",
       "      <td>0</td>\n",
       "      <td>1</td>\n",
       "      <td>0</td>\n",
       "      <td>0</td>\n",
       "      <td>0</td>\n",
       "      <td>0</td>\n",
       "      <td>0</td>\n",
       "      <td>0</td>\n",
       "      <td>0</td>\n",
       "    </tr>\n",
       "    <tr>\n",
       "      <th>3</th>\n",
       "      <td>We are the lowest paid in Canada with a worklo...</td>\n",
       "      <td>0</td>\n",
       "      <td>1</td>\n",
       "      <td>0</td>\n",
       "      <td>0</td>\n",
       "      <td>0</td>\n",
       "      <td>1</td>\n",
       "      <td>0</td>\n",
       "      <td>0</td>\n",
       "      <td>0</td>\n",
       "      <td>0</td>\n",
       "      <td>0</td>\n",
       "      <td>0</td>\n",
       "    </tr>\n",
       "    <tr>\n",
       "      <th>4</th>\n",
       "      <td>Official acknowledgement of the limited divers...</td>\n",
       "      <td>0</td>\n",
       "      <td>0</td>\n",
       "      <td>1</td>\n",
       "      <td>0</td>\n",
       "      <td>0</td>\n",
       "      <td>1</td>\n",
       "      <td>0</td>\n",
       "      <td>0</td>\n",
       "      <td>0</td>\n",
       "      <td>0</td>\n",
       "      <td>0</td>\n",
       "      <td>0</td>\n",
       "    </tr>\n",
       "  </tbody>\n",
       "</table>\n",
       "</div>"
      ],
      "text/plain": [
       "                                             comment  CPD  CB  EWC  Exec  FWE  \\\n",
       "0  I would suggest having a developmental growth ...    1   0    0     0    0   \n",
       "1  Base decisions regarding fish and wildlife on ...    0   0    0     0    0   \n",
       "2  Get rid of Leading Workplace Strategies and gi...    0   0    0     0    1   \n",
       "3  We are the lowest paid in Canada with a worklo...    0   1    0     0    0   \n",
       "4  Official acknowledgement of the limited divers...    0   0    1     0    0   \n",
       "\n",
       "   SP  RE  Sup  SW  TEPE  VMG  OTH  \n",
       "0   1   0    0   0     0    0    0  \n",
       "1   0   0    0   0     0    1    0  \n",
       "2   0   0    0   0     0    0    0  \n",
       "3   1   0    0   0     0    0    0  \n",
       "4   1   0    0   0     0    0    0  "
      ]
     },
     "execution_count": 9,
     "metadata": {},
     "output_type": "execute_result"
    }
   ],
   "source": [
    "df_2018.head()"
   ]
  },
  {
   "cell_type": "code",
   "execution_count": 8,
   "metadata": {},
   "outputs": [],
   "source": [
    "from src.data.preprocessing_text import (\n",
    "    clean_text, clean_numbers, replace_typical_misspell, remove_stopwords,\n",
    "    balance_themes\n",
    ")"
   ]
  },
  {
   "cell_type": "code",
   "execution_count": 56,
   "metadata": {},
   "outputs": [],
   "source": [
    "from src.features.word_vectors import (\n",
    "    build_vocab, check_coverage, get_average_embeddings\n",
    ")"
   ]
  },
  {
   "cell_type": "code",
   "execution_count": 76,
   "metadata": {},
   "outputs": [],
   "source": [
    "from src.models.eval import theme_results"
   ]
  },
  {
   "cell_type": "markdown",
   "metadata": {},
   "source": [
    "#### Preprocessing"
   ]
  },
  {
   "cell_type": "code",
   "execution_count": 29,
   "metadata": {},
   "outputs": [],
   "source": [
    "# get the vacabulary size of the glove_twitter_model\n",
    "print(\"the vocabulary size in FastText model is\",len(glove_twitter_model.wv.vocab))\n",
    "\n",
    "# Preprocessing Data -- Remove punctuation, clean numbers, and fix spelling\n",
    "df_2018[\"comment\"] = df_2018[\"comment\"].apply(lambda x: clean_text(x))\n",
    "\n",
    "df_2018[\"comment\"] = df_2018[\"comment\"].apply(lambda x: clean_numbers(x))\n",
    "\n",
    "df_2018[\"comment\"] = df_2018[\"comment\"].apply(\n",
    "    lambda x: replace_typical_misspell(x)\n",
    ")\n",
    "\n",
    "sentences = df_2018[\"comment\"].str.split()\n",
    "sentences = remove_stopwords(sentences)"
   ]
  },
  {
   "cell_type": "markdown",
   "metadata": {},
   "source": [
    "###  GloVe embeddings -- Twitter"
   ]
  },
  {
   "cell_type": "markdown",
   "metadata": {},
   "source": [
    "Convert the GloVe embeddings to the Word2Vec format using the following command. \n",
    ">python -m gensim.scripts.glove2word2vec -i \"glove.twitter.27B.200d.txt\" -o \"glove.twitter.27B.200d.w2v.txt\""
   ]
  },
  {
   "cell_type": "code",
   "execution_count": 88,
   "metadata": {},
   "outputs": [],
   "source": [
    "from gensim.models import KeyedVectors\n",
    "glove_twitter_model = KeyedVectors.load_word2vec_format(\n",
    "    'references/pretrained_embeddings/glove.twitter.27B/glove.twitter.27B.200d.w2v.txt',\n",
    "    binary=False)  # C text format"
   ]
  },
  {
   "cell_type": "code",
   "execution_count": 89,
   "metadata": {},
   "outputs": [
    {
     "name": "stderr",
     "output_type": "stream",
     "text": [
      "C:\\Users\\fanfan\\Anaconda3\\lib\\site-packages\\ipykernel_launcher.py:2: DeprecationWarning: Call to deprecated `wv` (Attribute will be removed in 4.0.0, use self instead).\n",
      "  \n"
     ]
    },
    {
     "name": "stdout",
     "output_type": "stream",
     "text": [
      "the vocabulary size in FastText model is 1193514\n"
     ]
    }
   ],
   "source": [
    "# get the vacabulary size of the glove_twitter_model\n",
    "print(\"the vocabulary size in FastText model is\",len(glove_twitter_model.wv.vocab))"
   ]
  },
  {
   "cell_type": "code",
   "execution_count": 65,
   "metadata": {},
   "outputs": [],
   "source": [
    "# Build average word vectors to train on\n",
    "X_wv_twitter = np.array([get_average_embeddings(sentence, embeddings_index=glove_twitter_model,\n",
    "                                                n_features=200) for sentence in sentences])\n",
    "Y_twitter = np.array(df_2018.loc[:,\"CPD\":\"OTH\"])\n",
    "\n",
    "X_train_twitter, X_valid_twitter, Y_train_twitter, Y_valid_twitter = train_test_split(X_wv_twitter, Y_twitter, \n",
    "                                                            test_size=0.25, \n",
    "                                                            random_state=2019)"
   ]
  },
  {
   "cell_type": "code",
   "execution_count": 67,
   "metadata": {},
   "outputs": [
    {
     "data": {
      "text/plain": [
       "(9958, 200)"
      ]
     },
     "execution_count": 67,
     "metadata": {},
     "output_type": "execute_result"
    }
   ],
   "source": [
    "X_train_twitter.shape"
   ]
  },
  {
   "cell_type": "code",
   "execution_count": 68,
   "metadata": {},
   "outputs": [
    {
     "data": {
      "text/plain": [
       "(3320, 200)"
      ]
     },
     "execution_count": 68,
     "metadata": {},
     "output_type": "execute_result"
    }
   ],
   "source": [
    "X_valid_twitter.shape"
   ]
  },
  {
   "cell_type": "code",
   "execution_count": 69,
   "metadata": {},
   "outputs": [
    {
     "data": {
      "text/plain": [
       "(9958, 12)"
      ]
     },
     "execution_count": 69,
     "metadata": {},
     "output_type": "execute_result"
    }
   ],
   "source": [
    "Y_train_twitter.shape"
   ]
  },
  {
   "cell_type": "code",
   "execution_count": 70,
   "metadata": {},
   "outputs": [
    {
     "data": {
      "text/plain": [
       "(3320, 12)"
      ]
     },
     "execution_count": 70,
     "metadata": {},
     "output_type": "execute_result"
    }
   ],
   "source": [
    "Y_valid_twitter.shape"
   ]
  },
  {
   "cell_type": "markdown",
   "metadata": {},
   "source": [
    "#### LinearSVC"
   ]
  },
  {
   "cell_type": "code",
   "execution_count": 75,
   "metadata": {},
   "outputs": [
    {
     "name": "stderr",
     "output_type": "stream",
     "text": [
      "C:\\Users\\fanfan\\Anaconda3\\lib\\site-packages\\sklearn\\svm\\base.py:931: ConvergenceWarning: Liblinear failed to converge, increase the number of iterations.\n",
      "  \"the number of iterations.\", ConvergenceWarning)\n",
      "C:\\Users\\fanfan\\Anaconda3\\lib\\site-packages\\sklearn\\svm\\base.py:931: ConvergenceWarning: Liblinear failed to converge, increase the number of iterations.\n",
      "  \"the number of iterations.\", ConvergenceWarning)\n",
      "C:\\Users\\fanfan\\Anaconda3\\lib\\site-packages\\sklearn\\svm\\base.py:931: ConvergenceWarning: Liblinear failed to converge, increase the number of iterations.\n",
      "  \"the number of iterations.\", ConvergenceWarning)\n",
      "C:\\Users\\fanfan\\Anaconda3\\lib\\site-packages\\sklearn\\svm\\base.py:931: ConvergenceWarning: Liblinear failed to converge, increase the number of iterations.\n",
      "  \"the number of iterations.\", ConvergenceWarning)\n",
      "C:\\Users\\fanfan\\Anaconda3\\lib\\site-packages\\sklearn\\svm\\base.py:931: ConvergenceWarning: Liblinear failed to converge, increase the number of iterations.\n",
      "  \"the number of iterations.\", ConvergenceWarning)\n"
     ]
    }
   ],
   "source": [
    "classifier = BinaryRelevance(classifier=LinearSVC())\n",
    "classifier.fit(X_train_twitter,Y_train_twitter)\n",
    "prediction = classifier.predict(X_valid_twitter).toarray()"
   ]
  },
  {
   "cell_type": "code",
   "execution_count": 77,
   "metadata": {},
   "outputs": [
    {
     "name": "stdout",
     "output_type": "stream",
     "text": [
      "Overall Accuracy: 0.3178 \n",
      "Hamming Loss: 0.0913 \n",
      "Hamming Loss (pred. zeros): 0.1191\n"
     ]
    },
    {
     "data": {
      "text/html": [
       "<div>\n",
       "<style scoped>\n",
       "    .dataframe tbody tr th:only-of-type {\n",
       "        vertical-align: middle;\n",
       "    }\n",
       "\n",
       "    .dataframe tbody tr th {\n",
       "        vertical-align: top;\n",
       "    }\n",
       "\n",
       "    .dataframe thead th {\n",
       "        text-align: right;\n",
       "    }\n",
       "</style>\n",
       "<table border=\"1\" class=\"dataframe\">\n",
       "  <thead>\n",
       "    <tr style=\"text-align: right;\">\n",
       "      <th></th>\n",
       "      <th>Label</th>\n",
       "      <th>Y_proportion</th>\n",
       "      <th>Pred_proportion</th>\n",
       "      <th>Error</th>\n",
       "      <th>Dummy_Diff</th>\n",
       "      <th>Accuarcy</th>\n",
       "      <th>Precision</th>\n",
       "      <th>Recall</th>\n",
       "    </tr>\n",
       "  </thead>\n",
       "  <tbody>\n",
       "    <tr>\n",
       "      <th>0</th>\n",
       "      <td>CPD</td>\n",
       "      <td>0.127410</td>\n",
       "      <td>0.056024</td>\n",
       "      <td>0.099096</td>\n",
       "      <td>0.028313</td>\n",
       "      <td>0.900904</td>\n",
       "      <td>0.752688</td>\n",
       "      <td>0.330969</td>\n",
       "    </tr>\n",
       "    <tr>\n",
       "      <th>1</th>\n",
       "      <td>CB</td>\n",
       "      <td>0.184639</td>\n",
       "      <td>0.126807</td>\n",
       "      <td>0.089157</td>\n",
       "      <td>0.095482</td>\n",
       "      <td>0.910843</td>\n",
       "      <td>0.876485</td>\n",
       "      <td>0.601958</td>\n",
       "    </tr>\n",
       "    <tr>\n",
       "      <th>2</th>\n",
       "      <td>EWC</td>\n",
       "      <td>0.084337</td>\n",
       "      <td>0.013554</td>\n",
       "      <td>0.079217</td>\n",
       "      <td>0.005120</td>\n",
       "      <td>0.920783</td>\n",
       "      <td>0.688889</td>\n",
       "      <td>0.110714</td>\n",
       "    </tr>\n",
       "    <tr>\n",
       "      <th>3</th>\n",
       "      <td>Exec</td>\n",
       "      <td>0.103012</td>\n",
       "      <td>0.017470</td>\n",
       "      <td>0.098795</td>\n",
       "      <td>0.004217</td>\n",
       "      <td>0.901205</td>\n",
       "      <td>0.620690</td>\n",
       "      <td>0.105263</td>\n",
       "    </tr>\n",
       "    <tr>\n",
       "      <th>4</th>\n",
       "      <td>FWE</td>\n",
       "      <td>0.062048</td>\n",
       "      <td>0.025602</td>\n",
       "      <td>0.047892</td>\n",
       "      <td>0.014157</td>\n",
       "      <td>0.952108</td>\n",
       "      <td>0.776471</td>\n",
       "      <td>0.320388</td>\n",
       "    </tr>\n",
       "    <tr>\n",
       "      <th>5</th>\n",
       "      <td>SP</td>\n",
       "      <td>0.096386</td>\n",
       "      <td>0.025301</td>\n",
       "      <td>0.087952</td>\n",
       "      <td>0.008434</td>\n",
       "      <td>0.912048</td>\n",
       "      <td>0.666667</td>\n",
       "      <td>0.175000</td>\n",
       "    </tr>\n",
       "    <tr>\n",
       "      <th>6</th>\n",
       "      <td>RE</td>\n",
       "      <td>0.085542</td>\n",
       "      <td>0.008735</td>\n",
       "      <td>0.087048</td>\n",
       "      <td>-0.001506</td>\n",
       "      <td>0.912952</td>\n",
       "      <td>0.413793</td>\n",
       "      <td>0.042254</td>\n",
       "    </tr>\n",
       "    <tr>\n",
       "      <th>7</th>\n",
       "      <td>Sup</td>\n",
       "      <td>0.127711</td>\n",
       "      <td>0.029217</td>\n",
       "      <td>0.119578</td>\n",
       "      <td>0.008133</td>\n",
       "      <td>0.880422</td>\n",
       "      <td>0.639175</td>\n",
       "      <td>0.146226</td>\n",
       "    </tr>\n",
       "    <tr>\n",
       "      <th>8</th>\n",
       "      <td>SW</td>\n",
       "      <td>0.165964</td>\n",
       "      <td>0.060843</td>\n",
       "      <td>0.149096</td>\n",
       "      <td>0.016867</td>\n",
       "      <td>0.850904</td>\n",
       "      <td>0.638614</td>\n",
       "      <td>0.234120</td>\n",
       "    </tr>\n",
       "    <tr>\n",
       "      <th>9</th>\n",
       "      <td>TEPE</td>\n",
       "      <td>0.228614</td>\n",
       "      <td>0.193373</td>\n",
       "      <td>0.091265</td>\n",
       "      <td>0.137349</td>\n",
       "      <td>0.908735</td>\n",
       "      <td>0.855140</td>\n",
       "      <td>0.723320</td>\n",
       "    </tr>\n",
       "    <tr>\n",
       "      <th>10</th>\n",
       "      <td>VMG</td>\n",
       "      <td>0.135542</td>\n",
       "      <td>0.031627</td>\n",
       "      <td>0.121386</td>\n",
       "      <td>0.014157</td>\n",
       "      <td>0.878614</td>\n",
       "      <td>0.723810</td>\n",
       "      <td>0.168889</td>\n",
       "    </tr>\n",
       "    <tr>\n",
       "      <th>11</th>\n",
       "      <td>OTH</td>\n",
       "      <td>0.027711</td>\n",
       "      <td>0.003916</td>\n",
       "      <td>0.025000</td>\n",
       "      <td>0.002711</td>\n",
       "      <td>0.975000</td>\n",
       "      <td>0.846154</td>\n",
       "      <td>0.119565</td>\n",
       "    </tr>\n",
       "  </tbody>\n",
       "</table>\n",
       "</div>"
      ],
      "text/plain": [
       "   Label  Y_proportion  Pred_proportion     Error  Dummy_Diff  Accuarcy  \\\n",
       "0    CPD      0.127410         0.056024  0.099096    0.028313  0.900904   \n",
       "1     CB      0.184639         0.126807  0.089157    0.095482  0.910843   \n",
       "2    EWC      0.084337         0.013554  0.079217    0.005120  0.920783   \n",
       "3   Exec      0.103012         0.017470  0.098795    0.004217  0.901205   \n",
       "4    FWE      0.062048         0.025602  0.047892    0.014157  0.952108   \n",
       "5     SP      0.096386         0.025301  0.087952    0.008434  0.912048   \n",
       "6     RE      0.085542         0.008735  0.087048   -0.001506  0.912952   \n",
       "7    Sup      0.127711         0.029217  0.119578    0.008133  0.880422   \n",
       "8     SW      0.165964         0.060843  0.149096    0.016867  0.850904   \n",
       "9   TEPE      0.228614         0.193373  0.091265    0.137349  0.908735   \n",
       "10   VMG      0.135542         0.031627  0.121386    0.014157  0.878614   \n",
       "11   OTH      0.027711         0.003916  0.025000    0.002711  0.975000   \n",
       "\n",
       "    Precision    Recall  \n",
       "0    0.752688  0.330969  \n",
       "1    0.876485  0.601958  \n",
       "2    0.688889  0.110714  \n",
       "3    0.620690  0.105263  \n",
       "4    0.776471  0.320388  \n",
       "5    0.666667  0.175000  \n",
       "6    0.413793  0.042254  \n",
       "7    0.639175  0.146226  \n",
       "8    0.638614  0.234120  \n",
       "9    0.855140  0.723320  \n",
       "10   0.723810  0.168889  \n",
       "11   0.846154  0.119565  "
      ]
     },
     "execution_count": 77,
     "metadata": {},
     "output_type": "execute_result"
    }
   ],
   "source": [
    "theme_results(Y_valid_twitter,prediction)"
   ]
  },
  {
   "cell_type": "markdown",
   "metadata": {},
   "source": [
    "###  GloVe embeddings -- Wikipedia 2014 + Gigaword 5 "
   ]
  },
  {
   "cell_type": "markdown",
   "metadata": {},
   "source": [
    "Convert the GloVe embeddings to the Word2Vec format using the following command.\n",
    ">python -m gensim.scripts.glove2word2vec -i \"glove.6B.300d.txt\" -o \"glove.6B.300d.w2v.txt\""
   ]
  },
  {
   "cell_type": "code",
   "execution_count": 81,
   "metadata": {},
   "outputs": [],
   "source": [
    "glove_6B_model = KeyedVectors.load_word2vec_format(\n",
    "    'references/pretrained_embeddings/glove.6B/glove.6B.300d.w2v.txt', \n",
    "    binary=False)  # C text format"
   ]
  },
  {
   "cell_type": "code",
   "execution_count": 82,
   "metadata": {},
   "outputs": [
    {
     "name": "stderr",
     "output_type": "stream",
     "text": [
      "C:\\Users\\fanfan\\Anaconda3\\lib\\site-packages\\ipykernel_launcher.py:2: DeprecationWarning: Call to deprecated `wv` (Attribute will be removed in 4.0.0, use self instead).\n",
      "  \n"
     ]
    },
    {
     "name": "stdout",
     "output_type": "stream",
     "text": [
      "the vocabulary size in FastText model is 400000\n"
     ]
    }
   ],
   "source": [
    "# get the vacabulary size of the glove_6B_model\n",
    "print(\"the vocabulary size in FastText model is\",len(glove_6B_model.wv.vocab))"
   ]
  },
  {
   "cell_type": "code",
   "execution_count": 85,
   "metadata": {},
   "outputs": [],
   "source": [
    "# Build average word vectors to train on\n",
    "X_wv_6B = np.array([get_average_embeddings(sentence, embeddings_index=glove_6B_model, n_features=300)\n",
    "                 for sentence in sentences])\n",
    "Y_6B = np.array(df_2018.loc[:,\"CPD\":\"OTH\"])\n",
    "\n",
    "X_train_6B, X_valid_6B, Y_train_6B, Y_valid_6B = train_test_split(X_wv_6B, Y_6B, \n",
    "                                                            test_size=0.25, \n",
    "                                                            random_state=2019)"
   ]
  },
  {
   "cell_type": "code",
   "execution_count": 86,
   "metadata": {},
   "outputs": [],
   "source": [
    "classifier = BinaryRelevance(classifier=LinearSVC())\n",
    "classifier.fit(X_train_6B,Y_train_6B)\n",
    "prediction = classifier.predict(X_valid_6B).toarray()"
   ]
  },
  {
   "cell_type": "code",
   "execution_count": 87,
   "metadata": {},
   "outputs": [
    {
     "name": "stdout",
     "output_type": "stream",
     "text": [
      "Overall Accuracy: 0.3545 \n",
      "Hamming Loss: 0.0874 \n",
      "Hamming Loss (pred. zeros): 0.1191\n"
     ]
    },
    {
     "data": {
      "text/html": [
       "<div>\n",
       "<style scoped>\n",
       "    .dataframe tbody tr th:only-of-type {\n",
       "        vertical-align: middle;\n",
       "    }\n",
       "\n",
       "    .dataframe tbody tr th {\n",
       "        vertical-align: top;\n",
       "    }\n",
       "\n",
       "    .dataframe thead th {\n",
       "        text-align: right;\n",
       "    }\n",
       "</style>\n",
       "<table border=\"1\" class=\"dataframe\">\n",
       "  <thead>\n",
       "    <tr style=\"text-align: right;\">\n",
       "      <th></th>\n",
       "      <th>Label</th>\n",
       "      <th>Y_proportion</th>\n",
       "      <th>Pred_proportion</th>\n",
       "      <th>Error</th>\n",
       "      <th>Dummy_Diff</th>\n",
       "      <th>Accuarcy</th>\n",
       "      <th>Precision</th>\n",
       "      <th>Recall</th>\n",
       "    </tr>\n",
       "  </thead>\n",
       "  <tbody>\n",
       "    <tr>\n",
       "      <th>0</th>\n",
       "      <td>CPD</td>\n",
       "      <td>0.127410</td>\n",
       "      <td>0.060843</td>\n",
       "      <td>0.095482</td>\n",
       "      <td>0.031928</td>\n",
       "      <td>0.904518</td>\n",
       "      <td>0.762376</td>\n",
       "      <td>0.364066</td>\n",
       "    </tr>\n",
       "    <tr>\n",
       "      <th>1</th>\n",
       "      <td>CB</td>\n",
       "      <td>0.184639</td>\n",
       "      <td>0.134036</td>\n",
       "      <td>0.083133</td>\n",
       "      <td>0.101506</td>\n",
       "      <td>0.916867</td>\n",
       "      <td>0.878652</td>\n",
       "      <td>0.637847</td>\n",
       "    </tr>\n",
       "    <tr>\n",
       "      <th>2</th>\n",
       "      <td>EWC</td>\n",
       "      <td>0.084337</td>\n",
       "      <td>0.016566</td>\n",
       "      <td>0.076807</td>\n",
       "      <td>0.007530</td>\n",
       "      <td>0.923193</td>\n",
       "      <td>0.727273</td>\n",
       "      <td>0.142857</td>\n",
       "    </tr>\n",
       "    <tr>\n",
       "      <th>3</th>\n",
       "      <td>Exec</td>\n",
       "      <td>0.103012</td>\n",
       "      <td>0.021988</td>\n",
       "      <td>0.099096</td>\n",
       "      <td>0.003916</td>\n",
       "      <td>0.900904</td>\n",
       "      <td>0.589041</td>\n",
       "      <td>0.125731</td>\n",
       "    </tr>\n",
       "    <tr>\n",
       "      <th>4</th>\n",
       "      <td>FWE</td>\n",
       "      <td>0.062048</td>\n",
       "      <td>0.027711</td>\n",
       "      <td>0.046386</td>\n",
       "      <td>0.015663</td>\n",
       "      <td>0.953614</td>\n",
       "      <td>0.782609</td>\n",
       "      <td>0.349515</td>\n",
       "    </tr>\n",
       "    <tr>\n",
       "      <th>5</th>\n",
       "      <td>SP</td>\n",
       "      <td>0.096386</td>\n",
       "      <td>0.038855</td>\n",
       "      <td>0.078614</td>\n",
       "      <td>0.017771</td>\n",
       "      <td>0.921386</td>\n",
       "      <td>0.728682</td>\n",
       "      <td>0.293750</td>\n",
       "    </tr>\n",
       "    <tr>\n",
       "      <th>6</th>\n",
       "      <td>RE</td>\n",
       "      <td>0.085542</td>\n",
       "      <td>0.010241</td>\n",
       "      <td>0.081325</td>\n",
       "      <td>0.004217</td>\n",
       "      <td>0.918675</td>\n",
       "      <td>0.705882</td>\n",
       "      <td>0.084507</td>\n",
       "    </tr>\n",
       "    <tr>\n",
       "      <th>7</th>\n",
       "      <td>Sup</td>\n",
       "      <td>0.127711</td>\n",
       "      <td>0.037048</td>\n",
       "      <td>0.116566</td>\n",
       "      <td>0.011145</td>\n",
       "      <td>0.883434</td>\n",
       "      <td>0.650407</td>\n",
       "      <td>0.188679</td>\n",
       "    </tr>\n",
       "    <tr>\n",
       "      <th>8</th>\n",
       "      <td>SW</td>\n",
       "      <td>0.165964</td>\n",
       "      <td>0.071687</td>\n",
       "      <td>0.140060</td>\n",
       "      <td>0.025904</td>\n",
       "      <td>0.859940</td>\n",
       "      <td>0.680672</td>\n",
       "      <td>0.294011</td>\n",
       "    </tr>\n",
       "    <tr>\n",
       "      <th>9</th>\n",
       "      <td>TEPE</td>\n",
       "      <td>0.228614</td>\n",
       "      <td>0.192169</td>\n",
       "      <td>0.091867</td>\n",
       "      <td>0.136747</td>\n",
       "      <td>0.908133</td>\n",
       "      <td>0.855799</td>\n",
       "      <td>0.719368</td>\n",
       "    </tr>\n",
       "    <tr>\n",
       "      <th>10</th>\n",
       "      <td>VMG</td>\n",
       "      <td>0.135542</td>\n",
       "      <td>0.045783</td>\n",
       "      <td>0.115060</td>\n",
       "      <td>0.020482</td>\n",
       "      <td>0.884940</td>\n",
       "      <td>0.723684</td>\n",
       "      <td>0.244444</td>\n",
       "    </tr>\n",
       "    <tr>\n",
       "      <th>11</th>\n",
       "      <td>OTH</td>\n",
       "      <td>0.027711</td>\n",
       "      <td>0.006325</td>\n",
       "      <td>0.025000</td>\n",
       "      <td>0.002711</td>\n",
       "      <td>0.975000</td>\n",
       "      <td>0.714286</td>\n",
       "      <td>0.163043</td>\n",
       "    </tr>\n",
       "  </tbody>\n",
       "</table>\n",
       "</div>"
      ],
      "text/plain": [
       "   Label  Y_proportion  Pred_proportion     Error  Dummy_Diff  Accuarcy  \\\n",
       "0    CPD      0.127410         0.060843  0.095482    0.031928  0.904518   \n",
       "1     CB      0.184639         0.134036  0.083133    0.101506  0.916867   \n",
       "2    EWC      0.084337         0.016566  0.076807    0.007530  0.923193   \n",
       "3   Exec      0.103012         0.021988  0.099096    0.003916  0.900904   \n",
       "4    FWE      0.062048         0.027711  0.046386    0.015663  0.953614   \n",
       "5     SP      0.096386         0.038855  0.078614    0.017771  0.921386   \n",
       "6     RE      0.085542         0.010241  0.081325    0.004217  0.918675   \n",
       "7    Sup      0.127711         0.037048  0.116566    0.011145  0.883434   \n",
       "8     SW      0.165964         0.071687  0.140060    0.025904  0.859940   \n",
       "9   TEPE      0.228614         0.192169  0.091867    0.136747  0.908133   \n",
       "10   VMG      0.135542         0.045783  0.115060    0.020482  0.884940   \n",
       "11   OTH      0.027711         0.006325  0.025000    0.002711  0.975000   \n",
       "\n",
       "    Precision    Recall  \n",
       "0    0.762376  0.364066  \n",
       "1    0.878652  0.637847  \n",
       "2    0.727273  0.142857  \n",
       "3    0.589041  0.125731  \n",
       "4    0.782609  0.349515  \n",
       "5    0.728682  0.293750  \n",
       "6    0.705882  0.084507  \n",
       "7    0.650407  0.188679  \n",
       "8    0.680672  0.294011  \n",
       "9    0.855799  0.719368  \n",
       "10   0.723684  0.244444  \n",
       "11   0.714286  0.163043  "
      ]
     },
     "execution_count": 87,
     "metadata": {},
     "output_type": "execute_result"
    }
   ],
   "source": [
    "theme_results(Y_valid_6B,prediction)"
   ]
  },
  {
   "cell_type": "markdown",
   "metadata": {},
   "source": [
    "###  GloVe embeddings -- Common Crawl"
   ]
  },
  {
   "cell_type": "markdown",
   "metadata": {},
   "source": [
    "Convert the GloVe embeddings to the Word2Vec format using the following command.\n",
    "\n",
    ">python -m gensim.scripts.glove2word2vec -i \"glove.840B.300d.txt\" -o \"glove.840B.300d.w2v.txt\""
   ]
  },
  {
   "cell_type": "code",
   "execution_count": 90,
   "metadata": {},
   "outputs": [],
   "source": [
    "glove_840B_model = KeyedVectors.load_word2vec_format(\n",
    "    'references/pretrained_embeddings/glove.840B.300d/glove.840B.300d.w2v.txt', \n",
    "    binary=False)  # C text format"
   ]
  },
  {
   "cell_type": "code",
   "execution_count": 92,
   "metadata": {},
   "outputs": [
    {
     "name": "stderr",
     "output_type": "stream",
     "text": [
      "C:\\Users\\fanfan\\Anaconda3\\lib\\site-packages\\ipykernel_launcher.py:2: DeprecationWarning: Call to deprecated `wv` (Attribute will be removed in 4.0.0, use self instead).\n",
      "  \n"
     ]
    },
    {
     "name": "stdout",
     "output_type": "stream",
     "text": [
      "the vocabulary size in FastText model is 2196016\n"
     ]
    }
   ],
   "source": [
    "# get the vacabulary size of the glove_840B_model\n",
    "print(\"the vocabulary size in FastText model is\",len(glove_840B_model.wv.vocab))"
   ]
  },
  {
   "cell_type": "code",
   "execution_count": 93,
   "metadata": {},
   "outputs": [],
   "source": [
    "# Build average word vectors to train on\n",
    "X_wv_840B = np.array([get_average_embeddings(sentence, embeddings_index=glove_840B_model, \n",
    "                                             n_features=300) for sentence in sentences])\n",
    "Y_840B = np.array(df_2018.loc[:,\"CPD\":\"OTH\"])\n",
    "\n",
    "X_train_840B, X_valid_840B, Y_train_840B, Y_valid_840B = train_test_split(X_wv_840B, Y_840B, \n",
    "                                                            test_size=0.25, \n",
    "                                                            random_state=2019)"
   ]
  },
  {
   "cell_type": "code",
   "execution_count": 94,
   "metadata": {},
   "outputs": [],
   "source": [
    "classifier = BinaryRelevance(classifier=LinearSVC())\n",
    "classifier.fit(X_train_840B,Y_train_840B)\n",
    "prediction = classifier.predict(X_valid_840B).toarray()"
   ]
  },
  {
   "cell_type": "code",
   "execution_count": 95,
   "metadata": {},
   "outputs": [
    {
     "name": "stdout",
     "output_type": "stream",
     "text": [
      "Overall Accuracy: 0.3946 \n",
      "Hamming Loss: 0.0822 \n",
      "Hamming Loss (pred. zeros): 0.1191\n"
     ]
    },
    {
     "data": {
      "text/html": [
       "<div>\n",
       "<style scoped>\n",
       "    .dataframe tbody tr th:only-of-type {\n",
       "        vertical-align: middle;\n",
       "    }\n",
       "\n",
       "    .dataframe tbody tr th {\n",
       "        vertical-align: top;\n",
       "    }\n",
       "\n",
       "    .dataframe thead th {\n",
       "        text-align: right;\n",
       "    }\n",
       "</style>\n",
       "<table border=\"1\" class=\"dataframe\">\n",
       "  <thead>\n",
       "    <tr style=\"text-align: right;\">\n",
       "      <th></th>\n",
       "      <th>Label</th>\n",
       "      <th>Y_proportion</th>\n",
       "      <th>Pred_proportion</th>\n",
       "      <th>Error</th>\n",
       "      <th>Dummy_Diff</th>\n",
       "      <th>Accuarcy</th>\n",
       "      <th>Precision</th>\n",
       "      <th>Recall</th>\n",
       "    </tr>\n",
       "  </thead>\n",
       "  <tbody>\n",
       "    <tr>\n",
       "      <th>0</th>\n",
       "      <td>CPD</td>\n",
       "      <td>0.127410</td>\n",
       "      <td>0.068072</td>\n",
       "      <td>0.090060</td>\n",
       "      <td>0.037349</td>\n",
       "      <td>0.909940</td>\n",
       "      <td>0.774336</td>\n",
       "      <td>0.413712</td>\n",
       "    </tr>\n",
       "    <tr>\n",
       "      <th>1</th>\n",
       "      <td>CB</td>\n",
       "      <td>0.184639</td>\n",
       "      <td>0.146084</td>\n",
       "      <td>0.072289</td>\n",
       "      <td>0.112349</td>\n",
       "      <td>0.927711</td>\n",
       "      <td>0.884536</td>\n",
       "      <td>0.699837</td>\n",
       "    </tr>\n",
       "    <tr>\n",
       "      <th>2</th>\n",
       "      <td>EWC</td>\n",
       "      <td>0.084337</td>\n",
       "      <td>0.023795</td>\n",
       "      <td>0.076205</td>\n",
       "      <td>0.008133</td>\n",
       "      <td>0.923795</td>\n",
       "      <td>0.670886</td>\n",
       "      <td>0.189286</td>\n",
       "    </tr>\n",
       "    <tr>\n",
       "      <th>3</th>\n",
       "      <td>Exec</td>\n",
       "      <td>0.103012</td>\n",
       "      <td>0.043675</td>\n",
       "      <td>0.084639</td>\n",
       "      <td>0.018373</td>\n",
       "      <td>0.915361</td>\n",
       "      <td>0.710345</td>\n",
       "      <td>0.301170</td>\n",
       "    </tr>\n",
       "    <tr>\n",
       "      <th>4</th>\n",
       "      <td>FWE</td>\n",
       "      <td>0.062048</td>\n",
       "      <td>0.040361</td>\n",
       "      <td>0.041566</td>\n",
       "      <td>0.020482</td>\n",
       "      <td>0.958434</td>\n",
       "      <td>0.753731</td>\n",
       "      <td>0.490291</td>\n",
       "    </tr>\n",
       "    <tr>\n",
       "      <th>5</th>\n",
       "      <td>SP</td>\n",
       "      <td>0.096386</td>\n",
       "      <td>0.041566</td>\n",
       "      <td>0.079518</td>\n",
       "      <td>0.016867</td>\n",
       "      <td>0.920482</td>\n",
       "      <td>0.702899</td>\n",
       "      <td>0.303125</td>\n",
       "    </tr>\n",
       "    <tr>\n",
       "      <th>6</th>\n",
       "      <td>RE</td>\n",
       "      <td>0.085542</td>\n",
       "      <td>0.015060</td>\n",
       "      <td>0.080723</td>\n",
       "      <td>0.004819</td>\n",
       "      <td>0.919277</td>\n",
       "      <td>0.660000</td>\n",
       "      <td>0.116197</td>\n",
       "    </tr>\n",
       "    <tr>\n",
       "      <th>7</th>\n",
       "      <td>Sup</td>\n",
       "      <td>0.127711</td>\n",
       "      <td>0.048795</td>\n",
       "      <td>0.113855</td>\n",
       "      <td>0.013855</td>\n",
       "      <td>0.886145</td>\n",
       "      <td>0.641975</td>\n",
       "      <td>0.245283</td>\n",
       "    </tr>\n",
       "    <tr>\n",
       "      <th>8</th>\n",
       "      <td>SW</td>\n",
       "      <td>0.165964</td>\n",
       "      <td>0.080723</td>\n",
       "      <td>0.132831</td>\n",
       "      <td>0.033133</td>\n",
       "      <td>0.867169</td>\n",
       "      <td>0.705224</td>\n",
       "      <td>0.343013</td>\n",
       "    </tr>\n",
       "    <tr>\n",
       "      <th>9</th>\n",
       "      <td>TEPE</td>\n",
       "      <td>0.228614</td>\n",
       "      <td>0.203313</td>\n",
       "      <td>0.081928</td>\n",
       "      <td>0.146687</td>\n",
       "      <td>0.918072</td>\n",
       "      <td>0.860741</td>\n",
       "      <td>0.765481</td>\n",
       "    </tr>\n",
       "    <tr>\n",
       "      <th>10</th>\n",
       "      <td>VMG</td>\n",
       "      <td>0.135542</td>\n",
       "      <td>0.061145</td>\n",
       "      <td>0.108735</td>\n",
       "      <td>0.026807</td>\n",
       "      <td>0.891265</td>\n",
       "      <td>0.719212</td>\n",
       "      <td>0.324444</td>\n",
       "    </tr>\n",
       "    <tr>\n",
       "      <th>11</th>\n",
       "      <td>OTH</td>\n",
       "      <td>0.027711</td>\n",
       "      <td>0.006024</td>\n",
       "      <td>0.024096</td>\n",
       "      <td>0.003614</td>\n",
       "      <td>0.975904</td>\n",
       "      <td>0.800000</td>\n",
       "      <td>0.173913</td>\n",
       "    </tr>\n",
       "  </tbody>\n",
       "</table>\n",
       "</div>"
      ],
      "text/plain": [
       "   Label  Y_proportion  Pred_proportion     Error  Dummy_Diff  Accuarcy  \\\n",
       "0    CPD      0.127410         0.068072  0.090060    0.037349  0.909940   \n",
       "1     CB      0.184639         0.146084  0.072289    0.112349  0.927711   \n",
       "2    EWC      0.084337         0.023795  0.076205    0.008133  0.923795   \n",
       "3   Exec      0.103012         0.043675  0.084639    0.018373  0.915361   \n",
       "4    FWE      0.062048         0.040361  0.041566    0.020482  0.958434   \n",
       "5     SP      0.096386         0.041566  0.079518    0.016867  0.920482   \n",
       "6     RE      0.085542         0.015060  0.080723    0.004819  0.919277   \n",
       "7    Sup      0.127711         0.048795  0.113855    0.013855  0.886145   \n",
       "8     SW      0.165964         0.080723  0.132831    0.033133  0.867169   \n",
       "9   TEPE      0.228614         0.203313  0.081928    0.146687  0.918072   \n",
       "10   VMG      0.135542         0.061145  0.108735    0.026807  0.891265   \n",
       "11   OTH      0.027711         0.006024  0.024096    0.003614  0.975904   \n",
       "\n",
       "    Precision    Recall  \n",
       "0    0.774336  0.413712  \n",
       "1    0.884536  0.699837  \n",
       "2    0.670886  0.189286  \n",
       "3    0.710345  0.301170  \n",
       "4    0.753731  0.490291  \n",
       "5    0.702899  0.303125  \n",
       "6    0.660000  0.116197  \n",
       "7    0.641975  0.245283  \n",
       "8    0.705224  0.343013  \n",
       "9    0.860741  0.765481  \n",
       "10   0.719212  0.324444  \n",
       "11   0.800000  0.173913  "
      ]
     },
     "execution_count": 95,
     "metadata": {},
     "output_type": "execute_result"
    }
   ],
   "source": [
    "theme_results(Y_valid_840B,prediction)"
   ]
  }
 ],
 "metadata": {
  "kernelspec": {
   "display_name": "Python 3",
   "language": "python",
   "name": "python3"
  },
  "language_info": {
   "codemirror_mode": {
    "name": "ipython",
    "version": 3
   },
   "file_extension": ".py",
   "mimetype": "text/x-python",
   "name": "python",
   "nbconvert_exporter": "python",
   "pygments_lexer": "ipython3",
   "version": "3.6.8"
  }
 },
 "nbformat": 4,
 "nbformat_minor": 2
}
