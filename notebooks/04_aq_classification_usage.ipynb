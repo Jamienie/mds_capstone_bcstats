{
 "cells": [
  {
   "cell_type": "markdown",
   "metadata": {},
   "source": [
    "# Classification Notebook Instructions"
   ]
  },
  {
   "cell_type": "code",
   "execution_count": 1,
   "metadata": {},
   "outputs": [
    {
     "data": {
      "text/plain": [
       "'/Users/aaronquinton/Documents/UBC-MDS/Capstone/BCstats/DSCI_591_capstone-BCStats'"
      ]
     },
     "execution_count": 1,
     "metadata": {},
     "output_type": "execute_result"
    }
   ],
   "source": [
    "# Change working directory to be the project root\n",
    "import os\n",
    "os.chdir(\"..\")\n",
    "os.getcwd()"
   ]
  },
  {
   "cell_type": "markdown",
   "metadata": {},
   "source": [
    "## How to: Train Model on Comment Data"
   ]
  },
  {
   "cell_type": "code",
   "execution_count": 3,
   "metadata": {},
   "outputs": [],
   "source": [
    "# Import functions\n",
    "import pandas as pd\n",
    "import numpy as np\n",
    "from src.models.wes_classification import model_theme_train"
   ]
  },
  {
   "cell_type": "code",
   "execution_count": 182,
   "metadata": {},
   "outputs": [],
   "source": [
    "# Read in Qualitative Comments and format for training model\n",
    "df = pd.read_csv(\"data/interim/train_2018-qualitative-data.csv\", skiprows=0)\n",
    "df = df[['2018 Comment']].join(df.loc[:,'CPD':'OTH'])\n",
    "df = df.rename(columns = {'2018 Comment' : 'comment'})\n",
    "\n",
    "Y = np.array(df.loc[:,\"CPD\":\"OTH\"])"
   ]
  },
  {
   "cell_type": "code",
   "execution_count": 184,
   "metadata": {},
   "outputs": [
    {
     "data": {
      "text/plain": [
       "0        I would suggest having a developmental growth ...\n",
       "1        Base decisions regarding fish and wildlife on ...\n",
       "2        Get rid of Leading Workplace Strategies and gi...\n",
       "3        We are the lowest paid in Canada with a worklo...\n",
       "4        Official acknowledgement of the limited divers...\n",
       "5        Long term goals are identified on EPDPs (staff...\n",
       "6        I feel the hiring process is very daunting and...\n",
       "7        update in technology and increased funding for...\n",
       "8        Increase understanding within higher levels of...\n",
       "9        Longer auxiliary timelines as there is a lot t...\n",
       "10       Flexible work - Work from home allowed for mob...\n",
       "11       That hiring of staff was more timely, it takes...\n",
       "12       More flexibility to participate in courses tha...\n",
       "13       Policy writers would enhance policy by writing...\n",
       "14       support for immediately hiring into funded vac...\n",
       "15       more funding for scientific data collection to...\n",
       "16       Continue to foster a respectful workplace. It ...\n",
       "17              Implement effective performance management\n",
       "18       Staff Recruitment and retention in the harder ...\n",
       "19       Reconsider the LWS plan with a review of compa...\n",
       "20       Collaborative approach within branch or organi...\n",
       "21       When we offer suggestions to improve our work ...\n",
       "22       I would like to be offered more LWS options, o...\n",
       "23                            Leading workplace strategies\n",
       "24       To actually use the results of these surveys, ...\n",
       "25       Secure more resourcing and funding to build, d...\n",
       "26       Keep politics out of technical work.  At times...\n",
       "27       There is a lack of female leadership in the na...\n",
       "28       How many times do we have to keep taking these...\n",
       "29       Government postings for competitions ask appli...\n",
       "                               ...                        \n",
       "13248    Having a mobile work space reduces efficiency....\n",
       "13249    The temperature in the office is poorly regula...\n",
       "13250    MCFD's social workers make significantly less ...\n",
       "13251    extend or make permanent already employed Cler...\n",
       "13252    Provide adequate work/office space for all emp...\n",
       "13253    I haven't been here long enough to offer sugge...\n",
       "13254    Clarity with training and orientation strategi...\n",
       "13255                                                  pay\n",
       "13256    Working in the call centre for Autism Funding,...\n",
       "13257    It would beneficial that ALL new Clinicians ha...\n",
       "13258    A focus on retention of senior employees and m...\n",
       "13259    It would be great if the organization valued a...\n",
       "13260       Improved/expanded office space for admin staff\n",
       "13261    I think as admin staff we need more access to ...\n",
       "13262    Taking a closer look at how every office funct...\n",
       "13263    I would like to see more meaningful and practi...\n",
       "13264    It is challenging to be on Auxiliary appointme...\n",
       "13265    As a new worker in the office (been here appro...\n",
       "13266                                      Better heating.\n",
       "13267    Better accountability in regards to policy imp...\n",
       "13268    Clear training manuals for ADMIN staff. Easy r...\n",
       "13269    Better pay and benefits. The cost of living in...\n",
       "13270    Our office is extremely busy and understaffed!...\n",
       "13271    Diversity in the work place for small towns sh...\n",
       "13272    I believe that there isn't enough staff in my ...\n",
       "13273           safer parking for the office where I work.\n",
       "13274    My office is always too cold and the temperatu...\n",
       "13275        Updates in technology hardware and software. \n",
       "13276    heat in our office. It is very cold in here al...\n",
       "13277    Compensation, leave and benefits. Ex. being pa...\n",
       "Name: comment, Length: 13278, dtype: object"
      ]
     },
     "execution_count": 184,
     "metadata": {},
     "output_type": "execute_result"
    }
   ],
   "source": [
    "df.iloc[:,0]"
   ]
  },
  {
   "cell_type": "code",
   "execution_count": 180,
   "metadata": {},
   "outputs": [],
   "source": [
    "import argparse"
   ]
  },
  {
   "cell_type": "code",
   "execution_count": 181,
   "metadata": {},
   "outputs": [],
   "source": [
    "parser = argparse.ArgumentParser()"
   ]
  },
  {
   "cell_type": "code",
   "execution_count": null,
   "metadata": {},
   "outputs": [],
   "source": [
    "parser.add_argument()"
   ]
  },
  {
   "cell_type": "code",
   "execution_count": 5,
   "metadata": {},
   "outputs": [],
   "source": [
    "# File Paths for the Pre-trained Embeddings\n",
    "fname_fasttext_crawl = \"./references/pretrained_embeddings.nosync/fasttext/\" \\\n",
    "                       \"crawl-300d-2M.vec\"\n",
    "fname_w2v_googlenews = \"./references/pretrained_embeddings.nosync/w2v/\" \\\n",
    "                       \"GoogleNews-vectors-negative300.bin\"\n",
    "fname_glove_wiki = \"./references/pretrained_embeddings.nosync/glove/\" \\\n",
    "                      \"glove.6B.300d.w2v.txt\"\n",
    "fname_glove_crawl = \"./references/pretrained_embeddings.nosync/glove/\" \\\n",
    "                      \"glove.840B.300d.w2v.txt\""
   ]
  },
  {
   "cell_type": "code",
   "execution_count": 6,
   "metadata": {},
   "outputs": [
    {
     "name": "stdout",
     "output_type": "stream",
     "text": [
      "Train on 11286 samples, validate on 1992 samples\n",
      "Epoch 1/16\n",
      "11286/11286 [==============================] - 337s 30ms/step - loss: 0.3314 - acc: 0.8837 - val_loss: 0.2523 - val_acc: 0.9083\n",
      "Epoch 2/16\n",
      "11286/11286 [==============================] - 331s 29ms/step - loss: 0.2220 - acc: 0.9185 - val_loss: 0.2097 - val_acc: 0.9214\n",
      "Epoch 3/16\n",
      "11286/11286 [==============================] - 330s 29ms/step - loss: 0.1915 - acc: 0.9288 - val_loss: 0.1899 - val_acc: 0.9277\n",
      "Epoch 4/16\n",
      "11286/11286 [==============================] - 325s 29ms/step - loss: 0.1739 - acc: 0.9342 - val_loss: 0.1860 - val_acc: 0.9285\n",
      "Epoch 5/16\n",
      "11286/11286 [==============================] - 323s 29ms/step - loss: 0.1618 - acc: 0.9380 - val_loss: 0.1819 - val_acc: 0.9328\n",
      "Epoch 6/16\n",
      "11286/11286 [==============================] - 324s 29ms/step - loss: 0.1516 - acc: 0.9418 - val_loss: 0.1822 - val_acc: 0.9309\n",
      "Epoch 7/16\n",
      "11286/11286 [==============================] - 325s 29ms/step - loss: 0.1412 - acc: 0.9459 - val_loss: 0.1746 - val_acc: 0.9344\n",
      "Epoch 8/16\n",
      "11286/11286 [==============================] - 327s 29ms/step - loss: 0.1327 - acc: 0.9491 - val_loss: 0.1753 - val_acc: 0.9357\n",
      "Epoch 9/16\n",
      "11286/11286 [==============================] - 324s 29ms/step - loss: 0.1257 - acc: 0.9516 - val_loss: 0.1758 - val_acc: 0.9342\n",
      "Epoch 10/16\n",
      "11286/11286 [==============================] - 328s 29ms/step - loss: 0.1170 - acc: 0.9552 - val_loss: 0.1752 - val_acc: 0.9344\n",
      "Epoch 11/16\n",
      "11286/11286 [==============================] - 322s 29ms/step - loss: 0.1072 - acc: 0.9592 - val_loss: 0.1741 - val_acc: 0.9370\n",
      "Epoch 12/16\n",
      "11286/11286 [==============================] - 322s 29ms/step - loss: 0.1006 - acc: 0.9614 - val_loss: 0.1830 - val_acc: 0.9331\n",
      "Epoch 13/16\n",
      "11286/11286 [==============================] - 322s 29ms/step - loss: 0.0926 - acc: 0.9649 - val_loss: 0.1838 - val_acc: 0.9357\n",
      "Epoch 14/16\n",
      "11286/11286 [==============================] - 324s 29ms/step - loss: 0.0860 - acc: 0.9677 - val_loss: 0.1954 - val_acc: 0.9299\n",
      "Epoch 15/16\n",
      "11286/11286 [==============================] - 322s 29ms/step - loss: 0.0780 - acc: 0.9710 - val_loss: 0.1926 - val_acc: 0.9344\n",
      "Epoch 16/16\n",
      "11286/11286 [==============================] - 321s 28ms/step - loss: 0.0705 - acc: 0.9743 - val_loss: 0.1992 - val_acc: 0.9329\n",
      "Train on 11286 samples, validate on 1992 samples\n",
      "Epoch 1/16\n",
      "11286/11286 [==============================] - 323s 29ms/step - loss: 0.3239 - acc: 0.8887 - val_loss: 0.2598 - val_acc: 0.9075\n",
      "Epoch 2/16\n",
      "11286/11286 [==============================] - 321s 28ms/step - loss: 0.2268 - acc: 0.9187 - val_loss: 0.2105 - val_acc: 0.9234\n",
      "Epoch 3/16\n",
      "11286/11286 [==============================] - 321s 28ms/step - loss: 0.1958 - acc: 0.9271 - val_loss: 0.2011 - val_acc: 0.9259\n",
      "Epoch 4/16\n",
      "11286/11286 [==============================] - 321s 28ms/step - loss: 0.1788 - acc: 0.9326 - val_loss: 0.1912 - val_acc: 0.9287\n",
      "Epoch 5/16\n",
      "11286/11286 [==============================] - 321s 28ms/step - loss: 0.1651 - acc: 0.9375 - val_loss: 0.1824 - val_acc: 0.9306\n",
      "Epoch 6/16\n",
      "11286/11286 [==============================] - 322s 28ms/step - loss: 0.1537 - acc: 0.9416 - val_loss: 0.1805 - val_acc: 0.9314\n",
      "Epoch 7/16\n",
      "11286/11286 [==============================] - 322s 28ms/step - loss: 0.1439 - acc: 0.9453 - val_loss: 0.1769 - val_acc: 0.9334\n",
      "Epoch 8/16\n",
      "11286/11286 [==============================] - 325s 29ms/step - loss: 0.1344 - acc: 0.9491 - val_loss: 0.1753 - val_acc: 0.9350\n",
      "Epoch 9/16\n",
      "11286/11286 [==============================] - 325s 29ms/step - loss: 0.1254 - acc: 0.9519 - val_loss: 0.1800 - val_acc: 0.9331\n",
      "Epoch 10/16\n",
      "11286/11286 [==============================] - 322s 29ms/step - loss: 0.1164 - acc: 0.9560 - val_loss: 0.1790 - val_acc: 0.9335\n",
      "Epoch 11/16\n",
      "11286/11286 [==============================] - 319s 28ms/step - loss: 0.1075 - acc: 0.9599 - val_loss: 0.1853 - val_acc: 0.9319\n",
      "Epoch 12/16\n",
      "11286/11286 [==============================] - 321s 28ms/step - loss: 0.1000 - acc: 0.9623 - val_loss: 0.1847 - val_acc: 0.9342\n",
      "Epoch 13/16\n",
      "11286/11286 [==============================] - 322s 28ms/step - loss: 0.0913 - acc: 0.9660 - val_loss: 0.1895 - val_acc: 0.9347\n",
      "Epoch 14/16\n",
      "11286/11286 [==============================] - 323s 29ms/step - loss: 0.0824 - acc: 0.9692 - val_loss: 0.1966 - val_acc: 0.9329\n",
      "Epoch 15/16\n",
      "11286/11286 [==============================] - 321s 28ms/step - loss: 0.0759 - acc: 0.9720 - val_loss: 0.2004 - val_acc: 0.9317\n",
      "Epoch 16/16\n",
      "11286/11286 [==============================] - 321s 28ms/step - loss: 0.0680 - acc: 0.9753 - val_loss: 0.2113 - val_acc: 0.9297\n"
     ]
    },
    {
     "ename": "FileNotFoundError",
     "evalue": "[Errno 2] No such file or directory: './references/pretrained_embeddings.nosync/GoogleNews-vectors-negative300.bin'",
     "output_type": "error",
     "traceback": [
      "\u001b[0;31m---------------------------------------------------------------------------\u001b[0m",
      "\u001b[0;31mFileNotFoundError\u001b[0m                         Traceback (most recent call last)",
      "\u001b[0;32m<ipython-input-6-a8ef3460a01e>\u001b[0m in \u001b[0;36m<module>\u001b[0;34m()\u001b[0m\n\u001b[1;32m     16\u001b[0m                   \u001b[0membedding_name\u001b[0m\u001b[0;34m=\u001b[0m\u001b[0;34m'w2v_google_news'\u001b[0m\u001b[0;34m,\u001b[0m\u001b[0;34m\u001b[0m\u001b[0;34m\u001b[0m\u001b[0m\n\u001b[1;32m     17\u001b[0m                   \u001b[0msave_model_filepath\u001b[0m\u001b[0;34m=\u001b[0m\u001b[0;34m'models/keras_model_w2v_google_news.h5'\u001b[0m\u001b[0;34m,\u001b[0m\u001b[0;34m\u001b[0m\u001b[0;34m\u001b[0m\u001b[0m\n\u001b[0;32m---> 18\u001b[0;31m                   save_tokenizer_filepath='models/tokenizer_w2v_google_news.pickle')\n\u001b[0m\u001b[1;32m     19\u001b[0m \u001b[0;34m\u001b[0m\u001b[0m\n\u001b[1;32m     20\u001b[0m model4 = model_theme_train(df.comment, Y,\n",
      "\u001b[0;32m~/Documents/UBC-MDS/Capstone/BCstats/DSCI_591_capstone-BCStats/src/models/wes_classification.py\u001b[0m in \u001b[0;36mmodel_theme_train\u001b[0;34m(comments, labels, embedding_filepath, embedding_name, save_model_filepath, save_tokenizer_filepath)\u001b[0m\n\u001b[1;32m     89\u001b[0m     embedding = KeyedVectors.load_word2vec_format(embedding_filepath,\n\u001b[1;32m     90\u001b[0m                                                   unicode_errors='ignore')\n\u001b[0;32m---> 91\u001b[0;31m \u001b[0;34m\u001b[0m\u001b[0m\n\u001b[0m\u001b[1;32m     92\u001b[0m     \u001b[0;31m###########################################################################\u001b[0m\u001b[0;34m\u001b[0m\u001b[0;34m\u001b[0m\u001b[0;34m\u001b[0m\u001b[0m\n\u001b[1;32m     93\u001b[0m     \u001b[0;31m# Build Embedding Matrix and prepare data for deep learning Model\u001b[0m\u001b[0;34m\u001b[0m\u001b[0;34m\u001b[0m\u001b[0;34m\u001b[0m\u001b[0m\n",
      "\u001b[0;32m/anaconda3/lib/python3.6/site-packages/gensim/models/keyedvectors.py\u001b[0m in \u001b[0;36mload_word2vec_format\u001b[0;34m(cls, fname, fvocab, binary, encoding, unicode_errors, limit, datatype)\u001b[0m\n\u001b[1;32m   1474\u001b[0m         return _load_word2vec_format(\n\u001b[1;32m   1475\u001b[0m             \u001b[0mcls\u001b[0m\u001b[0;34m,\u001b[0m \u001b[0mfname\u001b[0m\u001b[0;34m,\u001b[0m \u001b[0mfvocab\u001b[0m\u001b[0;34m=\u001b[0m\u001b[0mfvocab\u001b[0m\u001b[0;34m,\u001b[0m \u001b[0mbinary\u001b[0m\u001b[0;34m=\u001b[0m\u001b[0mbinary\u001b[0m\u001b[0;34m,\u001b[0m \u001b[0mencoding\u001b[0m\u001b[0;34m=\u001b[0m\u001b[0mencoding\u001b[0m\u001b[0;34m,\u001b[0m \u001b[0municode_errors\u001b[0m\u001b[0;34m=\u001b[0m\u001b[0municode_errors\u001b[0m\u001b[0;34m,\u001b[0m\u001b[0;34m\u001b[0m\u001b[0;34m\u001b[0m\u001b[0m\n\u001b[0;32m-> 1476\u001b[0;31m             limit=limit, datatype=datatype)\n\u001b[0m\u001b[1;32m   1477\u001b[0m \u001b[0;34m\u001b[0m\u001b[0m\n\u001b[1;32m   1478\u001b[0m     \u001b[0;32mdef\u001b[0m \u001b[0mget_keras_embedding\u001b[0m\u001b[0;34m(\u001b[0m\u001b[0mself\u001b[0m\u001b[0;34m,\u001b[0m \u001b[0mtrain_embeddings\u001b[0m\u001b[0;34m=\u001b[0m\u001b[0;32mFalse\u001b[0m\u001b[0;34m)\u001b[0m\u001b[0;34m:\u001b[0m\u001b[0;34m\u001b[0m\u001b[0;34m\u001b[0m\u001b[0m\n",
      "\u001b[0;32m/anaconda3/lib/python3.6/site-packages/gensim/models/utils_any2vec.py\u001b[0m in \u001b[0;36m_load_word2vec_format\u001b[0;34m(cls, fname, fvocab, binary, encoding, unicode_errors, limit, datatype)\u001b[0m\n\u001b[1;32m    340\u001b[0m \u001b[0;34m\u001b[0m\u001b[0m\n\u001b[1;32m    341\u001b[0m     \u001b[0mlogger\u001b[0m\u001b[0;34m.\u001b[0m\u001b[0minfo\u001b[0m\u001b[0;34m(\u001b[0m\u001b[0;34m\"loading projection weights from %s\"\u001b[0m\u001b[0;34m,\u001b[0m \u001b[0mfname\u001b[0m\u001b[0;34m)\u001b[0m\u001b[0;34m\u001b[0m\u001b[0;34m\u001b[0m\u001b[0m\n\u001b[0;32m--> 342\u001b[0;31m     \u001b[0;32mwith\u001b[0m \u001b[0mutils\u001b[0m\u001b[0;34m.\u001b[0m\u001b[0msmart_open\u001b[0m\u001b[0;34m(\u001b[0m\u001b[0mfname\u001b[0m\u001b[0;34m)\u001b[0m \u001b[0;32mas\u001b[0m \u001b[0mfin\u001b[0m\u001b[0;34m:\u001b[0m\u001b[0;34m\u001b[0m\u001b[0;34m\u001b[0m\u001b[0m\n\u001b[0m\u001b[1;32m    343\u001b[0m         \u001b[0mheader\u001b[0m \u001b[0;34m=\u001b[0m \u001b[0mutils\u001b[0m\u001b[0;34m.\u001b[0m\u001b[0mto_unicode\u001b[0m\u001b[0;34m(\u001b[0m\u001b[0mfin\u001b[0m\u001b[0;34m.\u001b[0m\u001b[0mreadline\u001b[0m\u001b[0;34m(\u001b[0m\u001b[0;34m)\u001b[0m\u001b[0;34m,\u001b[0m \u001b[0mencoding\u001b[0m\u001b[0;34m=\u001b[0m\u001b[0mencoding\u001b[0m\u001b[0;34m)\u001b[0m\u001b[0;34m\u001b[0m\u001b[0;34m\u001b[0m\u001b[0m\n\u001b[1;32m    344\u001b[0m         \u001b[0mvocab_size\u001b[0m\u001b[0;34m,\u001b[0m \u001b[0mvector_size\u001b[0m \u001b[0;34m=\u001b[0m \u001b[0;34m(\u001b[0m\u001b[0mint\u001b[0m\u001b[0;34m(\u001b[0m\u001b[0mx\u001b[0m\u001b[0;34m)\u001b[0m \u001b[0;32mfor\u001b[0m \u001b[0mx\u001b[0m \u001b[0;32min\u001b[0m \u001b[0mheader\u001b[0m\u001b[0;34m.\u001b[0m\u001b[0msplit\u001b[0m\u001b[0;34m(\u001b[0m\u001b[0;34m)\u001b[0m\u001b[0;34m)\u001b[0m  \u001b[0;31m# throws for invalid file format\u001b[0m\u001b[0;34m\u001b[0m\u001b[0;34m\u001b[0m\u001b[0m\n",
      "\u001b[0;32m/anaconda3/lib/python3.6/site-packages/smart_open/smart_open_lib.py\u001b[0m in \u001b[0;36msmart_open\u001b[0;34m(uri, mode, **kw)\u001b[0m\n\u001b[1;32m    179\u001b[0m         \u001b[0;32mraise\u001b[0m \u001b[0mTypeError\u001b[0m\u001b[0;34m(\u001b[0m\u001b[0;34m'mode should be a string'\u001b[0m\u001b[0;34m)\u001b[0m\u001b[0;34m\u001b[0m\u001b[0;34m\u001b[0m\u001b[0m\n\u001b[1;32m    180\u001b[0m \u001b[0;34m\u001b[0m\u001b[0m\n\u001b[0;32m--> 181\u001b[0;31m     \u001b[0mfobj\u001b[0m \u001b[0;34m=\u001b[0m \u001b[0m_shortcut_open\u001b[0m\u001b[0;34m(\u001b[0m\u001b[0muri\u001b[0m\u001b[0;34m,\u001b[0m \u001b[0mmode\u001b[0m\u001b[0;34m,\u001b[0m \u001b[0;34m**\u001b[0m\u001b[0mkw\u001b[0m\u001b[0;34m)\u001b[0m\u001b[0;34m\u001b[0m\u001b[0;34m\u001b[0m\u001b[0m\n\u001b[0m\u001b[1;32m    182\u001b[0m     \u001b[0;32mif\u001b[0m \u001b[0mfobj\u001b[0m \u001b[0;32mis\u001b[0m \u001b[0;32mnot\u001b[0m \u001b[0;32mNone\u001b[0m\u001b[0;34m:\u001b[0m\u001b[0;34m\u001b[0m\u001b[0;34m\u001b[0m\u001b[0m\n\u001b[1;32m    183\u001b[0m         \u001b[0;32mreturn\u001b[0m \u001b[0mfobj\u001b[0m\u001b[0;34m\u001b[0m\u001b[0;34m\u001b[0m\u001b[0m\n",
      "\u001b[0;32m/anaconda3/lib/python3.6/site-packages/smart_open/smart_open_lib.py\u001b[0m in \u001b[0;36m_shortcut_open\u001b[0;34m(uri, mode, **kw)\u001b[0m\n\u001b[1;32m    299\u001b[0m     \u001b[0;31m#\u001b[0m\u001b[0;34m\u001b[0m\u001b[0;34m\u001b[0m\u001b[0;34m\u001b[0m\u001b[0m\n\u001b[1;32m    300\u001b[0m     \u001b[0;32mif\u001b[0m \u001b[0msix\u001b[0m\u001b[0;34m.\u001b[0m\u001b[0mPY3\u001b[0m\u001b[0;34m:\u001b[0m\u001b[0;34m\u001b[0m\u001b[0;34m\u001b[0m\u001b[0m\n\u001b[0;32m--> 301\u001b[0;31m         \u001b[0;32mreturn\u001b[0m \u001b[0mopen\u001b[0m\u001b[0;34m(\u001b[0m\u001b[0mparsed_uri\u001b[0m\u001b[0;34m.\u001b[0m\u001b[0muri_path\u001b[0m\u001b[0;34m,\u001b[0m \u001b[0mmode\u001b[0m\u001b[0;34m,\u001b[0m \u001b[0mbuffering\u001b[0m\u001b[0;34m=\u001b[0m\u001b[0mbuffering\u001b[0m\u001b[0;34m,\u001b[0m \u001b[0;34m**\u001b[0m\u001b[0mopen_kwargs\u001b[0m\u001b[0;34m)\u001b[0m\u001b[0;34m\u001b[0m\u001b[0;34m\u001b[0m\u001b[0m\n\u001b[0m\u001b[1;32m    302\u001b[0m     \u001b[0;32melif\u001b[0m \u001b[0;32mnot\u001b[0m \u001b[0mopen_kwargs\u001b[0m\u001b[0;34m:\u001b[0m\u001b[0;34m\u001b[0m\u001b[0;34m\u001b[0m\u001b[0m\n\u001b[1;32m    303\u001b[0m         \u001b[0;32mreturn\u001b[0m \u001b[0mopen\u001b[0m\u001b[0;34m(\u001b[0m\u001b[0mparsed_uri\u001b[0m\u001b[0;34m.\u001b[0m\u001b[0muri_path\u001b[0m\u001b[0;34m,\u001b[0m \u001b[0mmode\u001b[0m\u001b[0;34m,\u001b[0m \u001b[0mbuffering\u001b[0m\u001b[0;34m=\u001b[0m\u001b[0mbuffering\u001b[0m\u001b[0;34m)\u001b[0m\u001b[0;34m\u001b[0m\u001b[0;34m\u001b[0m\u001b[0m\n",
      "\u001b[0;31mFileNotFoundError\u001b[0m: [Errno 2] No such file or directory: './references/pretrained_embeddings.nosync/GoogleNews-vectors-negative300.bin'"
     ]
    }
   ],
   "source": [
    "# Train Models on each embedding\n",
    "model1 = model_theme_train(df.comment, Y,\n",
    "                  embedding_filepath=fname_glove_crawl,\n",
    "                  embedding_name='glove_crawl',\n",
    "                  save_model_filepath='models/keras_model_glove_crawl.h5',\n",
    "                  save_tokenizer_filepath='models/tokenizer_glove_crawl.pickle')\n",
    "\n",
    "model2 = model_theme_train(df.comment, Y,\n",
    "                  embedding_filepath=fname_glove_wiki,\n",
    "                  embedding_name='glove_wiki',\n",
    "                  save_model_filepath='models/keras_model_glove_wiki.h5',\n",
    "                  save_tokenizer_filepath='models/tokenizer_glove_wiki.pickle')\n",
    "\n",
    "model3 = model_theme_train(df.comment, Y,\n",
    "                  embedding_filepath=fname_w2v_googlenews,\n",
    "                  embedding_name='w2v_google_news',\n",
    "                  save_model_filepath='models/keras_model_w2v_google_news.h5',\n",
    "                  save_tokenizer_filepath='models/tokenizer_w2v_google_news.pickle')\n",
    "\n",
    "model4 = model_theme_train(df.comment, Y,\n",
    "                  embedding_filepath=fname_fasttext_crawl,\n",
    "                  embedding_name='fasttext_crawl',\n",
    "                  save_model_filepath='models/keras_model_fasttext_crawl.h5',\n",
    "                  save_tokenizer_filepath='models/tokenizer_fasttext_crawl.pickle')"
   ]
  },
  {
   "cell_type": "markdown",
   "metadata": {},
   "source": [
    "## How to: Predict Themes using Trained Model"
   ]
  },
  {
   "cell_type": "code",
   "execution_count": 32,
   "metadata": {},
   "outputs": [],
   "source": [
    "import pandas as pd\n",
    "import numpy as np\n",
    "import pickle\n",
    "from src.models.wes_classification import model_theme_predict\n",
    "from src.data.preprocessing_text import preprocess_for_embed\n",
    "from keras.preprocessing.text import Tokenizer\n",
    "from keras.preprocessing.sequence import pad_sequences"
   ]
  },
  {
   "cell_type": "code",
   "execution_count": 69,
   "metadata": {},
   "outputs": [],
   "source": [
    "# Read in Qualitative Comments and format for predictions\n",
    "df_test = pd.read_csv('data/interim/test_2018-qualitative-data.csv')\n",
    "df_test = df_test[['2018 Comment']].join(df_test.loc[:,'CPD':'OTH'])\n",
    "df_test = df_test.rename(columns = {'2018 Comment' : 'comment'})"
   ]
  },
  {
   "cell_type": "code",
   "execution_count": 10,
   "metadata": {},
   "outputs": [],
   "source": [
    "Y_pred_glove_crawl = model_theme_predict(df_test.comment,\n",
    "    embedding_name='glove_crawl',\n",
    "    load_model_filepath='models/keras_model_glove_crawl.h5',\n",
    "    load_tokenizer_filepath='models/tokenizer_glove_crawl.pickle')\n",
    "\n",
    "Y_pred_glove_wiki = model_theme_predict(df_test.comment,\n",
    "    embedding_name='glove_wiki',\n",
    "    load_model_filepath='models/keras_model_glove_wiki.h5',\n",
    "    load_tokenizer_filepath='models/tokenizer_glove_wiki.pickle')\n",
    "\n",
    "# Y_pred_w2v_google_news = model_theme_predict(df_test.comment,\n",
    "#     embedding_name='w2v_google_news',\n",
    "#     load_model_filepath='models/keras_model_w2v_google_news.h5',\n",
    "#     load_tokenizer_filepath='models/tokenizer_w2v_google_news.pickle')\n",
    "\n",
    "# Y_pred_fasttext_crawl = model_theme_predict(df_test.comment,\n",
    "#     embedding_name='fasttext_crawl',\n",
    "#     load_model_filepath='models/keras_model_fasttext_crawl.h5',\n",
    "#     load_tokenizer_filepath='models/tokenizer_fasttext_crawl.pickle')"
   ]
  },
  {
   "cell_type": "code",
   "execution_count": 68,
   "metadata": {},
   "outputs": [
    {
     "name": "stdout",
     "output_type": "stream",
     "text": [
      "Overall Accuracy: 0.0597 \n",
      "Hamming Loss: 0.202 \n",
      "Hamming Loss (pred. zeros): 0.1319\n"
     ]
    },
    {
     "data": {
      "text/html": [
       "<div>\n",
       "<style scoped>\n",
       "    .dataframe tbody tr th:only-of-type {\n",
       "        vertical-align: middle;\n",
       "    }\n",
       "\n",
       "    .dataframe tbody tr th {\n",
       "        vertical-align: top;\n",
       "    }\n",
       "\n",
       "    .dataframe thead th {\n",
       "        text-align: right;\n",
       "    }\n",
       "</style>\n",
       "<table border=\"1\" class=\"dataframe\">\n",
       "  <thead>\n",
       "    <tr style=\"text-align: right;\">\n",
       "      <th></th>\n",
       "      <th>Label</th>\n",
       "      <th>Y_count</th>\n",
       "      <th>Pred_count</th>\n",
       "      <th>Error</th>\n",
       "      <th>Dummy_Diff</th>\n",
       "      <th>Accuarcy</th>\n",
       "      <th>Precision</th>\n",
       "      <th>Recall</th>\n",
       "    </tr>\n",
       "  </thead>\n",
       "  <tbody>\n",
       "    <tr>\n",
       "      <th>0</th>\n",
       "      <td>CPD</td>\n",
       "      <td>195</td>\n",
       "      <td>159</td>\n",
       "      <td>0.211525</td>\n",
       "      <td>-0.079322</td>\n",
       "      <td>0.788475</td>\n",
       "      <td>0.132075</td>\n",
       "      <td>0.107692</td>\n",
       "    </tr>\n",
       "    <tr>\n",
       "      <th>1</th>\n",
       "      <td>CB</td>\n",
       "      <td>316</td>\n",
       "      <td>264</td>\n",
       "      <td>0.324068</td>\n",
       "      <td>-0.109831</td>\n",
       "      <td>0.675932</td>\n",
       "      <td>0.193182</td>\n",
       "      <td>0.161392</td>\n",
       "    </tr>\n",
       "    <tr>\n",
       "      <th>2</th>\n",
       "      <td>EWC</td>\n",
       "      <td>200</td>\n",
       "      <td>96</td>\n",
       "      <td>0.180339</td>\n",
       "      <td>-0.044746</td>\n",
       "      <td>0.819661</td>\n",
       "      <td>0.156250</td>\n",
       "      <td>0.075000</td>\n",
       "    </tr>\n",
       "    <tr>\n",
       "      <th>3</th>\n",
       "      <td>Exec</td>\n",
       "      <td>134</td>\n",
       "      <td>130</td>\n",
       "      <td>0.161356</td>\n",
       "      <td>-0.070508</td>\n",
       "      <td>0.838644</td>\n",
       "      <td>0.100000</td>\n",
       "      <td>0.097015</td>\n",
       "    </tr>\n",
       "    <tr>\n",
       "      <th>4</th>\n",
       "      <td>FWE</td>\n",
       "      <td>59</td>\n",
       "      <td>71</td>\n",
       "      <td>0.085424</td>\n",
       "      <td>-0.045424</td>\n",
       "      <td>0.914576</td>\n",
       "      <td>0.028169</td>\n",
       "      <td>0.033898</td>\n",
       "    </tr>\n",
       "    <tr>\n",
       "      <th>5</th>\n",
       "      <td>SP</td>\n",
       "      <td>195</td>\n",
       "      <td>138</td>\n",
       "      <td>0.195932</td>\n",
       "      <td>-0.063729</td>\n",
       "      <td>0.804068</td>\n",
       "      <td>0.159420</td>\n",
       "      <td>0.112821</td>\n",
       "    </tr>\n",
       "    <tr>\n",
       "      <th>6</th>\n",
       "      <td>RE</td>\n",
       "      <td>129</td>\n",
       "      <td>66</td>\n",
       "      <td>0.122712</td>\n",
       "      <td>-0.035254</td>\n",
       "      <td>0.877288</td>\n",
       "      <td>0.106061</td>\n",
       "      <td>0.054264</td>\n",
       "    </tr>\n",
       "    <tr>\n",
       "      <th>7</th>\n",
       "      <td>Sup</td>\n",
       "      <td>174</td>\n",
       "      <td>154</td>\n",
       "      <td>0.207458</td>\n",
       "      <td>-0.089492</td>\n",
       "      <td>0.792542</td>\n",
       "      <td>0.071429</td>\n",
       "      <td>0.063218</td>\n",
       "    </tr>\n",
       "    <tr>\n",
       "      <th>8</th>\n",
       "      <td>SW</td>\n",
       "      <td>255</td>\n",
       "      <td>223</td>\n",
       "      <td>0.276610</td>\n",
       "      <td>-0.103729</td>\n",
       "      <td>0.723390</td>\n",
       "      <td>0.156951</td>\n",
       "      <td>0.137255</td>\n",
       "    </tr>\n",
       "    <tr>\n",
       "      <th>9</th>\n",
       "      <td>TEPE</td>\n",
       "      <td>438</td>\n",
       "      <td>314</td>\n",
       "      <td>0.383729</td>\n",
       "      <td>-0.086780</td>\n",
       "      <td>0.616271</td>\n",
       "      <td>0.296178</td>\n",
       "      <td>0.212329</td>\n",
       "    </tr>\n",
       "    <tr>\n",
       "      <th>10</th>\n",
       "      <td>VMG</td>\n",
       "      <td>191</td>\n",
       "      <td>184</td>\n",
       "      <td>0.236610</td>\n",
       "      <td>-0.107119</td>\n",
       "      <td>0.763390</td>\n",
       "      <td>0.070652</td>\n",
       "      <td>0.068063</td>\n",
       "    </tr>\n",
       "    <tr>\n",
       "      <th>11</th>\n",
       "      <td>OTH</td>\n",
       "      <td>49</td>\n",
       "      <td>7</td>\n",
       "      <td>0.037966</td>\n",
       "      <td>-0.004746</td>\n",
       "      <td>0.962034</td>\n",
       "      <td>0.000000</td>\n",
       "      <td>0.000000</td>\n",
       "    </tr>\n",
       "  </tbody>\n",
       "</table>\n",
       "</div>"
      ],
      "text/plain": [
       "   Label  Y_count  Pred_count     Error  Dummy_Diff  Accuarcy  Precision  \\\n",
       "0    CPD      195         159  0.211525   -0.079322  0.788475   0.132075   \n",
       "1     CB      316         264  0.324068   -0.109831  0.675932   0.193182   \n",
       "2    EWC      200          96  0.180339   -0.044746  0.819661   0.156250   \n",
       "3   Exec      134         130  0.161356   -0.070508  0.838644   0.100000   \n",
       "4    FWE       59          71  0.085424   -0.045424  0.914576   0.028169   \n",
       "5     SP      195         138  0.195932   -0.063729  0.804068   0.159420   \n",
       "6     RE      129          66  0.122712   -0.035254  0.877288   0.106061   \n",
       "7    Sup      174         154  0.207458   -0.089492  0.792542   0.071429   \n",
       "8     SW      255         223  0.276610   -0.103729  0.723390   0.156951   \n",
       "9   TEPE      438         314  0.383729   -0.086780  0.616271   0.296178   \n",
       "10   VMG      191         184  0.236610   -0.107119  0.763390   0.070652   \n",
       "11   OTH       49           7  0.037966   -0.004746  0.962034   0.000000   \n",
       "\n",
       "      Recall  \n",
       "0   0.107692  \n",
       "1   0.161392  \n",
       "2   0.075000  \n",
       "3   0.097015  \n",
       "4   0.033898  \n",
       "5   0.112821  \n",
       "6   0.054264  \n",
       "7   0.063218  \n",
       "8   0.137255  \n",
       "9   0.212329  \n",
       "10  0.068063  \n",
       "11  0.000000  "
      ]
     },
     "execution_count": 68,
     "metadata": {},
     "output_type": "execute_result"
    }
   ],
   "source": [
    "theme_results(Y_test, np.round(Y_pred_glove_crawl))"
   ]
  },
  {
   "cell_type": "markdown",
   "metadata": {},
   "source": [
    "## How to: Evaluate Performance"
   ]
  },
  {
   "cell_type": "code",
   "execution_count": 12,
   "metadata": {},
   "outputs": [],
   "source": [
    "from src.models.eval_metrics import theme_results, investigate_results"
   ]
  },
  {
   "cell_type": "code",
   "execution_count": 72,
   "metadata": {},
   "outputs": [],
   "source": [
    "Y_test = np.array(df_test.loc[:,\"CPD\":\"OTH\"])"
   ]
  },
  {
   "cell_type": "code",
   "execution_count": 74,
   "metadata": {},
   "outputs": [
    {
     "name": "stdout",
     "output_type": "stream",
     "text": [
      "Overall Accuracy: 0.4976 \n",
      "Hamming Loss: 0.0649 \n",
      "Hamming Loss (pred. zeros): 0.122\n"
     ]
    },
    {
     "data": {
      "text/html": [
       "<div>\n",
       "<style scoped>\n",
       "    .dataframe tbody tr th:only-of-type {\n",
       "        vertical-align: middle;\n",
       "    }\n",
       "\n",
       "    .dataframe tbody tr th {\n",
       "        vertical-align: top;\n",
       "    }\n",
       "\n",
       "    .dataframe thead th {\n",
       "        text-align: right;\n",
       "    }\n",
       "</style>\n",
       "<table border=\"1\" class=\"dataframe\">\n",
       "  <thead>\n",
       "    <tr style=\"text-align: right;\">\n",
       "      <th></th>\n",
       "      <th>Label</th>\n",
       "      <th>Y_count</th>\n",
       "      <th>Pred_count</th>\n",
       "      <th>Error</th>\n",
       "      <th>Dummy_Diff</th>\n",
       "      <th>Accuarcy</th>\n",
       "      <th>Precision</th>\n",
       "      <th>Recall</th>\n",
       "    </tr>\n",
       "  </thead>\n",
       "  <tbody>\n",
       "    <tr>\n",
       "      <th>0</th>\n",
       "      <td>CPD</td>\n",
       "      <td>184</td>\n",
       "      <td>159</td>\n",
       "      <td>0.061695</td>\n",
       "      <td>0.063051</td>\n",
       "      <td>0.938305</td>\n",
       "      <td>0.792453</td>\n",
       "      <td>0.684783</td>\n",
       "    </tr>\n",
       "    <tr>\n",
       "      <th>1</th>\n",
       "      <td>CB</td>\n",
       "      <td>293</td>\n",
       "      <td>264</td>\n",
       "      <td>0.040000</td>\n",
       "      <td>0.158644</td>\n",
       "      <td>0.960000</td>\n",
       "      <td>0.943182</td>\n",
       "      <td>0.849829</td>\n",
       "    </tr>\n",
       "    <tr>\n",
       "      <th>2</th>\n",
       "      <td>EWC</td>\n",
       "      <td>141</td>\n",
       "      <td>96</td>\n",
       "      <td>0.068475</td>\n",
       "      <td>0.027119</td>\n",
       "      <td>0.931525</td>\n",
       "      <td>0.708333</td>\n",
       "      <td>0.482270</td>\n",
       "    </tr>\n",
       "    <tr>\n",
       "      <th>3</th>\n",
       "      <td>Exec</td>\n",
       "      <td>149</td>\n",
       "      <td>130</td>\n",
       "      <td>0.079322</td>\n",
       "      <td>0.021695</td>\n",
       "      <td>0.920678</td>\n",
       "      <td>0.623077</td>\n",
       "      <td>0.543624</td>\n",
       "    </tr>\n",
       "    <tr>\n",
       "      <th>4</th>\n",
       "      <td>FWE</td>\n",
       "      <td>91</td>\n",
       "      <td>71</td>\n",
       "      <td>0.023051</td>\n",
       "      <td>0.038644</td>\n",
       "      <td>0.976949</td>\n",
       "      <td>0.901408</td>\n",
       "      <td>0.703297</td>\n",
       "    </tr>\n",
       "    <tr>\n",
       "      <th>5</th>\n",
       "      <td>SP</td>\n",
       "      <td>145</td>\n",
       "      <td>138</td>\n",
       "      <td>0.060339</td>\n",
       "      <td>0.037966</td>\n",
       "      <td>0.939661</td>\n",
       "      <td>0.702899</td>\n",
       "      <td>0.668966</td>\n",
       "    </tr>\n",
       "    <tr>\n",
       "      <th>6</th>\n",
       "      <td>RE</td>\n",
       "      <td>124</td>\n",
       "      <td>66</td>\n",
       "      <td>0.069153</td>\n",
       "      <td>0.014915</td>\n",
       "      <td>0.930847</td>\n",
       "      <td>0.666667</td>\n",
       "      <td>0.354839</td>\n",
       "    </tr>\n",
       "    <tr>\n",
       "      <th>7</th>\n",
       "      <td>Sup</td>\n",
       "      <td>216</td>\n",
       "      <td>154</td>\n",
       "      <td>0.093559</td>\n",
       "      <td>0.052881</td>\n",
       "      <td>0.906441</td>\n",
       "      <td>0.753247</td>\n",
       "      <td>0.537037</td>\n",
       "    </tr>\n",
       "    <tr>\n",
       "      <th>8</th>\n",
       "      <td>SW</td>\n",
       "      <td>244</td>\n",
       "      <td>223</td>\n",
       "      <td>0.092881</td>\n",
       "      <td>0.072542</td>\n",
       "      <td>0.907119</td>\n",
       "      <td>0.739910</td>\n",
       "      <td>0.676230</td>\n",
       "    </tr>\n",
       "    <tr>\n",
       "      <th>9</th>\n",
       "      <td>TEPE</td>\n",
       "      <td>341</td>\n",
       "      <td>314</td>\n",
       "      <td>0.060339</td>\n",
       "      <td>0.170847</td>\n",
       "      <td>0.939661</td>\n",
       "      <td>0.901274</td>\n",
       "      <td>0.829912</td>\n",
       "    </tr>\n",
       "    <tr>\n",
       "      <th>10</th>\n",
       "      <td>VMG</td>\n",
       "      <td>193</td>\n",
       "      <td>184</td>\n",
       "      <td>0.106441</td>\n",
       "      <td>0.024407</td>\n",
       "      <td>0.893559</td>\n",
       "      <td>0.597826</td>\n",
       "      <td>0.569948</td>\n",
       "    </tr>\n",
       "    <tr>\n",
       "      <th>11</th>\n",
       "      <td>OTH</td>\n",
       "      <td>39</td>\n",
       "      <td>7</td>\n",
       "      <td>0.023051</td>\n",
       "      <td>0.003390</td>\n",
       "      <td>0.976949</td>\n",
       "      <td>0.857143</td>\n",
       "      <td>0.153846</td>\n",
       "    </tr>\n",
       "  </tbody>\n",
       "</table>\n",
       "</div>"
      ],
      "text/plain": [
       "   Label  Y_count  Pred_count     Error  Dummy_Diff  Accuarcy  Precision  \\\n",
       "0    CPD      184         159  0.061695    0.063051  0.938305   0.792453   \n",
       "1     CB      293         264  0.040000    0.158644  0.960000   0.943182   \n",
       "2    EWC      141          96  0.068475    0.027119  0.931525   0.708333   \n",
       "3   Exec      149         130  0.079322    0.021695  0.920678   0.623077   \n",
       "4    FWE       91          71  0.023051    0.038644  0.976949   0.901408   \n",
       "5     SP      145         138  0.060339    0.037966  0.939661   0.702899   \n",
       "6     RE      124          66  0.069153    0.014915  0.930847   0.666667   \n",
       "7    Sup      216         154  0.093559    0.052881  0.906441   0.753247   \n",
       "8     SW      244         223  0.092881    0.072542  0.907119   0.739910   \n",
       "9   TEPE      341         314  0.060339    0.170847  0.939661   0.901274   \n",
       "10   VMG      193         184  0.106441    0.024407  0.893559   0.597826   \n",
       "11   OTH       39           7  0.023051    0.003390  0.976949   0.857143   \n",
       "\n",
       "      Recall  \n",
       "0   0.684783  \n",
       "1   0.849829  \n",
       "2   0.482270  \n",
       "3   0.543624  \n",
       "4   0.703297  \n",
       "5   0.668966  \n",
       "6   0.354839  \n",
       "7   0.537037  \n",
       "8   0.676230  \n",
       "9   0.829912  \n",
       "10  0.569948  \n",
       "11  0.153846  "
      ]
     },
     "execution_count": 74,
     "metadata": {},
     "output_type": "execute_result"
    }
   ],
   "source": [
    "Y_pred = (Y_pred_glove_crawl)# +\n",
    "          #Y_pred_glove_wiki)/2\n",
    "          #Y_pred_w2v_google_news +\n",
    "          #Y_pred_fasttext_crawl)/4\n",
    "\n",
    "theme_results(Y_test, np.round(Y_pred))"
   ]
  },
  {
   "cell_type": "code",
   "execution_count": 16,
   "metadata": {},
   "outputs": [
    {
     "data": {
      "text/plain": [
       "array([[0., 1., 0., ..., 0., 0., 0.],\n",
       "       [0., 1., 0., ..., 0., 0., 0.],\n",
       "       [1., 0., 0., ..., 0., 0., 0.],\n",
       "       ...,\n",
       "       [0., 1., 0., ..., 0., 0., 0.],\n",
       "       [0., 0., 0., ..., 0., 0., 0.],\n",
       "       [0., 0., 1., ..., 0., 0., 0.]], dtype=float32)"
      ]
     },
     "execution_count": 16,
     "metadata": {},
     "output_type": "execute_result"
    }
   ],
   "source": [
    "theme_results(np.round(Y_pred_glove_crawl))"
   ]
  },
  {
   "cell_type": "code",
   "execution_count": 17,
   "metadata": {},
   "outputs": [
    {
     "data": {
      "text/plain": [
       "(1475, 12)"
      ]
     },
     "execution_count": 17,
     "metadata": {},
     "output_type": "execute_result"
    }
   ],
   "source": [
    "Y_pred_glove_crawl.shape"
   ]
  },
  {
   "cell_type": "code",
   "execution_count": 20,
   "metadata": {},
   "outputs": [
    {
     "data": {
      "text/plain": [
       "array([[1, 0, 0, ..., 0, 0, 0],\n",
       "       [0, 0, 0, ..., 0, 1, 0],\n",
       "       [0, 0, 0, ..., 0, 0, 0],\n",
       "       ...,\n",
       "       [1, 0, 0, ..., 0, 1, 0],\n",
       "       [0, 0, 0, ..., 0, 0, 0],\n",
       "       [0, 0, 1, ..., 0, 0, 0]])"
      ]
     },
     "execution_count": 20,
     "metadata": {},
     "output_type": "execute_result"
    }
   ],
   "source": [
    "Y_test"
   ]
  },
  {
   "cell_type": "code",
   "execution_count": 23,
   "metadata": {},
   "outputs": [
    {
     "name": "stdout",
     "output_type": "stream",
     "text": [
      "Overall Accuracy: 0.0644 \n",
      "Hamming Loss: 0.1823 \n",
      "Hamming Loss (pred. zeros): 0.1319\n"
     ]
    },
    {
     "data": {
      "text/html": [
       "<div>\n",
       "<style scoped>\n",
       "    .dataframe tbody tr th:only-of-type {\n",
       "        vertical-align: middle;\n",
       "    }\n",
       "\n",
       "    .dataframe tbody tr th {\n",
       "        vertical-align: top;\n",
       "    }\n",
       "\n",
       "    .dataframe thead th {\n",
       "        text-align: right;\n",
       "    }\n",
       "</style>\n",
       "<table border=\"1\" class=\"dataframe\">\n",
       "  <thead>\n",
       "    <tr style=\"text-align: right;\">\n",
       "      <th></th>\n",
       "      <th>Label</th>\n",
       "      <th>Y_count</th>\n",
       "      <th>Pred_count</th>\n",
       "      <th>Error</th>\n",
       "      <th>Dummy_Diff</th>\n",
       "      <th>Accuarcy</th>\n",
       "      <th>Precision</th>\n",
       "      <th>Recall</th>\n",
       "    </tr>\n",
       "  </thead>\n",
       "  <tbody>\n",
       "    <tr>\n",
       "      <th>0</th>\n",
       "      <td>CPD</td>\n",
       "      <td>195</td>\n",
       "      <td>121</td>\n",
       "      <td>0.195254</td>\n",
       "      <td>-0.063051</td>\n",
       "      <td>0.804746</td>\n",
       "      <td>0.115702</td>\n",
       "      <td>0.071795</td>\n",
       "    </tr>\n",
       "    <tr>\n",
       "      <th>1</th>\n",
       "      <td>CB</td>\n",
       "      <td>316</td>\n",
       "      <td>242</td>\n",
       "      <td>0.313220</td>\n",
       "      <td>-0.098983</td>\n",
       "      <td>0.686780</td>\n",
       "      <td>0.198347</td>\n",
       "      <td>0.151899</td>\n",
       "    </tr>\n",
       "    <tr>\n",
       "      <th>2</th>\n",
       "      <td>EWC</td>\n",
       "      <td>200</td>\n",
       "      <td>57</td>\n",
       "      <td>0.163390</td>\n",
       "      <td>-0.027797</td>\n",
       "      <td>0.836610</td>\n",
       "      <td>0.140351</td>\n",
       "      <td>0.040000</td>\n",
       "    </tr>\n",
       "    <tr>\n",
       "      <th>3</th>\n",
       "      <td>Exec</td>\n",
       "      <td>134</td>\n",
       "      <td>76</td>\n",
       "      <td>0.130169</td>\n",
       "      <td>-0.039322</td>\n",
       "      <td>0.869831</td>\n",
       "      <td>0.118421</td>\n",
       "      <td>0.067164</td>\n",
       "    </tr>\n",
       "    <tr>\n",
       "      <th>4</th>\n",
       "      <td>FWE</td>\n",
       "      <td>59</td>\n",
       "      <td>62</td>\n",
       "      <td>0.079322</td>\n",
       "      <td>-0.039322</td>\n",
       "      <td>0.920678</td>\n",
       "      <td>0.032258</td>\n",
       "      <td>0.033898</td>\n",
       "    </tr>\n",
       "    <tr>\n",
       "      <th>5</th>\n",
       "      <td>SP</td>\n",
       "      <td>195</td>\n",
       "      <td>105</td>\n",
       "      <td>0.181695</td>\n",
       "      <td>-0.049492</td>\n",
       "      <td>0.818305</td>\n",
       "      <td>0.152381</td>\n",
       "      <td>0.082051</td>\n",
       "    </tr>\n",
       "    <tr>\n",
       "      <th>6</th>\n",
       "      <td>RE</td>\n",
       "      <td>129</td>\n",
       "      <td>36</td>\n",
       "      <td>0.107797</td>\n",
       "      <td>-0.020339</td>\n",
       "      <td>0.892203</td>\n",
       "      <td>0.083333</td>\n",
       "      <td>0.023256</td>\n",
       "    </tr>\n",
       "    <tr>\n",
       "      <th>7</th>\n",
       "      <td>Sup</td>\n",
       "      <td>174</td>\n",
       "      <td>98</td>\n",
       "      <td>0.173559</td>\n",
       "      <td>-0.055593</td>\n",
       "      <td>0.826441</td>\n",
       "      <td>0.081633</td>\n",
       "      <td>0.045977</td>\n",
       "    </tr>\n",
       "    <tr>\n",
       "      <th>8</th>\n",
       "      <td>SW</td>\n",
       "      <td>255</td>\n",
       "      <td>150</td>\n",
       "      <td>0.246102</td>\n",
       "      <td>-0.073220</td>\n",
       "      <td>0.753898</td>\n",
       "      <td>0.140000</td>\n",
       "      <td>0.082353</td>\n",
       "    </tr>\n",
       "    <tr>\n",
       "      <th>9</th>\n",
       "      <td>TEPE</td>\n",
       "      <td>438</td>\n",
       "      <td>283</td>\n",
       "      <td>0.370847</td>\n",
       "      <td>-0.073898</td>\n",
       "      <td>0.629153</td>\n",
       "      <td>0.307420</td>\n",
       "      <td>0.198630</td>\n",
       "    </tr>\n",
       "    <tr>\n",
       "      <th>10</th>\n",
       "      <td>VMG</td>\n",
       "      <td>191</td>\n",
       "      <td>109</td>\n",
       "      <td>0.189831</td>\n",
       "      <td>-0.060339</td>\n",
       "      <td>0.810169</td>\n",
       "      <td>0.091743</td>\n",
       "      <td>0.052356</td>\n",
       "    </tr>\n",
       "    <tr>\n",
       "      <th>11</th>\n",
       "      <td>OTH</td>\n",
       "      <td>49</td>\n",
       "      <td>4</td>\n",
       "      <td>0.035932</td>\n",
       "      <td>-0.002712</td>\n",
       "      <td>0.964068</td>\n",
       "      <td>0.000000</td>\n",
       "      <td>0.000000</td>\n",
       "    </tr>\n",
       "  </tbody>\n",
       "</table>\n",
       "</div>"
      ],
      "text/plain": [
       "   Label  Y_count  Pred_count     Error  Dummy_Diff  Accuarcy  Precision  \\\n",
       "0    CPD      195         121  0.195254   -0.063051  0.804746   0.115702   \n",
       "1     CB      316         242  0.313220   -0.098983  0.686780   0.198347   \n",
       "2    EWC      200          57  0.163390   -0.027797  0.836610   0.140351   \n",
       "3   Exec      134          76  0.130169   -0.039322  0.869831   0.118421   \n",
       "4    FWE       59          62  0.079322   -0.039322  0.920678   0.032258   \n",
       "5     SP      195         105  0.181695   -0.049492  0.818305   0.152381   \n",
       "6     RE      129          36  0.107797   -0.020339  0.892203   0.083333   \n",
       "7    Sup      174          98  0.173559   -0.055593  0.826441   0.081633   \n",
       "8     SW      255         150  0.246102   -0.073220  0.753898   0.140000   \n",
       "9   TEPE      438         283  0.370847   -0.073898  0.629153   0.307420   \n",
       "10   VMG      191         109  0.189831   -0.060339  0.810169   0.091743   \n",
       "11   OTH       49           4  0.035932   -0.002712  0.964068   0.000000   \n",
       "\n",
       "      Recall  \n",
       "0   0.071795  \n",
       "1   0.151899  \n",
       "2   0.040000  \n",
       "3   0.067164  \n",
       "4   0.033898  \n",
       "5   0.082051  \n",
       "6   0.023256  \n",
       "7   0.045977  \n",
       "8   0.082353  \n",
       "9   0.198630  \n",
       "10  0.052356  \n",
       "11  0.000000  "
      ]
     },
     "execution_count": 23,
     "metadata": {},
     "output_type": "execute_result"
    }
   ],
   "source": [
    "theme_results(Y_test, np.round(Y_pred_glove_crawl-0.3))"
   ]
  },
  {
   "cell_type": "code",
   "execution_count": 77,
   "metadata": {},
   "outputs": [
    {
     "data": {
      "text/plain": [
       "(1475, 12)"
      ]
     },
     "execution_count": 77,
     "metadata": {},
     "output_type": "execute_result"
    }
   ],
   "source": [
    "Y_pred_glove_crawl.shape"
   ]
  },
  {
   "cell_type": "code",
   "execution_count": 79,
   "metadata": {},
   "outputs": [
    {
     "data": {
      "text/plain": [
       "(1475, 12)"
      ]
     },
     "execution_count": 79,
     "metadata": {},
     "output_type": "execute_result"
    }
   ],
   "source": [
    "Y_test.shape"
   ]
  },
  {
   "cell_type": "code",
   "execution_count": 165,
   "metadata": {},
   "outputs": [],
   "source": [
    "%autoreload\n"
   ]
  },
  {
   "cell_type": "code",
   "execution_count": 168,
   "metadata": {},
   "outputs": [],
   "source": [
    "import src\n",
    "from src.models.eval_metrics import plot_theme_ROC"
   ]
  },
  {
   "cell_type": "code",
   "execution_count": 172,
   "metadata": {},
   "outputs": [],
   "source": [
    "from src.models.eval_metrics import plot_average_ROC_by_embed"
   ]
  },
  {
   "cell_type": "code",
   "execution_count": 169,
   "metadata": {},
   "outputs": [
    {
     "data": {
      "image/png": "[encoded data removed]",
      "text/plain": [
       "<Figure size 432x288 with 1 Axes>"
      ]
     },
     "metadata": {},
     "output_type": "display_data"
    }
   ],
   "source": [
    "plot_theme_ROC(Y_test, Y_pred_glove_crawl)"
   ]
  },
  {
   "cell_type": "code",
   "execution_count": 170,
   "metadata": {},
   "outputs": [],
   "source": [
    "Y_pred = {}\n",
    "Y_pred[\"glove_crawl\"] = Y_pred_glove_crawl\n",
    "Y_pred[\"gllove_wiki\"] = Y_pred_glove_wiki"
   ]
  },
  {
   "cell_type": "code",
   "execution_count": 173,
   "metadata": {},
   "outputs": [
    {
     "data": {
      "image/png": "[encoded data removed]",
      "text/plain": [
       "<Figure size 432x288 with 1 Axes>"
      ]
     },
     "metadata": {},
     "output_type": "display_data"
    }
   ],
   "source": [
    "plot_average_ROC_by_embed(Y_test, Y_pred)"
   ]
  },
  {
   "cell_type": "code",
   "execution_count": null,
   "metadata": {},
   "outputs": [],
   "source": []
  }
 ],
 "metadata": {
  "kernelspec": {
   "display_name": "Python 3",
   "language": "python",
   "name": "python3"
  },
  "language_info": {
   "codemirror_mode": {
    "name": "ipython",
    "version": 3
   },
   "file_extension": ".py",
   "mimetype": "text/x-python",
   "name": "python",
   "nbconvert_exporter": "python",
   "pygments_lexer": "ipython3",
   "version": "3.6.8"
  }
 },
 "nbformat": 4,
 "nbformat_minor": 2
}
