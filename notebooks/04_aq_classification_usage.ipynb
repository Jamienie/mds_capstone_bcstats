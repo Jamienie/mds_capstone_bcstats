{
 "cells": [
  {
   "cell_type": "markdown",
   "metadata": {},
   "source": [
    "# Classification Notebook Instructions"
   ]
  },
  {
   "cell_type": "code",
   "execution_count": 1,
   "metadata": {},
   "outputs": [
    {
     "data": {
      "text/plain": [
       "'/Users/aaronquinton/Documents/UBC-MDS/Capstone/BCstats/DSCI_591_capstone-BCStats'"
      ]
     },
     "execution_count": 1,
     "metadata": {},
     "output_type": "execute_result"
    }
   ],
   "source": [
    "# Change working directory to be the project root\n",
    "import os\n",
    "os.chdir(\"..\")\n",
    "os.getcwd()"
   ]
  },
  {
   "cell_type": "markdown",
   "metadata": {},
   "source": [
    "## How to: Train Model on Comment Data"
   ]
  },
  {
   "cell_type": "code",
   "execution_count": 3,
   "metadata": {},
   "outputs": [],
   "source": [
    "# Import functions\n",
    "import pandas as pd\n",
    "import numpy as np\n",
    "from src.models.wes_classification import model_theme_train"
   ]
  },
  {
   "cell_type": "code",
   "execution_count": 4,
   "metadata": {},
   "outputs": [],
   "source": [
    "# Read in Qualitative Comments and format for training model\n",
    "df = pd.read_csv(\"data/interim/train_2018-qualitative-data.csv\")\n",
    "df = df[['2018 Comment']].join(df.loc[:,'CPD':'OTH'])\n",
    "df = df.rename(columns = {'2018 Comment' : 'comment'})\n",
    "\n",
    "Y = np.array(df.loc[:,\"CPD\":\"OTH\"])"
   ]
  },
  {
   "cell_type": "code",
   "execution_count": 5,
   "metadata": {},
   "outputs": [],
   "source": [
    "# File Paths for the Pre-trained Embeddings\n",
    "fname_fasttext_crawl = \"./references/pretrained_embeddings.nosync/fasttext/\" \\\n",
    "                       \"crawl-300d-2M.vec\"\n",
    "fname_w2v_googlenews = \"./references/pretrained_embeddings.nosync/\" \\\n",
    "                       \"GoogleNews-vectors-negative300.bin\"\n",
    "fname_glove_wiki = \"./references/pretrained_embeddings.nosync/glove/\" \\\n",
    "                      \"glove.6B.300d.w2v.txt\"\n",
    "fname_glove_crawl = \"./references/pretrained_embeddings.nosync/glove/\" \\\n",
    "                      \"glove.840B.300d.w2v.txt\""
   ]
  },
  {
   "cell_type": "code",
   "execution_count": null,
   "metadata": {},
   "outputs": [],
   "source": [
    "# Train Models on each embedding\n",
    "model1 = model_theme_train(df.comment, Y,\n",
    "                  embedding_filepath=fname_glove_crawl,\n",
    "                  embedding_name='glove_crawl',\n",
    "                  save_model_filepath='models/keras_model_glove_crawl.h5',\n",
    "                  save_tokenizer_filepath='models/tokenizer_glove_crawl.pickle')\n",
    "\n",
    "model2 = model_theme_train(df.comment, Y,\n",
    "                  embedding_filepath=fname_glove_wiki,\n",
    "                  embedding_name='glove_wiki',\n",
    "                  save_model_filepath='models/keras_model_glove_wiki.h5',\n",
    "                  save_tokenizer_filepath='models/tokenizer_glove_wiki.pickle')\n",
    "\n",
    "model3 = model_theme_train(df.comment, Y,\n",
    "                  embedding_filepath=fname_w2v_googlenews,\n",
    "                  embedding_name='w2v_google_news',\n",
    "                  save_model_filepath='models/keras_model_w2v_google_news.h5',\n",
    "                  save_tokenizer_filepath='models/tokenizer_w2v_google_news.pickle')\n",
    "\n",
    "model4 = model_theme_train(df.comment, Y,\n",
    "                  embedding_filepath=fname_fasttext_crawl,\n",
    "                  embedding_name='fasttext_crawl',\n",
    "                  save_model_filepath='models/keras_model_fasttext_crawl.h5',\n",
    "                  save_tokenizer_filepath='models/tokenizer_fasttext_crawl.pickle')"
   ]
  },
  {
   "cell_type": "markdown",
   "metadata": {},
   "source": [
    "## How to: Predict Themes using Trained Model"
   ]
  },
  {
   "cell_type": "code",
   "execution_count": null,
   "metadata": {},
   "outputs": [],
   "source": [
    "import pandas as pd\n",
    "import numpy as np\n",
    "from src.models.wes_classification import model_theme_predict"
   ]
  },
  {
   "cell_type": "code",
   "execution_count": null,
   "metadata": {},
   "outputs": [],
   "source": [
    "# Read in Qualitative Comments and format for predictions\n",
    "df_test = pd.read_csv('data/interim/test_2018-qualitative-data.csv')\n",
    "df_test = df[['2018 Comment']].join(df.loc[:,'CPD':'OTH'])\n",
    "df_test = df.rename(columns = {'2018 Comment' : 'comment'})"
   ]
  },
  {
   "cell_type": "code",
   "execution_count": null,
   "metadata": {},
   "outputs": [],
   "source": [
    "Y_pred_glove_crawl = model_theme_predict(df_test.comment,\n",
    "    embedding_name='glove_crawl',\n",
    "    load_model_filepath='models/keras_model_glove_crawl.h5',\n",
    "    load_tokenizer_filepath='models/tokenizer_glove_crawl.pickle')\n",
    "\n",
    "Y_pred_glove_wiki = model_theme_predict(df_test.comment,\n",
    "    embedding_name='glove_wiki',\n",
    "    load_model_filepath='models/keras_model_glove_wiki.h5',\n",
    "    load_tokenizer_filepath='models/tokenizer_glove_wiki.pickle')\n",
    "\n",
    "Y_pred_w2v_google_news = model_theme_predict(df_test.comment,\n",
    "    embedding_name='w2v_google_news',\n",
    "    load_model_filepath='models/keras_model_w2v_google_news.h5',\n",
    "    load_tokenizer_filepath='models/tokenizer_w2v_google_news.pickle')\n",
    "\n",
    "Y_pred_fasttext_crawl = model_theme_predict(df_test.comment,\n",
    "    embedding_name='fasttext_crawl',\n",
    "    load_model_filepath='models/keras_model_fasttext_crawl.h5',\n",
    "    load_tokenizer_filepath='models/tokenizer_fasttext_crawl.pickle')"
   ]
  },
  {
   "cell_type": "markdown",
   "metadata": {},
   "source": [
    "## How to: Evaluate Performance"
   ]
  },
  {
   "cell_type": "code",
   "execution_count": null,
   "metadata": {},
   "outputs": [],
   "source": [
    "from src.models.eval import theme_results, investigate_results"
   ]
  },
  {
   "cell_type": "code",
   "execution_count": null,
   "metadata": {},
   "outputs": [],
   "source": [
    "Y_test = np.array(df_test.loc[:,\"CPD\":\"OTH\"])"
   ]
  },
  {
   "cell_type": "code",
   "execution_count": null,
   "metadata": {},
   "outputs": [],
   "source": [
    "Y_pred = (Y_pred_glove_crawl +\n",
    "          Y_pred_glove_wiki +\n",
    "          Y_pred_w2v_google_news +\n",
    "          Y_pred_fasttext_crawl)/4\n",
    "\n",
    "theme_results(Y_test, np.round(Y_pred))"
   ]
  },
  {
   "cell_type": "code",
   "execution_count": null,
   "metadata": {},
   "outputs": [],
   "source": []
  }
 ],
 "metadata": {
  "kernelspec": {
   "display_name": "Python 3",
   "language": "python",
   "name": "python3"
  },
  "language_info": {
   "codemirror_mode": {
    "name": "ipython",
    "version": 3
   },
   "file_extension": ".py",
   "mimetype": "text/x-python",
   "name": "python",
   "nbconvert_exporter": "python",
   "pygments_lexer": "ipython3",
   "version": "3.6.8"
  }
 },
 "nbformat": 4,
 "nbformat_minor": 2
}
