{
 "cells": [
  {
   "cell_type": "markdown",
   "metadata": {},
   "source": [
    "## Identify Sensitive Comments\n",
    "\n",
    "The following notebook outlines the procedure for removing the sensitive information. The finalized script is in the src directory.\n",
    "\n",
    "Using the python module `spacy` we are able to perform named entity recognition (NER) on all of the comments. This tags a variety of labels on words or ngrams in each comment. We are interested in the text that has been tagged `PERSON` which could potentially reveal sensitive information. In theory, NER should have identified any possible names, however there is a possibility that it missed some. This is the case if someone used a persons name but all in lower case letters. Manually looking at a sample of the data we saw no instances of this or other cases where spacy was unable to identify a persons name being used."
   ]
  },
  {
   "cell_type": "code",
   "execution_count": 2,
   "metadata": {},
   "outputs": [],
   "source": [
    "import pandas as pd\n",
    "import spacy"
   ]
  },
  {
   "cell_type": "code",
   "execution_count": 3,
   "metadata": {},
   "outputs": [],
   "source": [
    "# Read the Qualitative Data\n",
    "df_raw = pd.read_excel(\"../data/raw/2018 WES Qual Coded - Final Comments and Codes.xlsx\",\n",
    "                       skiprows = 1)\n",
    "comments = df_raw[\"2018 Comment\"]"
   ]
  },
  {
   "cell_type": "code",
   "execution_count": 6,
   "metadata": {},
   "outputs": [],
   "source": [
    "# Use spacy's library and apply NER\n",
    "nlp = spacy.load(\"en_core_web_sm\")\n",
    "docs = [nlp(comment) for comment in comments]"
   ]
  },
  {
   "cell_type": "code",
   "execution_count": 7,
   "metadata": {
    "scrolled": false
   },
   "outputs": [
    {
     "data": {
      "text/html": [
       "<div>\n",
       "<style scoped>\n",
       "    .dataframe tbody tr th:only-of-type {\n",
       "        vertical-align: middle;\n",
       "    }\n",
       "\n",
       "    .dataframe tbody tr th {\n",
       "        vertical-align: top;\n",
       "    }\n",
       "\n",
       "    .dataframe thead th {\n",
       "        text-align: right;\n",
       "    }\n",
       "</style>\n",
       "<table border=\"1\" class=\"dataframe\">\n",
       "  <thead>\n",
       "    <tr style=\"text-align: right;\">\n",
       "      <th></th>\n",
       "      <th>original_index</th>\n",
       "      <th>documents</th>\n",
       "      <th>person_text</th>\n",
       "    </tr>\n",
       "  </thead>\n",
       "  <tbody>\n",
       "    <tr>\n",
       "      <th>0</th>\n",
       "      <td>2</td>\n",
       "      <td>The problem with the BCSS is Linda Cavanaugh a...</td>\n",
       "      <td>Linda Cavanaugh</td>\n",
       "    </tr>\n",
       "    <tr>\n",
       "      <th>1</th>\n",
       "      <td>2</td>\n",
       "      <td>The problem with the BCSS is Linda Cavanaugh a...</td>\n",
       "      <td>Sheriffs</td>\n",
       "    </tr>\n",
       "    <tr>\n",
       "      <th>2</th>\n",
       "      <td>2</td>\n",
       "      <td>The problem with the BCSS is Linda Cavanaugh a...</td>\n",
       "      <td>JIBC</td>\n",
       "    </tr>\n",
       "    <tr>\n",
       "      <th>3</th>\n",
       "      <td>2</td>\n",
       "      <td>The problem with the BCSS is Linda Cavanaugh a...</td>\n",
       "      <td>JIBC</td>\n",
       "    </tr>\n",
       "    <tr>\n",
       "      <th>4</th>\n",
       "      <td>6</td>\n",
       "      <td>Administration people should have better oppor...</td>\n",
       "      <td>Admin</td>\n",
       "    </tr>\n",
       "  </tbody>\n",
       "</table>\n",
       "</div>"
      ],
      "text/plain": [
       "   original_index                                          documents  \\\n",
       "0               2  The problem with the BCSS is Linda Cavanaugh a...   \n",
       "1               2  The problem with the BCSS is Linda Cavanaugh a...   \n",
       "2               2  The problem with the BCSS is Linda Cavanaugh a...   \n",
       "3               2  The problem with the BCSS is Linda Cavanaugh a...   \n",
       "4               6  Administration people should have better oppor...   \n",
       "\n",
       "       person_text  \n",
       "0  Linda Cavanaugh  \n",
       "1         Sheriffs  \n",
       "2             JIBC  \n",
       "3             JIBC  \n",
       "4            Admin  "
      ]
     },
     "execution_count": 7,
     "metadata": {},
     "output_type": "execute_result"
    }
   ],
   "source": [
    "# Grab the documents with an entity label PERSON\n",
    "documents = []\n",
    "person_text = []\n",
    "raw_index = []\n",
    "\n",
    "for index, doc in enumerate(docs):\n",
    "    for ent in doc.ents:\n",
    "        if ent.label_ == \"PERSON\":\n",
    "            raw_index.append(index)\n",
    "            documents.append(doc.text)\n",
    "            person_text.append(ent.text)          \n",
    "\n",
    "df_persons = pd.DataFrame({'original_index': raw_index,\n",
    "                           'documents': documents, \n",
    "                           'person_text': person_text})\n",
    "\n",
    "df_persons.head()"
   ]
  },
  {
   "cell_type": "markdown",
   "metadata": {},
   "source": [
    "An example comment with sensitive information is printed below:"
   ]
  },
  {
   "cell_type": "code",
   "execution_count": 8,
   "metadata": {},
   "outputs": [
    {
     "data": {
      "text/plain": [
       "\"The problem with the BCSS is Linda Cavanaugh and the CSB. Sheriffs are minimized and trivialized. The ADM has zero law enforcement experience. It is sickening how we are treated lumped in with civilian employees. Until sheriffs are removed from the CSB nothing will change. BCSS management has no ability to make changes because the ADM has her own civilian agenda. When will Government listen to us about how the CSB is killing us? ADM for years denied we had staffing  and wage issues when it was patently untrue. Why does the JIBC have ANY say into who we hire as instructors? JIBC is NOT a gov entity and should not have say on panels or appointing PTO's. JIBC is essentially a secret society. Only those who play their game get to teach there\""
      ]
     },
     "execution_count": 8,
     "metadata": {},
     "output_type": "execute_result"
    }
   ],
   "source": [
    "comments[2]"
   ]
  },
  {
   "cell_type": "markdown",
   "metadata": {},
   "source": [
    "There are 893 words that have been identified with a `PERSON` tag"
   ]
  },
  {
   "cell_type": "code",
   "execution_count": 9,
   "metadata": {},
   "outputs": [
    {
     "data": {
      "text/plain": [
       "893"
      ]
     },
     "execution_count": 9,
     "metadata": {},
     "output_type": "execute_result"
    }
   ],
   "source": [
    "len(person_text)"
   ]
  },
  {
   "cell_type": "markdown",
   "metadata": {},
   "source": [
    "**CORRECTING THE FALSE POSITIVES AND FALSE NEGATIVES**:  \n",
    "However there are several comments that NER incorrectly tagged as `PERSON`, and therefore they do not contain sensitive information. An example of this is the word \"Admin\", which is used quite often in the comments but is not a person. To adjust for this we have cross checked all of the sensitive persons with a database of ~90,000 names. There are also cases of false positives that are in the names list but are not sensitive. An example of this is \"Langford\" which NER has tagged, and it is in the names list. We have iteratively built a list of these names that shouldn't be in the names list."
   ]
  },
  {
   "cell_type": "code",
   "execution_count": 10,
   "metadata": {},
   "outputs": [],
   "source": [
    "# CREATE list of names to cross reference \n",
    "\n",
    "df_names = pd.read_csv(\"../references/data-dictionaries/NationalNames.csv\")\n",
    "names = df_names.Name.unique().tolist()\n",
    "\n",
    "# Names that are in the names list and NER labels as Person, but are not actually\n",
    "# sensitive. ie. they are false positives\n",
    "false_names = ['Sheriff', 'Law', 'Child', 'Warden', 'Care', 'Cloud', 'Honesty',\n",
    "               'Maple', 'Marijuana', 'Parks', 'Ranger', 'Travel', 'Young', 'Branch',\n",
    "               'Field', 'Langford', 'Surrey', 'Cap', 'Lean', 'Van', 'Case', 'Min',\n",
    "               'Merit', 'Job', 'Win', 'Forest', 'Victoria']\n",
    "\n",
    "# Drop the false_names from the names list \n",
    "names = list(set(names).difference(set(false_names)))\n",
    "\n",
    "# Names that are not in the names list, but should be! ie. false negatives\n",
    "missing_names = ['Kristofferson']\n",
    "\n",
    "# Add missing names\n",
    "for missing_name in missing_names:\n",
    "    names.append(missing_name)"
   ]
  },
  {
   "cell_type": "code",
   "execution_count": 11,
   "metadata": {},
   "outputs": [],
   "source": [
    "# Cross reference the \"persons\" with the name database\n",
    "sensitive_person = []\n",
    "person_index = []\n",
    "\n",
    "for index, person in enumerate(person_text):\n",
    "    for name in person.split(): \n",
    "        if name in names:\n",
    "            sensitive_person.append(person)\n",
    "            person_index.append(index)\n",
    "            break       "
   ]
  },
  {
   "cell_type": "markdown",
   "metadata": {},
   "source": [
    "After accounting for words that are not actual names we have reduced the list of sensitive persons to 153."
   ]
  },
  {
   "cell_type": "code",
   "execution_count": 12,
   "metadata": {
    "scrolled": true
   },
   "outputs": [
    {
     "data": {
      "text/plain": [
       "153"
      ]
     },
     "execution_count": 12,
     "metadata": {},
     "output_type": "execute_result"
    }
   ],
   "source": [
    "len(sensitive_person)"
   ]
  },
  {
   "cell_type": "markdown",
   "metadata": {},
   "source": [
    "Lets take a look at all of the `PERSON`s that we considered not to be sensitive based on the cross referencing the names data. We can see we correctly removed these `PERSON`s from the sensitive list. For printing below i have just shown 10 examples."
   ]
  },
  {
   "cell_type": "code",
   "execution_count": 33,
   "metadata": {},
   "outputs": [
    {
     "data": {
      "text/plain": [
       "['Adult',\n",
       " 'Happier',\n",
       " 'Service Level Agreements',\n",
       " 'Wardens',\n",
       " 'Teleworker',\n",
       " 'Sad',\n",
       " 'Limit',\n",
       " 'Kamloops',\n",
       " 'B.C.  ']"
      ]
     },
     "execution_count": 33,
     "metadata": {},
     "output_type": "execute_result"
    }
   ],
   "source": [
    "list(set(person_text).difference(set(sensitive_person)))[1:10]"
   ]
  },
  {
   "cell_type": "markdown",
   "metadata": {},
   "source": [
    "Finally, we can grab the index of the sensitive comments which can be used to remove them from the dataset."
   ]
  },
  {
   "cell_type": "code",
   "execution_count": 14,
   "metadata": {},
   "outputs": [],
   "source": [
    "sensitive_comment_indices = df_persons.original_index[person_index].tolist()"
   ]
  },
  {
   "cell_type": "markdown",
   "metadata": {},
   "source": [
    "These are all the sensitive comments that have been identified and removed:"
   ]
  },
  {
   "cell_type": "code",
   "execution_count": 19,
   "metadata": {},
   "outputs": [
    {
     "data": {
      "text/plain": [
       "array([\"The problem with the BCSS is Linda Cavanaugh and the CSB. Sheriffs are minimized and trivialized. The ADM has zero law enforcement experience. It is sickening how we are treated lumped in with civilian employees. Until sheriffs are removed from the CSB nothing will change. BCSS management has no ability to make changes because the ADM has her own civilian agenda. When will Government listen to us about how the CSB is killing us? ADM for years denied we had staffing  and wage issues when it was patently untrue. Why does the JIBC have ANY say into who we hire as instructors? JIBC is NOT a gov entity and should not have say on panels or appointing PTO's. JIBC is essentially a secret society. Only those who play their game get to teach there\",\n",
       "       '-Follow the recommendations of Chief Ed John and also the recommendations as per the residential school commission report.  -Prioritize funding to support social workers. Some of the caseloads are too big to manage so you get a lot of turn over. Then this is even more expensive. Engaging in employee retention, exit surveys, etc. would help the bottom line overall. ',\n",
       "       'Our building owner runs a school in the building, and we are the only outsiders apart from the main floor commercial tenants.  We have  restrictions re the use of the building.  Even though we want to come a lot earlier, we have the restriction of arriving only after 7:30.  On the weekend, we have no access.  Some doors are not to be opened any more.  Fire alarms often set off, which disrupt our work inefficiently.    Morning parking has become an issue, when some school programs began to start early.  We are not offered the same rate for the parking (cost $88), while the students are offered a special rate of $25 monthly. If we could move to a different building which has less restriction, that would be great.',\n",
       "       'The addition of DW Kristofferson has set our Centre back to a time when Revisions was needed to repair the damage done by previous managers.  She is condescending and disrespectful in her interactions with all levels of rank.  She speaks far more than she listens, publically belittles and degrades others in meetings and, as such, is not trusted by the majority of the staff in the centre.',\n",
       "       \"This question asks about 'organizational' changes. I.e. at the level of the ministry. Whilst changes at this level are relevant, I'm sure, they are not as important to me as changes at the level of the branch. At the level of the branch, one major change I would like to see is a real effort to curb the Peter Principle. Far too many people are promoted outside/beyond their skill set and into management roles for which they simply are not suited. Non management skills should be recognized outside of a strict management hierarchy so that those individuals still have an opportunity at career development without moving into positions for which they (and their skills) are unsuited.\",\n",
       "       \"Look to corrections model of integrated reporting and service delivery, they have their own ADM. BCSS needs out of the CSB structure and establish a dedicated Director/ADM, always short of resources. The work is different, the challenges are different, the leadership, culture, work, risks are different. Why do we have 5 Ed's on court side and just one on Sheriff side? No rhyme or reason. New ADM every 3-4 years who is surprised to learn we have sheriffs in BC. Then the process begins all over again, travel the province meet and greet, 'hi we value you, what do you do again?' explain and justify, etc, etc, no understanding of past challenges and progress made, its like groundhog day. Time to move on\",\n",
       "       \"Realize that 'water cooler talk', as Bobbi disparagingly called it, is a response to the extremely poor communication within ISB.  Trust is part of open communication.  It doesn't help when Manjit Bains exhorts the Executive to spy on employees and report those who make what are considered negative comments.  Not only that, she loiters around, eavesdropping on conversations.  As a consultant brought into improve the working environment, she shuts down feedback judged to be negative, instead of trying to get at the root of the message.\",\n",
       "       \"If my organization is changing admin processes resulting in extra time working on certain tasks, then it's understandable some offices may need to hire an extra employee or two.  It's been going on two years now that our office is just barely keeping our heads above water.  It's very frustrating and can result (and it has) in staff turnover.  I don't mean to be a 'Debbie Downer' but it's been extremely frustrating these past couple of years.\",\n",
       "       \"We spend too much time on the urgent but unimportant.  The Branch needs to control work flow at the low end.  The high end is getting squeezed because we don't say 'no' often enough at the low end.  With Jordan, we need to make hard decisions.  So let's make them, and make them faster.\",\n",
       "       'Shane Breitkreutz should be fired or demoted and sent back up north. He does not have any of the basic skills needed to do the job, other than hide in his office all/every day. There is NO pride in our jobs. We need to be paid more money, this Christmas I had to choose between buying food, paying bills or getting a presents for my family. I had to go to the food bank to support my family even after 20 years of loyal service. I only wish I could be allowed to screw up and write as much overtime as I would like as Mark Hermiston does with no oversight, and take 3 extra weeks off on CTO after Christmas holidays. Sheriffs need more money and better benefits to help our families. Management needs to stop bullying and harassing staff to do things',\n",
       "       \"I think our organization would be much improved if sheriffs were removed out of court services. Lynda Cavanaugh shouldn't be running a Law enforcement organization when all her back ground only has to do with court services and that's where most of her focus is. I believe we need someone on charge that has some Law enforcement back ground and that's the only way our organization will move forward and get better in the future. The current wage sheriffs makes is pathetic when compared to other agencies comparable to ours as the training matrix and point system is geared towards administrative duties and is not geared at all towards a Law Enforcement Agency and hinders and holds us back from gaining valuable points towards an increase in pay.\",\n",
       "       \"It's time for our leadership to do anything that demonstrates a commitment to equality.  My confidence in them to uphold the equality of women has plummeted over the last year.  Our Standards of Conduct say to not engage in discriminatory conduct prohibited by the Human Rights Code.  Our leadership supports the Moose Hide Campaign, touted as a way to address violence.  Our leaders seem like decent men, they at least say the right words, but then champion men who discriminate and harass.  Or they continue to make anti-feminist comments.  'Gordon Houston, Q.C.' feels like the last straw.  Don't underestimate the negative impact lip service has on the morale of a significant proportion of your workforce.\",\n",
       "       'We have a great leader in our group, Paul Yearwood.  If there were a way, however, to free him up to take on litigation files, that would be great as he has a wealth of litigation experience and would be a great mentor for lawyers in the group if he kept a more active litigation practice.  ',\n",
       "       \"(1) software - timekeeping and file management software is totally inadequate, and important tools that would allow us to manage document versions or compare documents are missing.  This limits my performance.  (2) office location (1405 Douglas) is unfortunately terrible - multiple emergency vehicles go by everyday (community health clinic nearby) and I feel unsafe/uncomfortable walking in the 2 blocks on either side of our office. temperature control is also awful in this building. (3) appreciation - we are expected to pay for our own kitchen equipment and lawyers are required to pay for the Christmas party.  This does not make me feel valued and doesn't even seem adequate in terms of equipping the workplace for human occupants. \",\n",
       "       'we as sheriffs are not paid enough we lose our staff to other agencies daily. OUR UNION IS POWERLESS. We need to find ways to compensate sheriffs better for there work or they will continue to leave for other agencies creating a revolving door. The sergeants I work for do a great job our inspector is Garfield Shirley he does a great job.  money is the problem money ',\n",
       "       'RETENTION: There is a large wage disparity between the BC Sheriff Service and other comparable law enforcement organizations. When looking at partner agencies such as police, border services, corrections (provincial and federal), they are ALL paid more than Sheriffs. This wage disparity was publically acknowledged by AG David Eby yet the ADM continues to focus on recruitment to fill the void of highly trained employees leaving for higher paying law enforcement jobs. Retention due to outrageously low salaries is the biggest issue this service faces today. I truly enjoy my job, my supervisors and the work/life balance Sheriff Service provides. The cost of housing, fuel, food, childcare continue to increase however my salary remains unchanged',\n",
       "       'I work in Court Services and we are sadly in need of new computer equipment. We need updated and better equipment to do our jobs correctly.  We also need better direction from the higher levels of management. We are told of new directions and protocols, but they are either slow to implement or non-starters. For example, we were to meet, as a group, with Melanie Neal regarding CSB Strategic Planning. We were asked to take time to respond to questions in preparation and set aside a morning to meet. She has cancelled 3 times in a row. Once, she said she was sick, but then was present for a party in the afternoon. The general feeling about her leadership skills is very negative and this reflects directly on the ministry as an organization.',\n",
       "       'BC Liberal Hacks are still in leadership positions across government and should be terminated by the BC NDP.  The new DM to the Premier has done a very poor job of getting rid of the nepotistic appointees across government.  Lori Halls has to go, so does Kevin Gardine',\n",
       "       \"The entire BC public service (SHR in particular) needs to recognize that Nicola Marotz and Tara Faganello are exceptional and unique leaders. Far beyond anyone else I've ever worked for, Nicola and Tara 'speak' with their actions and their actions reflect values that every civil servant should aspire to (notably, values of good public policy and care for the people one works with).   When one has experienced exceptional leadership like theirs,nothing else seems to really matter in terms of leadership. If SHR could figure out how to 'model' the leadership approach of  Tara and Nicola, the value to the public service would be close to immeasurable.   \",\n",
       "       'ED David Muter - favoritism/boys club, micromanages: HR policies not standard or following PSA-ED reviews all Questions for hires, imposes 1-1 interviews, does not allow managers to lead or trust them, challenges screening when friend not screened in, holds back on HR approvals=pressure on staff, Additional Contract checklist in addition to main approval form-leads to delays in approvals. Why are we not LEAN?  Sessions to improve division-staff had to sit with Exec to share concerns - likely will not get true feedback with exec there so no real change   No recognition by ED of projects completed; lack of understanding of what it takes to get it done   NEED more STAFF to support workload. Staff are stressed & burning out. Take care of staff ',\n",
       "       \"I was disappointed in the year end ministry wide celebration this year. Last year, there was an open house in the DMO, where I felt welcomed and celebrated. This year, there was hot chocolate and cookies placed on every floor, and it was treated more as something that you come by to grab on your way to your desk.  It was timed with a Minister visit, but there was a complete lack of communication about where she would be and when. She flew through so quickly that she didn't make it to our end of the building, and there was no invitation to meet her at a specific location.  Also, because the event was centred around Minister Mark, it was barely an event at all as soon as the Minister was no longer in the building.\",\n",
       "       'In my view, MMS is the best electronic tool we use.  Why?  Because EMPR has a dedicated person who knows MMS (Ann Hart) who we can go to when there is a problem and she has a dedicated capable knowledgeable computer person (Neil Wells) she goes to that can make the necessary fixes.  MMS down time is minimal.  The rest of the systems we use, eg. PDF,eReferral, chips, etc. have a phone number with a random person whose turn to answer the phone is next who may or may not have knowledge of a system or program and, although they try, they may or may not fix the problem.  I find it better to sign off those systems that decide not to work on a given day, do other work that does not involve those systems and try the next day. That works.       ',\n",
       "       \"We need leadership at the low-mid Executive level.  The DM is awesome; keeps us informed, connects with staff and demonstrates strong leadership. The Chief Inspector has been absent since Mt.Polley.  He got busy with Mt.Polley and the AG report and hasn't provided any leadership since.  He is needed, but unfortunately is no where to be found on most issues. The ADM seems pretty good.  He definitely says the right things, but time will tell if he walks the walk. Nate seems to be a 'yes man' that will just implement whatever he is told, without knowing how it will affect the team. Julie seems nice, but I haven't seen her deliver very much yet - time will tell. The 5 directors are completely ineffective.  They don't communicate or do anyth\",\n",
       "       'Our workspace (4th floor  Jack Davis Building) is being renovated this year to LWPS. We were not consulted on this change. I strongly encourage you to hold meaningful consultations with occupants before building begins to ensure the changes enhance rather than detract from productivity.',\n",
       "       \"We keep talking about a Respectful workplace. At BCMP Victoria we DO NOT have a respectful work place. There is NO Accountability at all from Don Swaggar to Dawson Brenner to the Managers or Supervisors or Employees. They hired some new employees that get away with bad behavior (swearing at employees or WORSE) and management does nothing about it, no written reports, no disciplinary action, nothing, they DON'T CARE. So as a result, we are stuck with those people and they DO get away with bad behaviour, swearing at employees. The only thing that Don Swaggar cares about is how much $$$$$ do we make at BCMP. I can not wait to leave the BC Public Service. As BCMP Victoria is a TOXIC environment. Would not even recommend anyone to work there.\",\n",
       "       'I do not think the survey is fair to Sunny and Jill as they are relatively new in their current positions.  Establish strong leadership. Retain experienced/knowledgeable staff who know the business. Establish clear roles and responsibilities. Hold people accountable. Create a positive environment to minimize turnover (at all levels).',\n",
       "       \"There appears to be a gap in communication at the Director and Ed level.  They are often too busy to respond to enquifies and meetings are rushed.  There doesn't appear to be any accountability from the directors and the Executive director to the staff that report to them.   While we had poor WES scores last year the attempt to resolve was superficial and did not result in any change to the environment.\",\n",
       "       'This office is a completely full of shit. Firing management of this office, starting with Chad Hoskins and Cindy Kukucska. They are big fat fucking liars.  ',\n",
       "       'Over the 30 years of being with the Ministry I have never had such a great group of supervisors, Kim Turner, Cyndie Hui, and Karen Spears. They are the most transparent and supportive supervisors ever. With how short staffed everyone can be their always available, as I am only speaking for myself. ',\n",
       "       'Working with Facilities to create more functional work spaces.  More SDPR space in the eastern and central Fraser Valley.  Work spaces that include more bookable confidential space for supervisors that work open concept.  Improved access to ergonomic supports and functional basic equipment.  Improved cleaning contracts.',\n",
       "       '-more championing of positive work -more support for staff with professional development and growth opportunities -slowing down expansion of the STADD program to allow for sustainability, relationship and trust building -focused attention on the accessibility of Collaborate for multi-barriered families  -more communications support for Donald to capture more stories and do more inter-ministerial work -more presence of the director with partners in each community at the school district, MCFD, CLBC level -defined team leader/policy lead role for the team        ',\n",
       "       \"These questions were answered with my virtual group in mind & I adore them.  Debbie Upton is the most inspirational woman that I know, and I am happy to keep her happy.  However, I have been a 'target' from a supervisor bully at the local level which I can only assume was supported by her superiors.  I think that there needs to be a separate WES section regarding local office arrangements for virtual staff.  And, I also think that there needs to be an anonymous reporting system to track incidents of bullying by any individual.  This experience (and not mine borne alone) went on for years; still is.  4 staff gone- then me- I fought back.  It compromised my whole being- made my work suffer.  \",\n",
       "       \"I don't believe the unit I work in needs to be in this particular building (Vefra Building, 908 Pandora), I feel like if we were in a different building that was nicer and not in this area of town, I would feel better about going into the office everyday and definitely more safe. I often feel unsafe walking to work in the morning and evenings in this part of town. \",\n",
       "       'Executive in TRAN really need to get out and start communicating vision and direction of ministry.  We need to see Grant more, we rarely do.',\n",
       "       \"Work: Don't micro-manage: empower and support more meaningful decision-making below director level so more work can get done.  PSA:  Don't have a 750 character limit for feedback.  Stop the WES - no changes result.  Overhaul the contrived competency based hiring model which makes the process onerous without proving the suitability of candidates, and disadvantages staff not permitted to perform, or develop skills, at a level that later enables internal advancement.  The current culture favours younger staff, and sidelines past experience.  The Peter Principle is alive and well across government because doing what you are told is more important than what you actually achieve, and older staff are often sidelined, overlooked, and undervalued. \",\n",
       "       \"there is zero communication or interaction with Executive amongst the staff. I guarantee you that they have no idea of our names. that's sad and unlike other places I've worked. I don't think Nancy Bain has ever even acknowledged me or said hello to me even when standing right beside me. that's poor leadership\",\n",
       "       \"The ability to purchase basic work supplies/equipment such as stand up desks, comfortable chairs, modernized office furniture (we spend lots of time in our offices and the décor is dated, old, broken, uncomfortable). When you go to Executive offices they all have new comfortable furniture and things look inviting and modern. I'm sure if Kevin Richter complained about his chair or desk there would be no hesitation  buy something comfortable, yet we are told there is a freeze on furniture. Other district/regional offices and other ministries often have comfortable furniture and inviting workspaces. Also, the heating is freezing in winter with no temperature control, we have to 'smuggle in' baseboard heaters that we have to pay for ourselves.\",\n",
       "       \"Senior leadership/Executive (DM, ADM, ED) need to be held personally accountable for their performance and outcomes with regards to PSA core values (integrity, ethics, merit) and '360' surveys need to be mandatory for every excluded manager - why are they excluded employees if they never get fired for things like 'triple-delete' or 'Highway of Tears' which our organization is 'famous' for? We should be know for great infrastructure projects, but just look at the disasters that Port Mann and George Massey projects were/are.\",\n",
       "       \"To quote Tom Cruise and Cuba Gooding Jr. in the film Jerry Maguire 'show me the money!!!' Provide the proper tools and facilities to do my job comfortable in all four seasons.\",\n",
       "       \"The upper level Executive has improved with communication of higher level decisions and visions over the last few years. I really enjoy Kevin Richters emails and videos. I find that in the office that a lot of upper level decisions aren't discussed with the work units as change management can be difficult within a district office.\",\n",
       "       \"We need to properly address our current infrastructure. I realize that there are budgetary restrictions but as an example, we spent however much money to clear ice from the Alex Fraser which happens every 8-10 years but we don't upkeep highway lines, research new technologies, or generally upkeep infrastructure. Why? I get that there is a PR aspect but it seems silly to go after PR when immediate issues are present. It also seems ridiculous to have politicians say that we're going to do X project when some department can clearly explain the obvious shortcomings or lack of necessity.\",\n",
       "       'My ratings regarding Executive apply to Victoria execs, not to Byron Jonson.  I feel well supported by Jonson, but feel like Victoria Executives are not very well connected to what we do and are not supportive of the lower level staff.',\n",
       "       'Ensure that we have the physical tools to do our jobs well. Ensure people have access to ergonomically suitable work spaces and have better access to  office equipment (chairs, standing desks, lamps, etc.) when needed.  Install projector and desktop computer in at least one staff boardroom at 808 Douglas to facilitate remote meetings between staff in branches split between Victoria and Abbotsford.   ',\n",
       "       \"There seems to be a strong drive to keep me from moving up in this organization.  A number of employees have been here many years, and are extremely resistant to change.  They also have seniority, which seems to be heavily weighted in the hiring process.  There is a strong culture of doing things 'off the books' because systems and unions are not functioning. Many employees in the coveted Senior Park Ranger positions specifically are extremely disheartened by their level of pay and regularly consider other jobs.  When seeking training that I see as related to this job that would allow me to move up within the organization or BC government, I am told that the training is not directly related to my current position, and will not be supported.\",\n",
       "       'OCG leadership is alarming, Carl targets/mocks/marginalizes/bullies staff (often women) and is regularly rude and disrespectful. Fear and intimidation are part of his everyday management style, often treating staff as inferior. His command and control approach, coupled with manipulative behavior and lack of transparency cultivates a justified air of mistrust. His moral compass is lacking, the concepts of honesty and integrity are foreign and he will openly tell blatant untruths to obtain a desired result. He is condescending and patronizing to staff, and not above publicly/privately humiliating them to the point of tears. Many of these traits were pre-existing; it is unclear how he could be promoted. How embarrassing for the Public Service.',\n",
       "       'Improving the wifi within my building (1810 Blanshard St) to enable more effective use of laptops.',\n",
       "       \"Merrit based Career growth than what's currently being practised. Some sort review of people accountable for decision making.\",\n",
       "       'remove Dennis Forbes ',\n",
       "       \"Don't have Alice come back as she is a terrible leader and made Lily cry (and leave) and others leave as well\",\n",
       "       \"Cheaper gym fees.  It's more expensive than Steve nash and not near the quality.  They should be encouraging staff to use it by making it a reasonable rate.  More locker space.\",\n",
       "       \"Being with BC govt/CTAB for less than 2 yrs, my professional experience has been awesome! This is solely due to our Executive Director/ Satish Perhar & our Team Lead/ Jason Hayes who have jointly provided three pillars of support:(1) professional mentorship/ expertise; (2) genuine interest in our professional development/success/ work-family balance; and (3) logistics/ tools to do our job (office/field).  Satish's and Jason's unwavering support has resulted in achieving productive goals for the team/ division/ Ministry- as well as a very enriching professional experience for me(as a relatively new employee). Hope the harmonious synergy between HQ/Satish and region/Jason continues-resulting in a WIN-WIN situation for mgt/ employee/ clients! \",\n",
       "       \"Planning/communication around our workplace re-vamp. Design doesn't meet functional requirements. Disparity between staff in terms of space allotted (some in spacious cubicles, some crammed together in banks of desks - regardless of mobile/resident designation). Communication re: space planning has been poor - things communicated after the fact in some cases and complete silence most of the time. Change management strategies/considerations seemingly absent. HOWEVER, operational work has been great. Emma Bennett and Kathy Cordner have been forthcoming and responsive. Issues seem to be higher up. Other: Better support for staff during changes in process (eg decision note requirements/process unclear, contracting process changes frequently.\",\n",
       "       \"better laptops for mobile workers.   better wifi in building.  better coffee in kitchen (starbucks, Tim's, mcdonald's)\",\n",
       "       \"EMBC, as communicated by our ADM Bob Turner is a 'learning' organization with an interest in improving effectiveness and leading change. I believe that EMBC management and Executive is genuinely committed to these goals. I remain concerned however, that achieving these objectives requires a level of capacity, focus and resources which are difficult to find in the aftermath of the 2017 event season, the rapid growth of the organization and numerous ongoing projects and initiatives. While a 'suggestion box' may be a simplistic approach, I would like to see an initiative which enables staff to propose new ideas in a way which overcomes workload challenges. I also believe it critical that the Coastal Response Improvement Plan proceeds.\",\n",
       "       \"Lotus Notes is cumbersome and outdated. I believe our work unit's work flow could be greatly improved with updated/improved software. My co-workers have implemented a multitude of 'work arounds' in order to perform their duties efficiently. \",\n",
       "       \"Valuing the operations side of our organization.  More resources seem to be channelled to GCPE HQ leaving operations to work short-handed and fight for help.  Projects from HQ sideline work that supports our client base.  And PSA doesn't seem to understand that we are a mixed shop (OIC versus BCGEU).  A blanket email was sent to all staff in the July offering employees the option of a buyout.  Many union employees wasted valuable time weighing their options, only to be told in the information session that it didn't apply to us.  Not only did we never receive an apology for Lori Halls, but after being brought up in the first session, there was no effort to let people attending the second session know that it didn't apply to union employees.\",\n",
       "       \"Better tools and access: laptop so I can work in meetings just like all the contractors in the same meeting do, iphone app and appropriate access so I can connect to email and calendar like all management get (I'm supplying my own iphone, just want the access. Summer does not work). VPN access to LAN files from home.  Do you think that non-management never do extra work after hours from home? Or is it a trust issue?\",\n",
       "       \"The DM and his Associate DMs do NOT 'walk the talk' of the culture change they are putting us through. They need to trust and empower staff at all levels of the ministry. This will mean ensuring the barriers to that success are removed. When those barriers are individuals who do not want to change (e.g., the ADM of finance, AsDM Lynn Stevenson) they should be required to make drastic changes, and if they can/will not, then be let go. \",\n",
       "       \"I am hoping that with the new initiative's brought forth recently that situations in our work unit will improve.  I believe in the vision brought forth by Stephen Brown and hope that each work unit is evaluated fairly and with open eyes. I also hope that lower grid employees have an opportunity to have a safe, confidential one on one to express what they experience with an outside consult.  I believe that there are some individuals in higher positions that may not feel that change is applicable to them and I hope it is clearly outlined how it is.  I do feel there needs to be more appreciation for workers on all levels and hope that improves as well.  The health of the building and work areas also needs to improve IE: kitchens/washrooms.  \",\n",
       "       \"All of my answers this year are reflective that my regular supervisor Luigi Sposato was away.  Those acting in his role, kept the ship 'afloat' but there were a lot of issues, from morale to process management.  One thing MIRR could do better is have consistent leadership at the ADM level and strong leadership.  Last year, it seemed more and more apparent that others were running this organization and not our ADM or DM.\",\n",
       "       \"since Doug started, no known priorities or corporate plan to achieve them has been shared. what is #1 negotiation priority? Top 5? suggest confirming what priorities are, and then resourcing to achieve them or else we are just going to waste more time.   What's the point in fielding questions at the all staff if you are going to ignore what everyone asked about - priorities - just to joke about plaid shirts? Suggest providing people info they have been asking for i.e. list of priorities.  when will the support parts of the ministry (SPB, ILSB etc) be staffed appropriately to assist with NROD outlandish commitments and desires? contracting more negotiators isn't going to help if they have no policy/lands support to achieve good agreements. \",\n",
       "       \"Set clearly understandable priorities and then make sure they get done.  Other Ministries with challenging files do this, we can too.  FLNRORD calls this 'work planning' - divisional and branch plans that are easily understandable (e.g. task specific, not vaguely defined) for which ADMs are accountable.  Executive then check up on progress throughout the year, not just at FY end.  This enables the organization to prioritize and complete work.  When everything is a 'priority'we don't progress much on anything.  The negatively limits our 'reconciliation' mandate.  We continuously over promise and under deliver.     Complete MyPerformance as required (4 mtgs per cycle), not day before due.  Link MyPerformance cycle to Work Planning cycle.   \",\n",
       "       \"My low scores are influenced by staffing pressures felt in my office, specifically Luigi's position not being properly back filled.  Peter Poland and Karen MacDowell covered his position however were expected to do their normal jobs at the same time.  This direction from senior management was difficult on staff in our office, as there was reduced focus on staffing needs, limited file distribution to staff and ability to begin new files in our office. Also- there were increased task responsibilities placed on staff to support Peter and Karen doing 2 jobs. This contributed to job dissatisfaction and disappointment in senior management choices. As a note: I believe Karen and Peter did the best they could in the situations they were offered.\",\n",
       "       'I am an office clerk in Adult Probation in Port Coquitlam for over 20yrs. As I have seen over the years, one full time job the same as mine was cut, due to numbers of clients. NOW its a different story. Maple Ridge has closed the Court House, so we are the main Court House in the whole area. We have one, ME front staff and an office manager. This is so unacceptable its not funny anymore.  We need another steno full time just to keep up with the work loads.  We are always told NO, we cant. Govt cant afford it. But really, it causes burn out, stress and high levels of anxiety.  Its stupid, and I can never understand why. As Managers and upper levels have NO idea, unless they actually sit one day in our office. We need more front staff period',\n",
       "       \"I have a director who is unwilling to listen to the opinions of those better informed on certain issues, hiding instead behind their title & presumed authority. This is bad for the organization and for employee engagement. It is, in fact, next to impossible to get near the person, and pointless in any event. This all goes against every management precept. 'Courage' as a public service virtue? Hmm...\",\n",
       "       \"Remove Sam MacLeod as Superintendent and Steve Roberts as Deputy Superintendent at RoadSafetyBC.  Replace them with caring individuals who show compassion towards staff, treat them with dignity and respect and value their contribution to the organization.  Sam and Steve's actions have lead to the deterioration of morale, including, cancelling the 4-day work-week.  They have also jeopardized the integrity and sustainability of the IRP Program by allowing Adjudicator decisions to be fettered by legal services and making the decision to not pay IRP Adjudicators adequately for the complex, mentally demanding work that they do.  Their innumerable negative decisions have caused an extremely serious attraction and retainment issue on the IRP Team.\",\n",
       "       \"The managers at the ADW level at VIRCC are very weak and do not work as a team, I constantly am talked down to and disregarded despite having thousands of hours more experience than any of the ADW's have in dealing with offenders. Specifically ADW Leonard and ADW Davis, V are lazy and self serving and I am tired of hearing them bad mouth the senior leadership of the center who are in my opinion doing a very good job at trying to change the culture. It is hard to believe these individuals are paid the amount of money they are paid to do nothing when the CS group is busting their butts running the center. This place is poison right now worst in over twenty years. I am embarrassed to say I work in corrections. \",\n",
       "       \"Phys work environment: Cubicles SUCK! Quality of work is negatively impacted & has had adverse effects on staff.  Abb has a large staff complement & the constant noise, interruptions, lack of privacy have contributed greatly to the animosity amongst co-workers.  The phys location of Abb Prob is embarrassing, and for the past 10 yrs the concerns have been ignored and/or minimized - with no heat, leaky ceiling, ants in the lunchroom, inadequate bathroom facilities, and lack of office space for the number of staff!!!!  Please don't insult staff by suggesting that our opinions or concerns matter, if that was the case changes would have been made many years ago... but thank you for a new facility in 2019/2020/2021 ? :(  \",\n",
       "       'Ms Leanne Kristofferson tells us to take more risks with inmates. I am not quite sure if she realizes that these are maximum security inmates housed in KRCC.',\n",
       "       'I suggest that if we are sold the idea of a healthy work place that we should get that. The promotion of people that are cancerous to the morale and operation of the centre into management positions and then even into a DW spot is alarming, disheartening and frustrating for those of us who have bought into the idea of Organizational health. Mr. Dempsey has caused so much havoc, unrest and discord among the staff at the centre it has become a horrific place to work. We need strong leaders at this centre to help us get to a place where organizational health is both a possibility and a likelihood. Instead we have infighting and stress that will take us over and send us to certain ruin.  ',\n",
       "       \"We now have a Warden that is receptive to listening to all of his staff and formulating plans according to information they provide. Thank you. The only toxic management member we have is the one that came to us after a tour with a few other jails. Ms Kristofferson has no finesse, no compassion; it feels as though staff are a mere nuisance to her vision (whatever that may be at the time). I haven't seen this in the management team since the days of Davies and Seymour and it's a shame it is back. Her attitude can be appalling. She has said, 'Staff need to take more risks, they can't keep an inmate locked up because they are scared' when referring to an I/m with escalating behaviour with Hx of staff assault. Please send her to elsewhere. \",\n",
       "       \"My suggestion is this...If the WES scores are to be taken seriously, And that our answers are valuable to the organization then why not put the effort in to spelling things properly instead of making the employee feel that the system really doesn't care about quality control and that this system is redundant. By telling us that it is important to take part in the WES survey and that you care about us and then making an error in spelling...Frankly undermines what the WES score system stands for, And if I don't get a response from anyone regarding this, Then I know that you don't even read what we write down which in turn completely negates the fact that you say we are valued employees of the Provincial government. Regards, Matthew Paton.  \",\n",
       "       \"Improvements have been made to the hiring process in the last couple of years.  Also, there have been great improvements in the quality and nature of our training.  What is still lacking is the workload.  The nature of the work very stressful, yet we are expected to manage overwhelming volumes of work.  There is a constant level of STIIP due to burn out. Mgmt does not acknowledge that the more FTE's are required to bring down the workload to manageable levels.  Sure, you are saving on FTE's only to have to pay out STIIP to employees not at the worksite.  Robbing Peter to pay Paul makes no sense.  If offices, some require more than others, were to get one or two more FTE's to distribute the workload, I believe the benefit would be huge\",\n",
       "       \"Our hiring process improve so that it's transparent/fair.People get screened into competitions because they meet the qualifications,not because we screen everyone in.We are consistent with how we post,either post every job internal and then if that doesn't work then go external.Treat everyone equal-you can see HR team members give more opportunities to selective group of people such as their friends.HR team is supposed to be working at improving our work environment,yet many people in the organization don't trust/respect them.It would be more productive to have a WES group they aren't involved in so people can speak openly/not fear they'll be judged.Does Sam know everything that goes on?Why do we have a HR team and not just use the PSA???? \",\n",
       "       \"FAser Regional Correctional Centre is the most corrupt place to work.  I love my job working as a Correctional Officer. I love the staff I work with.  But the management needs to go.  The promotional opportunities are only given to the select few who management have groomed. If you do not 'go along to get along' you are labeled a rebal rouser.  If you take any position on the Union you will be targeted by senior management.  DW Nedj Macesic ( who is the definition of a workplace bully) has intimidated and harassed me more times then I care to remember. Warden Don Tosh has never taken control of his worksite.  The morale at Fraser Regional Correctional Centre is a local 'Leadership' problem 100% \",\n",
       "       \"1We need fair pay for this job to retain staff.2. Teamwork only applies to CO's, CS's don't lead jail frisks EVER! Lot's of CS's sitting around. CS's are paid to lead and just hide.3.You can avoid doing your job your whole carreer and get promoted (CS James Brown).4. Competency building causes distrust.Tuck got a personal friend from church hired (Lindsey Doerkson). She requested to work outside of programs but ADW Tuck made an Executive decision to place her against her will in programs this way he can help her get promoted. Heis not at all trusted by staff and is a major reason why staff morale is low.ADWLaferdy still can not make a decision for the life of him. Promoting inexperienced staff to CS puts all our safety at risk(CS Henderson)\",\n",
       "       \"My work is potentially dangerous. Verbal abuse is regular. They don't pay me enough to enjoy my work. The staff turn over is enormous. Classes are hired so fast. By I have learned their names, they already gone.\",\n",
       "       'The succession planning in this building in the past has been driven by self serving, ego centric, unintelligent sociopaths. Scott Dempsey, Vicky Davis and Ted Leonard are leftovers from a management team who made it their priority to control this place by fear. This building should be a place of healing, not corrupted by the unkind actions of those who seek to only serve themselves. Staff and inmates are both suffering, we all lack a safe environment to exist in, and have to worry about the predatory behaviours of managers abusing their power. Kindness should be celebrated, promoted and cultured amongst us all, that direction starts from above, provide us with social models we can emulate and follow into the future. We are relying on you.',\n",
       "       \"RSBC claims to be focusing a more respectful work environment. We 'all' had to do 'Building A Respectful Workplace', but I read the class lists and I didn't see Sam MacLeod's name on any of them. Respectful behaviour needs to be modelled by authority, but that isn't happening in practice at RSBC.\",\n",
       "       'I would like management, in particular ADW Scott Dempsey to be held accountable for their actions. I have zero confidence in a manager who has been caught lying to me causing me to quit my department. I would not feel confident in trying to further my career in an organization that does not value its employees enough to be honest with them, then expect those same employees to show integrity at all times. It really is farcical they way our management has acted for some years, causing one of the worst staffing retention issues in the government. ',\n",
       "       \"KRCC is a healthy place to work with the exception of one person. Leanne Kristofferson has recently come to our jail as a deputy warden and she has shown her true colours as of late. Belittling her peers and luring her subordinates into her office for a 'friendly chat' which then turns into an interrogation or even discipline of some sort are common occurences when working with this person. She is unable to read physical cues from her co workers and seems unable to monitor her own as she wears her emotions clearly on her face when she disagrees with an employees or peers input that does not coincide with her own point of view. KRCC needs a strong leadership group that is able to change peoples 'us vs. them' mentality. Which she is not\",\n",
       "       'I think there is tremendous top down leadership with the organization. But sometimes there lacks clarity on who is responsible for what. Perhaps in the Organizational Chart, a list of key job duties can be included for each individual on that chart (EG. John Smith, Manager of Stuff, Responsible for Making Boxes, Ordering Pizza and Making Coffee) at a high level. I think we need to create the space for more bottom up engagement - there seems to be a lot of top-down policy making but I get the sense staff generally do not feel they can influence change in policy or at the top. Some change has been made in this area, but more can be done. Ultimately Executive have final say, but engagement creates buy-in even if policies are not adopted.',\n",
       "       'Former Warden at VIRCC Shauna Morgan actively covered up sexual harassment complaints from staff against ADW Stacey Trudgeon.  We currently are operating under managers at VIRCC who do not have the experience, communication skills, or education to properly manage our facility (this excludes the current Warden who is great).  We need fresh people from outside of our centre with Corrections experience.  Corrections Officers wages are far too low.  I am ACTIVELY seeking employment elsewhere (outside of the BC Public Service).',\n",
       "       'Get rid of all the spitefull, lazy and egotistical Managers. Everyone other then Richard Reeves, Jeff Maduke, and Treena Bartko are out for themselves and only out to make themselves feel better by picking on staff. Luckily we have these 3 DW/ADWs holding the ship afloat in the mean time. These 3 are excellent leaders but are handicapped by their terrible team of supervisors and fellow managers. ',\n",
       "       \"tech made available to -- work remotely -- work flexibly, based on deliverables and not hours put in - tech not held back based on budget (i.e. VPN seen as just an unnecessary expense) by EDs/admins  - less individualism and politics in daily work through team assignments and censuring of anti-social behaviours  - wages raised to either match livability in the region you are in, or highest region of work (e.g. wages match living wage for Vancouver no matter where you work in province, or Vancouver wage for Vancouver workers, Nelson wage for Nelson workers, etc.) - Greater differentiation between 27 level and Band 1-2, or inclusion of 'Managers' in Union with commensurate benefits to a level above 27s \",\n",
       "       \"Pay us what we're worth! You want to retain quality employees in Corrections? Pay us what we're worth! Why wouldn't anyone in their right mind switch to Federal Corrections or go into Policing when the pay is exponentially higher!? We put our lives on the line and work all kinds of terrible hours to make a few dollars more than a line cook at Denny's. It's disgraceful.\",\n",
       "       \"I think I reiterate many of my fellow staff member's concerns when we take a look at our senior management team. Also, the same amount of staff consider that Mr Fitzpatrick is doing the best job he can to champion organisational health, but this is an up hill battle with 2 main concerns: 1. The pay we receive for this job is not enough and this doesn't make people want to work here, and 2: MAIN POINT: The lack of respect shown to Mr Dempsey is quite profound; and for good reason. He is so disliked that it's astounding that he has a job here. If this is the kind of individual we have at the top of our organisational tree then the organisational health will never be where it needs to be whether we receive adequate pay or not. \",\n",
       "       'Mandatory 2 unit officers in Alpha East, Alpha West, Charlie South and Charlie West.',\n",
       "       \"We have an absolutely crushing workload.  Burnout is common.  Undertake an audit of the NRPP, and direct them to make 'meaningful' changes that reduce staff workload.  Everything they have done so far, has resulted in a workload increase for staff.  Our work unit has done a Kaizen to streamline the new application process, but our systems must also change to align with our streamlining.  We are having to implement 'bandaids' to solve problems that our systems are creating.  There are many ideas to improve our business processes, but it's taking way too long to implement them.  We need additional resources.  I don't know why I waste my time on surveys - it won't make a difference.\",\n",
       "       'My responses for the My Executive portion of the survey are specific to Gerry MacDougall.  While I appreciate the opportunity to complete these surveys, I have not seen any tangible improvement or change with respect to employee stress and workload since the last survey.  Executive (DM, ADM, RED, District Managers) need to stop talking about doing something about this issue and actually take steps to improve this for staff.  ',\n",
       "       \"Mass email notes for information or appreciation, does not have any meaningful impact or perception of sincerity.  Face to face meetings with district staff (operational workers) once in a while is critical for engagement.  Staff want to feel a real connection to Executive and this this still lacking.   If Executive can not meet face to face, they could do more live video/ teleconference meetings for interactive communication, providing an opportunity for all staff to get to know Executive and be heard. Tim Sheldon's DEAC is an excellent resource and maybe more subgroups like this could be valuable.  Staff feel that Executive loose the 'feel' for on the ground  issues as their information is too filtered by the time it reaches them.\",\n",
       "       'Succession planning remains a priority, but the most effective method to knowledge transfer is to have an overlap between outgoing and incoming employees.  I think we need dedicated resources to make this happen.  And we need more summer students.  We need to give young people a great impression of the public service during their school years.  Summer students invigorate an office.',\n",
       "       'Work hard in those areas where Wes surveys are poor I recently moved from one department to another and the past department was struggling in all areas. My new department is a breath of fresh air. Excellent managers great supervisor and near achievable goals. ',\n",
       "       \"Receive fair value for the Timber we are removing from the land. We have had several years of subsidizing licensee's and it is time to take some of that revenue back as lumber is at an all time high. Admit as an organization that Professional Reliance as well as FRPA is not working and take back the control of Stewardship values. The expectation that District Managers cannot say no to the approval of a Cutting Authority when they know it is not in the best interest of the Crown and places Stewardship Values at risk is ridiculous. Review the hiring process to ensure that more emphasis is based on hiring people that have related experience for the position they are applying for. Eliminate hiring people that are just good at interviews.\",\n",
       "       \"In terms of communicating from the top down, while Executive does a great job in my ministry, I find sometimes they are caught up in their own jargon and need to break things down a level or two. They communicate things downward in a timely manner, but they don't provide enough back-story. It's like when someone starts telling you about Mildred without qualifying that Mildred is an aunt who died. Eventually you have to ask, 'who's Mildred?' But otherwise, no real complaints. At least not in my immediate work unit. I know some of the other work units on my floor have been unhappy with things specific to their OWN units.\",\n",
       "       \"some regional staff are given/handed TAs (this includes TAs in a higher position) then in other regions people are overlooked and the same opportunities aren't given.  Why not give staff an opportunity to do a TA until the position can be permanently filled, at least we could try it out, maybe find that it's not what they're interested in, but may be a good fit and would encourage the person to apply on it when posted.  Seems to be favouritism out there.   In Wes Boyd's Jan 30 email it says Promote Client Service Training Initiative is Complete-so far 409 CSNR staff have received training.  But there are staff in my office who haven't and want to, so it's NOT COMPLETE, more like ON-GOING. \",\n",
       "       'Same level of recognition and importance of First Nations issues and support from ADM.  Kevin Kriese is an outstanding example to follow in this regard.',\n",
       "       \"The Natural Resource ministries need to do a better job of modernizing into a workplace that is aware of its diverse work force. We continue to hire Bob Chartier who openly makes both sexist and racist comments during his presentations.  I have heard 'he is old school' and this is simply not acceptable in 2018. The Natural Resource ministries are still male dominated in the higher level management roles. I believe in hiring the best person for the job regardless of gender but the NRS ministries are lacking in diversity on all fronts.  \",\n",
       "       'I think there needs to be a clearer path that links together the ministry Road map with the program objectives and even specific projects that are going on at the individual level.   For example -  Broad Goal: protection of Steelhead in the Thompson Okanagan  Programs involved: Fish and Wildlife, Ecosystems, etc.  On going projects: Angler Creel surveys, Habitat assessments, Fish Stocking programs   I suppose what I am suggesting is a more detailed strategic Road Map that goes beyond the broad goals to describe how they are being completed and who is responsible to certain specific actions and activities.  ',\n",
       "       \"There are some employees that take jobs in less desirable locations (Fort St James, Fort St John, Dawson Creek). These locations are hard to staff, so there are less employees and a higher workload. Some of these employees live in places they don't wish to live, but need to in order to be employed, and receive nothing for it. There needs to be some kind of benefit to the employees working in these locations, whether it be higher pay or a golden ticket to transfer to a location of their choice after a certain amount of time (2 years). It also seems that the Northeast Region in particular is neglected in the sense that they have old, unreliable equipment and trucks. Other regions have reliable trucks/sleds/ATVs. NE doesn't and it's unsafe.\",\n",
       "       'More equipment of better and newer quality for field work. Computers with more Ram and processing power for ARC GIS tasks that I complete on a normal basis.',\n",
       "       'MCFD, specifically youth custody appears to lack a vision from our upper Executives.  Staff in our building are feeling less safe in terms of being able to protect themselves from the youth in custody.  Our management team appear more concerned with protecting the rights of the youths in the custody centre and less concerned with the safety of their staff working the front lines.  This has been going on for quite some time with this management team in particular our current Director, Kim Fogtmann.  Bringing in KFC for residents who did not participate in a barricade and neglecting to acknowledge the staff dealing with the incident is just one example of this Directors priorities.',\n",
       "       \"Lenora Angel has taken 'Trauma Informed Practices' with youth to a negative place, stripping our tools in Behavior Management to the point where youth no longer are held accountable.  Added paperwork is taking away from relationships with youth.  \",\n",
       "       \"While leadership by Alison Bond provides some information - my EDS does not adequately consult with staff about how to implement things.  There is little consultation with staff about anything.  We get 'told' what the key decisions are bi-weekly, but rarely have input into anything in a meaningful way.  There does not seem to be a link between the overall vision, and the daily work social workers do.  While I believe Alison Bond cares at some level having talked with her 1:1, I'm not sure about anyone between her and the line.\",\n",
       "       \"To have new management.  I have worked for the government for years and have never been in trouble, so if all of a sudden I am in trouble by my manager it will be because of what I am about to write.  Everyone is afraid to put down in writing how they feel as Barry Fulton, Cheryl Beauchamp and Joshua Crosthwaite can be very vindictive to people.  Plus they lie.  I have caught them in bold face lies.  This WES will fall on deaf ears like it did last WES.  There is no accountability for DOOS and EDS.  The worst I have seen with the GOV.  Nobody knows what to do about it.  When people stand up to them, especially Barry and Cheryl you're life is terrible - bullied and harassed until either you go on sick leave or leave your job.       \",\n",
       "       \"I LOVE my work environment. We came from mouse infested 765/777 Broughton and moved into beautiful Capital Park. This is the most wonderful work environment I've ever had. Good job, guys!!\",\n",
       "       \"DM Bond and ADM Dobmeier are a great team. So honored to be working for this ministry and be a member of the PSA.  Strategic priorities are clear. Lines of communication are clear. iConnent has improved immensely since last WES and information is easily accessibly and vision of DM and ADM is clear.  So proud to implement MYAP funding and Grand Chief Ed John's recommendations. The needle is moving!\",\n",
       "       \"SUPERVISORS BULLY employees still continue.  My daughter who was a MCFD social worker, she was bullied and abused until she left MCFD. Her supervisor, Cheryl  Beauchamp has violated her privacy, mentally abused her of belittlement, and setting her up for failure.  Now, Beauchamp got promoting as Kelowna community manager.  Her promotion causes me with fear and stress.  The LOW MANAGEMENT OF MCFD IS PROBLEMATIC.   In fixing MCFD's problematic low management system, the BC Public Service MUST investigate every employee's complaint about their supervisors' abusive conducts.  Supervisors should be accountable about their conducts getting consequences.  My daughter's case should be investigated in preventing same situation happen.  \",\n",
       "       'It is hard & at times challenging to find a private space for meditation/prayer during breaks in my work place.  Prayer is the fuel that helps many to focus, reflect & provide energy to work effectively with vulnerable children & families. As work place is becoming more diverse culturally & religiously , it is very essential that  a private space be provided for prayer/meditation.  Further, in some cultural/religious beliefs, it is not permissible that opposite sexes/male/female to share room/office. This would greatly impact such individuals work performance as they do feel comfortable in such setting.  ',\n",
       "       \"Transformational leadership training like Simon Sinek, Gary Vaynerchuk, and Tony Robbins etc.  This type of leaders are highly competent with a focus on leading and developing leaders (in any position even if you don't want to move up). It values the people and relationships with people.  It inspires and motivates people. People become more invested in the work that they do and feel proud and develop mastery.  I think this would help with retention in the Ministry I work for.  I think this would help staff build confidence in themselves, in the work they do, the leadership, and the organization.  And, hopefully would result in  higher efficiency, productivity, job satisfaction. \",\n",
       "       \"1) Communication is very poor in South Fraser. We are dictated to rather than being able to be part of a process of clear communication. 2) Hiring practices do not meet the operational requirements of the work units. Centralized hiring resulted in poor outcomes as the 'new employees' did not know the work at hand and in some cases had to be let go quickly. PSA does not aide in the support of hiring. Almost 50 steps are needed in order to hire a new employee. This area should be addressed as a Lean initiative. 3) Individuals given opportunities for advancement are based in South Fraser on relationships rather than merit. It is not equally afforded to all staff. 4) Karen meets with individual work units but cannot remember what's discussed\",\n",
       "       'Over the years it seems that there is more and more focus on administrative tasks and OHS which consequently takes away from the time we have to perform our primary task, that of serving our clients.   Teresa Dobermeier was the first ED to offer an information session to the employees where she shared the vision  and goals of our organization. I really valued that and would recommend that this would continue with the new leadership.',\n",
       "       'Please put a Max case load for each type of work.  We know how to do work well - but do not have the time in order to do so or to make the difference.    Please stop saying that a Guardianships ONLY job is careplans! We have received this message multiple times and I can assure you there would be province wide crisis if all Guardianship workers suddenly dropped the 100 task items we do in a day to keep our children in care alive and well.    Please help the ICM system support Careplans to truly be a living document - I lose an average of 3 hours of worktime a month to careplans that stop saving properly once they get large....large means quality content and a living document...which is best practice.'],\n",
       "      dtype=object)"
      ]
     },
     "execution_count": 19,
     "metadata": {},
     "output_type": "execute_result"
    }
   ],
   "source": [
    "comments[sensitive_comment_indices].unique()"
   ]
  },
  {
   "cell_type": "markdown",
   "metadata": {},
   "source": [
    "## Tokenize procedure"
   ]
  },
  {
   "cell_type": "markdown",
   "metadata": {},
   "source": [
    "The remaining comments that have not been identified as sensitive are tokenized as shown below and subsequently fed into the LSTM model at a later step."
   ]
  },
  {
   "cell_type": "code",
   "execution_count": 23,
   "metadata": {},
   "outputs": [],
   "source": [
    "from keras.preprocessing.text import Tokenizer\n",
    "from keras.preprocessing.sequence import pad_sequences\n",
    "import numpy as np"
   ]
  },
  {
   "cell_type": "code",
   "execution_count": 28,
   "metadata": {},
   "outputs": [],
   "source": [
    "max_words = 12000\n",
    "maxlen = 700\n",
    "\n",
    "tokenizer = Tokenizer(num_words=max_words)\n",
    "tokenizer.fit_on_texts(np.array(comments))"
   ]
  },
  {
   "cell_type": "markdown",
   "metadata": {},
   "source": [
    "Example Comment:"
   ]
  },
  {
   "cell_type": "code",
   "execution_count": 25,
   "metadata": {},
   "outputs": [
    {
     "data": {
      "text/plain": [
       "'I would suggest having a developmental growth plan within the Hiring Centre. For example: providing training for internal staff that are currently hiring clerks, to working with intake and then becoming a hiring advisor. I believe this would be an additional option for filing advisor vacancies, as admin staff would already have knowledge of all of the systems that we use internally and the hiring processes that we currently follow.'"
      ]
     },
     "execution_count": 25,
     "metadata": {},
     "output_type": "execute_result"
    }
   ],
   "source": [
    "comments[0]"
   ]
  },
  {
   "cell_type": "markdown",
   "metadata": {},
   "source": [
    "Tokenizing the above comment, you can see below that it is parsed as an array of unique numbers, each number representing a word. This array is what will be loaded on google collab to be used for our LSTM model."
   ]
  },
  {
   "cell_type": "code",
   "execution_count": 27,
   "metadata": {},
   "outputs": [
    {
     "data": {
      "text/plain": [
       "array([[   0,    0,    0, ...,    0,    0,   11],\n",
       "       [   0,    0,    0, ...,    0,    0,    0],\n",
       "       [   0,    0,    0, ...,    0,    0, 1881],\n",
       "       ...,\n",
       "       [   0,    0,    0, ...,    0,    0, 2725],\n",
       "       [   0,    0,    0, ...,    0,    0, 1881],\n",
       "       [   0,    0,    0, ...,    0,    0,    0]], dtype=int32)"
      ]
     },
     "execution_count": 27,
     "metadata": {},
     "output_type": "execute_result"
    }
   ],
   "source": [
    "pad_sequences(tokenizer.texts_to_sequences(comments[0]), maxlen=maxlen)"
   ]
  }
 ],
 "metadata": {
  "kernelspec": {
   "display_name": "Python 3",
   "language": "python",
   "name": "python3"
  },
  "language_info": {
   "codemirror_mode": {
    "name": "ipython",
    "version": 3
   },
   "file_extension": ".py",
   "mimetype": "text/x-python",
   "name": "python",
   "nbconvert_exporter": "python",
   "pygments_lexer": "ipython3",
   "version": "3.6.8"
  }
 },
 "nbformat": 4,
 "nbformat_minor": 2
}
