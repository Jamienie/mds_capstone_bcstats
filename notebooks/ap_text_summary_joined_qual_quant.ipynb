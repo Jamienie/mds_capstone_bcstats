{
 "cells": [
  {
   "cell_type": "markdown",
   "metadata": {},
   "source": [
    "# Text Summarization \n",
    "\n",
    "This notebook shows the summaries for specific subthemes and agreement levels. The purpose of this is to help explain the different groupings of agreement levels to determine potential areas for improve in the WES design. The summaries can be made for all the text, a specific sub-theme or theme and various agreement levels.\n",
    "\n",
    "### Instructions for use\n",
    "\n",
    "This notebook can be used to create summaries for text. You can select which subtheme and agreement level you want to look at. There are 2 different algorithms provided for generating a summary. \n",
    "\n",
    "\n",
    "**Option 1: PageRank - cosine similarity**\n",
    "This is a implementation adapted from [Prateek Joshi's blog](https://www.analyticsvidhya.com/blog/2018/11/introduction-text-summarization-textrank-python/) and the code is present in the text summary script. This method is slower for a couple reasons. To reduce the run time, you can save the loaded embeddings the first time you run it, so the next summaries are faster.\n",
    "\n",
    "The pre-trained embeddings must be downloaded locally. \n",
    "\n",
    "**Option 2: Variation TextRank - BM25 similarity** \n",
    "This method comes from the [Gensim package](https://radimrehurek.com/gensim/summarization/summariser.html) and is an variation on the TextRank algorithm and is much faster than our implementation. \n",
    "\n",
    "Both methods give similar summaries and have overlapping sentences. For detailed examples of use read the documentation for generate_text_summary\n",
    "\n",
    "### Running from the command line\n",
    "\n",
    "This notebook can be run from the command line and it will print the summary to screen and will write the summary to a csv file in the data/processed folder. \n",
    "\n",
    "\n",
    "### Info about working directories\n",
    "\n",
    "This notebook had been set up to run from the root directory. To switch the working directory, follow the instructions in the cell below.\n"
   ]
  },
  {
   "cell_type": "code",
   "execution_count": null,
   "metadata": {},
   "outputs": [],
   "source": [
    "# This code chunck will change the working directory to be project root\n",
    "\n",
    "import os\n",
    "# uncomment and run this line once before preceeding\n",
    "#os.chdir(\"..\")   # comment and uncomment this line\n",
    "os.getcwd()\n",
    "\n",
    "# the file path displayed is the current working directory\n",
    "# this should be the project root for the follow code to run below"
   ]
  },
  {
   "cell_type": "code",
   "execution_count": null,
   "metadata": {},
   "outputs": [],
   "source": [
    "import pandas as pd\n",
    "import numpy as np\n",
    "import time\n",
    "from src.analysis.text_summary import generate_text_summary"
   ]
  },
  {
   "cell_type": "code",
   "execution_count": null,
   "metadata": {},
   "outputs": [],
   "source": [
    "# ensure packages reload after every change \n",
    "%load_ext autoreload\n",
    "%autoreload 2\n",
    "\n",
    "import src\n",
    "\n",
    "from src.analysis.text_summary import *\n",
    "# from src.analysis.emotion_analysis import *\n",
    "# from src.data.preprocessing_text import *"
   ]
  },
  {
   "cell_type": "markdown",
   "metadata": {},
   "source": [
    "## Summaries"
   ]
  },
  {
   "cell_type": "markdown",
   "metadata": {},
   "source": [
    "### Option 1: Pagerank \n",
    "\n",
    "Credit to: Prateek Joshi\n",
    "\n",
    "https://www.analyticsvidhya.com/blog/2018/11/introduction-text-summarization-textrank-python/"
   ]
  },
  {
   "cell_type": "code",
   "execution_count": null,
   "metadata": {},
   "outputs": [],
   "source": [
    "start = time.time()\n",
    "summary1, loaded_embedding = generate_text_summary(\".\\data\\interim\\joined_qual_quant.csv\",  \n",
    "                                        \"./references/data-dictionaries/theme_subtheme_names.csv\",\n",
    "                                        5,\n",
    "                                        \"subtheme\",\n",
    "                                        13,\n",
    "                                        \"weak\",\n",
    "                                        \"pre_trained_embedding\",\n",
    "                                        \"./references/pretrained_embeddings.nosync/fasttext/crawl-300d-2M.vec\",\n",
    "                                        embedding_return=True)\n",
    "end = time.time()\n",
    "print((end - start) / 60, \"mins\")"
   ]
  },
  {
   "cell_type": "code",
   "execution_count": null,
   "metadata": {},
   "outputs": [],
   "source": [
    "start = time.time()\n",
    "generate_text_summary(\".\\data\\interim\\joined_qual_quant.csv\",  \n",
    "                                        \"./references/data-dictionaries/theme_subtheme_names.csv\",\n",
    "                                        5,\n",
    "                                        \"subtheme\",\n",
    "                                        13,\n",
    "                                        \"weak\",\n",
    "                                        \"pre_trained_embedding\",\n",
    "                                        embedding=loaded_embedding)\n",
    "end = time.time()\n",
    "print((end - start) / 60, \"mins\")"
   ]
  },
  {
   "cell_type": "markdown",
   "metadata": {},
   "source": [
    "### Option 2: Gensim Package: TextRank"
   ]
  },
  {
   "cell_type": "code",
   "execution_count": null,
   "metadata": {},
   "outputs": [],
   "source": [
    "start = time.time()\n",
    "generate_text_summary(\".\\data\\interim\\linking_joined_qual_quant.csv\",  \n",
    "                                        200,\n",
    "                                        \"subtheme\",\n",
    "                                        13,\n",
    "                                        \"weak\",\n",
    "                                        \"textrank\")\n",
    "\n",
    "end = time.time()\n",
    "print((end - start) / 60, \"mins\")"
   ]
  },
  {
   "cell_type": "code",
   "execution_count": null,
   "metadata": {},
   "outputs": [],
   "source": []
  },
  {
   "cell_type": "code",
   "execution_count": null,
   "metadata": {},
   "outputs": [],
   "source": []
  }
 ],
 "metadata": {
  "kernelspec": {
   "display_name": "Python 3",
   "language": "python",
   "name": "python3"
  },
  "language_info": {
   "codemirror_mode": {
    "name": "ipython",
    "version": 3
   },
   "file_extension": ".py",
   "mimetype": "text/x-python",
   "name": "python",
   "nbconvert_exporter": "python",
   "pygments_lexer": "ipython3",
   "version": "3.7.1"
  }
 },
 "nbformat": 4,
 "nbformat_minor": 2
}
