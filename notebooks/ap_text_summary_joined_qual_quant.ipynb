{
 "cells": [
  {
   "cell_type": "markdown",
   "metadata": {},
   "source": [
    "# Text Summarization \n",
    "\n",
    "This notebook shows the summaries for specific subthemes and agreement levels. The purpose of this is to help explain the different groupings of agreement levels to determine potential areas for improve in the WES design.\n",
    "\n",
    "### Instructions for use\n",
    "\n",
    "This notebook can be used to create summaries for text. You can select which subtheme and agreement level you want to look at. This analysis uses pretrained embeddings which must be downloaded locally for this notebook to function. \n"
   ]
  },
  {
   "cell_type": "code",
   "execution_count": 1,
   "metadata": {},
   "outputs": [
    {
     "data": {
      "text/plain": [
       "'C:\\\\Users\\\\payla\\\\Documents\\\\MDS\\\\Capstone\\\\DSCI_591_capstone-BCStats'"
      ]
     },
     "execution_count": 1,
     "metadata": {},
     "output_type": "execute_result"
    }
   ],
   "source": [
    "# Change working directory to be project root\n",
    "import os\n",
    "#os.chdir(\"..\")\n",
    "os.getcwd()"
   ]
  },
  {
   "cell_type": "code",
   "execution_count": 2,
   "metadata": {},
   "outputs": [],
   "source": [
    "import pandas as pd\n",
    "import numpy as np\n",
    "import time"
   ]
  },
  {
   "cell_type": "code",
   "execution_count": 3,
   "metadata": {},
   "outputs": [],
   "source": [
    "# ensure packages reload after every change \n",
    "%load_ext autoreload\n",
    "%autoreload 2\n",
    "\n",
    "import src\n",
    "\n",
    "from src.analysis.text_summary import *\n",
    "from src.analysis.emotion_analysis import *\n",
    "from src.data.preprocessing_text import *"
   ]
  },
  {
   "cell_type": "markdown",
   "metadata": {},
   "source": [
    "## Load Data"
   ]
  },
  {
   "cell_type": "code",
   "execution_count": 4,
   "metadata": {},
   "outputs": [
    {
     "data": {
      "text/html": [
       "<div>\n",
       "<style scoped>\n",
       "    .dataframe tbody tr th:only-of-type {\n",
       "        vertical-align: middle;\n",
       "    }\n",
       "\n",
       "    .dataframe tbody tr th {\n",
       "        vertical-align: top;\n",
       "    }\n",
       "\n",
       "    .dataframe thead th {\n",
       "        text-align: right;\n",
       "    }\n",
       "</style>\n",
       "<table border=\"1\" class=\"dataframe\">\n",
       "  <thead>\n",
       "    <tr style=\"text-align: right;\">\n",
       "      <th></th>\n",
       "      <th>USERID</th>\n",
       "      <th>code</th>\n",
       "      <th>question</th>\n",
       "      <th>diff</th>\n",
       "      <th>text</th>\n",
       "    </tr>\n",
       "  </thead>\n",
       "  <tbody>\n",
       "    <tr>\n",
       "      <th>0</th>\n",
       "      <td>191202-862188</td>\n",
       "      <td>102</td>\n",
       "      <td>Q39</td>\n",
       "      <td>0</td>\n",
       "      <td>Improved office space (fix HVAC, etc) but NO LWS</td>\n",
       "    </tr>\n",
       "    <tr>\n",
       "      <th>1</th>\n",
       "      <td>173110-932228</td>\n",
       "      <td>14</td>\n",
       "      <td>Q46</td>\n",
       "      <td>1</td>\n",
       "      <td>Administration people should have better oppor...</td>\n",
       "    </tr>\n",
       "    <tr>\n",
       "      <th>2</th>\n",
       "      <td>185914-180608</td>\n",
       "      <td>24</td>\n",
       "      <td>Q20</td>\n",
       "      <td>0</td>\n",
       "      <td>We are the lowest paid in Canada with a worklo...</td>\n",
       "    </tr>\n",
       "  </tbody>\n",
       "</table>\n",
       "</div>"
      ],
      "text/plain": [
       "          USERID  code question  diff  \\\n",
       "0  191202-862188   102      Q39     0   \n",
       "1  173110-932228    14      Q46     1   \n",
       "2  185914-180608    24      Q20     0   \n",
       "\n",
       "                                                text  \n",
       "0   Improved office space (fix HVAC, etc) but NO LWS  \n",
       "1  Administration people should have better oppor...  \n",
       "2  We are the lowest paid in Canada with a worklo...  "
      ]
     },
     "execution_count": 4,
     "metadata": {},
     "output_type": "execute_result"
    }
   ],
   "source": [
    "# read agreement data\n",
    "data_agreement = pd.read_csv(\".\\data\\interim\\joined_qual_quant.csv\", \n",
    "                            usecols = [0, 1, 4, 5, 6])\n",
    "\n",
    "# read in data legend\n",
    "legend = pd.read_csv(\"./references/data-dictionaries/theme_subtheme_names.csv\")\n",
    "\n",
    "data_agreement.head(3)"
   ]
  },
  {
   "cell_type": "code",
   "execution_count": 5,
   "metadata": {
    "scrolled": true
   },
   "outputs": [
    {
     "data": {
      "text/html": [
       "<div>\n",
       "<style scoped>\n",
       "    .dataframe tbody tr th:only-of-type {\n",
       "        vertical-align: middle;\n",
       "    }\n",
       "\n",
       "    .dataframe tbody tr th {\n",
       "        vertical-align: top;\n",
       "    }\n",
       "\n",
       "    .dataframe thead th {\n",
       "        text-align: right;\n",
       "    }\n",
       "</style>\n",
       "<table border=\"1\" class=\"dataframe\">\n",
       "  <thead>\n",
       "    <tr style=\"text-align: right;\">\n",
       "      <th></th>\n",
       "      <th>USERID</th>\n",
       "      <th>code</th>\n",
       "      <th>question</th>\n",
       "      <th>diff</th>\n",
       "      <th>text</th>\n",
       "      <th>theme</th>\n",
       "      <th>subtheme_description</th>\n",
       "    </tr>\n",
       "  </thead>\n",
       "  <tbody>\n",
       "    <tr>\n",
       "      <th>0</th>\n",
       "      <td>191202-862188</td>\n",
       "      <td>102</td>\n",
       "      <td>Q39</td>\n",
       "      <td>0</td>\n",
       "      <td>Improved office space (fix HVAC, etc) but NO LWS</td>\n",
       "      <td>Tools, Equipment &amp; Physical Environment</td>\n",
       "      <td>Improve facilities (e.g. office space, noise l...</td>\n",
       "    </tr>\n",
       "    <tr>\n",
       "      <th>1</th>\n",
       "      <td>173110-932228</td>\n",
       "      <td>14</td>\n",
       "      <td>Q46</td>\n",
       "      <td>1</td>\n",
       "      <td>Administration people should have better oppor...</td>\n",
       "      <td>Career &amp; Personal Development</td>\n",
       "      <td>Provide opportunities for career advancement</td>\n",
       "    </tr>\n",
       "    <tr>\n",
       "      <th>2</th>\n",
       "      <td>185914-180608</td>\n",
       "      <td>24</td>\n",
       "      <td>Q20</td>\n",
       "      <td>0</td>\n",
       "      <td>We are the lowest paid in Canada with a worklo...</td>\n",
       "      <td>Compensation &amp; Benefits</td>\n",
       "      <td>Increase salary</td>\n",
       "    </tr>\n",
       "  </tbody>\n",
       "</table>\n",
       "</div>"
      ],
      "text/plain": [
       "          USERID  code question  diff  \\\n",
       "0  191202-862188   102      Q39     0   \n",
       "1  173110-932228    14      Q46     1   \n",
       "2  185914-180608    24      Q20     0   \n",
       "\n",
       "                                                text  \\\n",
       "0   Improved office space (fix HVAC, etc) but NO LWS   \n",
       "1  Administration people should have better oppor...   \n",
       "2  We are the lowest paid in Canada with a worklo...   \n",
       "\n",
       "                                     theme  \\\n",
       "0  Tools, Equipment & Physical Environment   \n",
       "1            Career & Personal Development   \n",
       "2                  Compensation & Benefits   \n",
       "\n",
       "                                subtheme_description  \n",
       "0  Improve facilities (e.g. office space, noise l...  \n",
       "1       Provide opportunities for career advancement  \n",
       "2                                    Increase salary  "
      ]
     },
     "execution_count": 5,
     "metadata": {},
     "output_type": "execute_result"
    }
   ],
   "source": [
    "# add the theme labels to the dataset so it can also be filtered by theme\n",
    "data_agreement = src.analysis.emotion_analysis.get_theme_labels(data_agreement, legend)\n",
    "data_agreement.head(3)"
   ]
  },
  {
   "cell_type": "markdown",
   "metadata": {},
   "source": [
    "## Generate Corpus from Dataframe"
   ]
  },
  {
   "cell_type": "markdown",
   "metadata": {},
   "source": [
    "- need sentences\n",
    "- processed "
   ]
  },
  {
   "cell_type": "code",
   "execution_count": 17,
   "metadata": {
    "scrolled": true
   },
   "outputs": [],
   "source": [
    "corpus_43_0 = src.analysis.text_summary.generate_corpus_from_comments(data_agreement, \n",
    "                                                                      depth=\"subtheme\", \n",
    "                                                                      name=43, \n",
    "                                                                      agreement=\"strong\", sentences=True)\n",
    "corpus_all = src.analysis.text_summary.generate_corpus_from_comments(data_agreement)"
   ]
  },
  {
   "cell_type": "markdown",
   "metadata": {},
   "source": [
    "## Load Embeddings\n",
    "- this function takes several minutes depending on which pre-trained embedding you are using"
   ]
  },
  {
   "cell_type": "code",
   "execution_count": 7,
   "metadata": {},
   "outputs": [],
   "source": [
    "# file path for embedding\n",
    "fasttext = \"./references/pretrained_embeddings.nosync/fasttext/crawl-300d-2M.vec\"\n",
    "start = time.time()\n",
    "embedding = src.analysis.text_summary.load_word_embeddings(fasttext)\n",
    "end = time.time()\n",
    "print((end - start) / 60, \"mins\")"
   ]
  },
  {
   "cell_type": "markdown",
   "metadata": {},
   "source": [
    "## Summaries"
   ]
  },
  {
   "cell_type": "markdown",
   "metadata": {},
   "source": [
    "### Option 1:"
   ]
  },
  {
   "cell_type": "code",
   "execution_count": 11,
   "metadata": {},
   "outputs": [
    {
     "name": "stdout",
     "output_type": "stream",
     "text": [
      "5.8762840032577515 mins\n"
     ]
    }
   ],
   "source": [
    "start = time.time()\n",
    "summary_43_0 = src.analysis.text_summary.generate_summary_pagerank_pretrained_embedding(corpus_43_0, \n",
    "                                                  embedding, \n",
    "                                                  embedding_size=300, \n",
    "                                                  size_summary=5)\n",
    "end = time.time()\n",
    "print((end - start) / 60, \"mins\")"
   ]
  },
  {
   "cell_type": "code",
   "execution_count": 13,
   "metadata": {},
   "outputs": [
    {
     "name": "stdout",
     "output_type": "stream",
     "text": [
      "Summary for Strengthen quality of executive leadership - Strong Agreement\n",
      "--------------------------------------------------------------------------\n",
      "Make DM and ADM by merit only sever the political element Current Executive is completely out of touch, policies and decisions at that level do not reflect or support operational reality, moral is at an all time low Executive staff (director level) often interfere directly with staff members in work assignments that should be managed by senior managers. \n",
      "\n",
      "Leadership under the exist PSA model for senior Executive focuses too much on the political rather than the public service, the downside for staff is they have no impact on decisions affecting them, and often receive very little credit because they report to Executive who are more focussed on their upward mobility. \n",
      "\n",
      "tends to wait for instructions from above  Middle management is weak in MANAGEMENT, most, if not all, have no or little prior management experience and it manifests (related to issue with promotions)  Policy decisions are not well explained to staff leading to disaffection and low morale  Integrity unit/activities being paid lip service only! \n",
      "\n",
      "Our new system that Executives have implemented in the Youth Centre are not working, between the abundance of paper work, the lack of any consequences on youth for behavior and the amount of perks the youth received and the utter lack of Executives responsib Hire more senior leaders who have a field background in at least one of the ministry's service lines. \n",
      "\n",
      "Literally for years, I and others made blunt and consistent observations regarding the systemic DM issue in play here in AGRI, without those senior Executives taking action, strongly suggesting that the head of the PSA did not have arms-length autonomy to make non-partisan leadership changes where and when required. \n",
      "\n"
     ]
    }
   ],
   "source": [
    "print(\"Summary for Strengthen quality of executive leadership - Strong Agreement\")\n",
    "print(\"--------------------------------------------------------------------------\")\n",
    "for i in summary_43_0:\n",
    "    print(i, \"\\n\")"
   ]
  },
  {
   "cell_type": "markdown",
   "metadata": {},
   "source": [
    "### Option 2:"
   ]
  },
  {
   "cell_type": "code",
   "execution_count": 42,
   "metadata": {},
   "outputs": [],
   "source": [
    "start = time.time()\n",
    "summary_43_0_summa = src.analysis.text_summary.generate_summary_summa(corpus_43_0)\n",
    "end = time.time()\n",
    "print((end - start) / 60, \"mins\")"
   ]
  },
  {
   "cell_type": "code",
   "execution_count": 43,
   "metadata": {},
   "outputs": [
    {
     "name": "stdout",
     "output_type": "stream",
     "text": [
      "Summary for Strengthen quality of executive leadership - Strong Agreement\n",
      "--------------------------------------------------------------------------\n",
      "Nothing happening Stronger exec leadership decision making initiative interaction with staff in meaningful constructive way improved communication about priorities strategic direction empower staff leverage expertise staff need more opportunities stretch develop new skills allow for true innovation encourage forum for creative policy ideas at staff level not just management By hiring team lead Director that has proven skills education ability lead. \n",
      "\n",
      "give the Executive team the confidence trust tools learning time they need be more strategic less reactionary Would like see change in leadership where managers directors embody qualities such as integrity honesty work ethic. \n",
      "\n",
      "Executive appears fearful unwilling make decisions Support exec senior leadership in professional development focused on being stronger leaders for staff who work below them rather than focused on solely managing up. \n",
      "\n",
      "Make DM ADM by merit only sever the political element Current Executive is completely out touch policies decisions at that level do not reflect or support operational reality moral is at an all time low Executive staff director level often interfere directly with staff members in work assignments that should be managed by senior managers. \n",
      "\n",
      "This work unit has seen significant staff turnover due lack recognition by management unengaged Executive poor compensation in relation statutory decision making responsibility requirements the position with respect similar positions cross Ministry. \n",
      "\n"
     ]
    }
   ],
   "source": [
    "print(\"Summary for Strengthen quality of executive leadership - Strong Agreement\")\n",
    "print(\"--------------------------------------------------------------------------\")\n",
    "for i in summary_43_0_summa:\n",
    "    print(i, \"\\n\")"
   ]
  },
  {
   "cell_type": "markdown",
   "metadata": {},
   "source": [
    "### Option 3:"
   ]
  },
  {
   "cell_type": "code",
   "execution_count": 53,
   "metadata": {},
   "outputs": [],
   "source": [
    "start = time.time()\n",
    "summary_43_0_gensim = src.analysis.text_summary.generate_summary_gensim(corpus_43_0)\n",
    "end = time.time()\n",
    "print((end - start) / 60, \"mins\")"
   ]
  },
  {
   "cell_type": "code",
   "execution_count": 54,
   "metadata": {},
   "outputs": [
    {
     "name": "stdout",
     "output_type": "stream",
     "text": [
      "Summary for Strengthen quality of executive leadership - Strong Agreement\n",
      "--------------------------------------------------------------------------\n",
      "The ADM responsible for this work unit needs take more active role ensure the directors Exec Director have the appropriate HR skills leadership decision making skills that have been lacking for number years. \n",
      "\n",
      "Nothing happening Stronger exec leadership decision making initiative interaction with staff in meaningful constructive way improved communication about priorities strategic direction empower staff leverage expertise staff need more opportunities stretch develop new skills allow for true innovation encourage forum for creative policy ideas at staff level not just management By hiring team lead Director that has proven skills education ability lead. \n",
      "\n",
      "give the Executive team the confidence trust tools learning time they need be more strategic less reactionary Would like see change in leadership where managers directors embody qualities such as integrity honesty work ethic. \n",
      "\n",
      "Learning Centre staff development engagement activities happen rarely when these happen do not feel right lacks sincerity integrity because no followthrough happens Delays imposed by Executive management on project timelines eg time review documents obtain approvals move forward with work create time pressures crises stresses that could be avoided. \n",
      "\n",
      "Executive appears fearful unwilling make decisions Support exec senior leadership in professional development focused on being stronger leaders for staff who work below them rather than focused on solely managing up. \n",
      "\n"
     ]
    }
   ],
   "source": [
    "print(\"Summary for Strengthen quality of executive leadership - Strong Agreement\")\n",
    "print(\"--------------------------------------------------------------------------\")\n",
    "for i in summary_43_0_gensim:\n",
    "    print(i, \"\\n\")"
   ]
  },
  {
   "cell_type": "markdown",
   "metadata": {},
   "source": [
    "## Current plan/steps\n",
    "\n",
    "- try a few different algorthms, appears to be a lot of different implementations present\n",
    "\n",
    "- do some sentence EDA\n",
    "    - most common words (may want to lemitize first)\n",
    "    - for exective maybe look at most common acroynms (like ADM, etc)\n"
   ]
  },
  {
   "cell_type": "markdown",
   "metadata": {},
   "source": [
    "# Experiments"
   ]
  },
  {
   "cell_type": "code",
   "execution_count": null,
   "metadata": {},
   "outputs": [],
   "source": [
    "# this is how I can relate it back to the index and print text with better formatting \n",
    "\n",
    "for i in x:\n",
    "    c = re.sub(r'\\.', '', i)\n",
    "    print(c)\n",
    "    \n",
    "    index = processed_43_2.index(c)\n",
    "    print(index)\n",
    "\n",
    "    print(sentences_43_2[index], \"\\n\")\n",
    "            \n",
    "            \n",
    "            "
   ]
  },
  {
   "cell_type": "code",
   "execution_count": null,
   "metadata": {},
   "outputs": [],
   "source": []
  },
  {
   "cell_type": "code",
   "execution_count": null,
   "metadata": {},
   "outputs": [],
   "source": []
  },
  {
   "cell_type": "code",
   "execution_count": null,
   "metadata": {},
   "outputs": [],
   "source": []
  },
  {
   "cell_type": "code",
   "execution_count": null,
   "metadata": {},
   "outputs": [],
   "source": []
  }
 ],
 "metadata": {
  "kernelspec": {
   "display_name": "Python 3",
   "language": "python",
   "name": "python3"
  },
  "language_info": {
   "codemirror_mode": {
    "name": "ipython",
    "version": 3
   },
   "file_extension": ".py",
   "mimetype": "text/x-python",
   "name": "python",
   "nbconvert_exporter": "python",
   "pygments_lexer": "ipython3",
   "version": "3.7.1"
  }
 },
 "nbformat": 4,
 "nbformat_minor": 2
}
