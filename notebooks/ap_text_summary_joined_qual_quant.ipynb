{
 "cells": [
  {
   "cell_type": "markdown",
   "metadata": {},
   "source": [
    "# Text Summarization \n",
    "\n",
    "This notebook shows the summaries for specific subthemes and agreement levels. The purpose of this is to help explain the different groupings of agreement levels to determine potential areas for improve in the WES design. The summaries can be made for all the text, a specific sub-theme or theme and various agreement levels.\n",
    "\n",
    "### Instructions for use\n",
    "\n",
    "This notebook can be used to create summaries for text. You can select which subtheme and agreement level you want to look at. There are X options for generating a summary, \n",
    "\n",
    "\n",
    "**Option 1: PageRank - cosine similarity**\n",
    "This is a implementation adpated from a blog and all the code is in the text_summary script. This method is the slowest. Loading the embeddings takes a while so you can save the embeddings the first time it is run and then save it to a variable and use it in the subsquent summaries.\n",
    "\n",
    "The pre-trained embeddings must be downloaded locally. \n",
    "\n",
    "**Option 2: Variation TextRank - BM25 similarity** \n",
    "This is present in the Gensim package and has been optimized to be fast. \n",
    "\n",
    "Both methods give similary summaries and have overlapping sentences. For detailed examples of use read the documentation for generate_text_summary\n",
    "\n",
    "### Running from the command line\n",
    "\n",
    "This notebook can be run from the command line and it will print to screen the summary. **create an option where it writes the summary to a text file or something**\n",
    "\n",
    "\n",
    "### Info about working directories\n",
    "\n",
    "This notebook had been set up to run from the root directory. To switch the working directory follow the instructions in the cell below. \n"
   ]
  },
  {
   "cell_type": "code",
   "execution_count": 1,
   "metadata": {},
   "outputs": [
    {
     "data": {
      "text/plain": [
       "'C:\\\\Users\\\\payla\\\\Documents\\\\MDS\\\\Capstone\\\\DSCI_591_capstone-BCStats'"
      ]
     },
     "execution_count": 1,
     "metadata": {},
     "output_type": "execute_result"
    }
   ],
   "source": [
    "# This code chunck will change the working directory to be project root\n",
    "\n",
    "import os\n",
    "# uncomment and run this line once before preceeding\n",
    "#os.chdir(\"..\")   # comment and uncomment this line\n",
    "os.getcwd()\n",
    "\n",
    "# the file path displayed is the current working directory\n",
    "# this should be the project root for the follow code to run below"
   ]
  },
  {
   "cell_type": "code",
   "execution_count": 2,
   "metadata": {},
   "outputs": [],
   "source": [
    "import pandas as pd\n",
    "import numpy as np\n",
    "import time\n",
    "from src.analysis.text_summary import generate_text_summary"
   ]
  },
  {
   "cell_type": "code",
   "execution_count": 3,
   "metadata": {},
   "outputs": [],
   "source": [
    "# ensure packages reload after every change \n",
    "%load_ext autoreload\n",
    "%autoreload 2\n",
    "\n",
    "import src\n",
    "\n",
    "from src.analysis.text_summary import *\n",
    "# from src.analysis.emotion_analysis import *\n",
    "# from src.data.preprocessing_text import *"
   ]
  },
  {
   "cell_type": "markdown",
   "metadata": {},
   "source": [
    "## Summaries"
   ]
  },
  {
   "cell_type": "markdown",
   "metadata": {},
   "source": [
    "### Option 1: Pagerank \n",
    "\n",
    "Credit to: Prateek Joshi\n",
    "\n",
    "https://www.analyticsvidhya.com/blog/2018/11/introduction-text-summarization-textrank-python/"
   ]
  },
  {
   "cell_type": "code",
   "execution_count": null,
   "metadata": {},
   "outputs": [],
   "source": [
    "start = time.time()\n",
    "summary1, loaded_embedding = generate_text_summary(\".\\data\\interim\\joined_qual_quant.csv\",  \n",
    "                                        \"./references/data-dictionaries/theme_subtheme_names.csv\",\n",
    "                                        5,\n",
    "                                        \"subtheme\",\n",
    "                                        13,\n",
    "                                        \"weak\",\n",
    "                                        \"pre_trained_embedding\",\n",
    "                                        \"./references/pretrained_embeddings.nosync/fasttext/crawl-300d-2M.vec\",\n",
    "                                        embedding_return=True)\n",
    "end = time.time()\n",
    "print((end - start) / 60, \"mins\")"
   ]
  },
  {
   "cell_type": "code",
   "execution_count": null,
   "metadata": {},
   "outputs": [],
   "source": [
    "start = time.time()\n",
    "generate_text_summary(\".\\data\\interim\\joined_qual_quant.csv\",  \n",
    "                                        \"./references/data-dictionaries/theme_subtheme_names.csv\",\n",
    "                                        5,\n",
    "                                        \"subtheme\",\n",
    "                                        13,\n",
    "                                        \"weak\",\n",
    "                                        \"pre_trained_embedding\",\n",
    "                                        embedding=loaded_embedding)\n",
    "end = time.time()\n",
    "print((end - start) / 60, \"mins\")"
   ]
  },
  {
   "cell_type": "markdown",
   "metadata": {},
   "source": [
    "### Option 2: Gensim Package: TextRank"
   ]
  },
  {
   "cell_type": "code",
   "execution_count": 22,
   "metadata": {},
   "outputs": [
    {
     "name": "stdout",
     "output_type": "stream",
     "text": [
      "Summary for Supervisors - Strong Agreement\n",
      "--------------------------------------------------------------------------\n",
      "hire leaders who have leadership skills that know how inspire team create coaching atmosphere rather then the current punitive one that is in place communication with supervisors employees treat us all fairly Hold leaders accountable for their actions or lack thereof. \n",
      "\n",
      "have supervisor support or workload issues constant changes job have supervisor have our back not be walked over by management consistent leadership from management with clear direction Accountability is an ongoing challenge which creates ripple that adversely affects staff trying follow up on work not properly set up. \n",
      "\n",
      "I would like this role provide clear leadership team building clear support for new employees including regular face face contact oversight their work training instead this falling current staff reliable reasonable realistic consultation for senior Navigators regular on site support direction for new launch sites. \n",
      "\n",
      "Provide better leadership Improved communication with my supervisor manager including responding emails initiating conversations relating work wellness following up on information support on going recognition. \n",
      "\n",
      "better understanding by management as their overall responsibility the people British Columbia provide more balanced approach decision making balancing the interest the client province Maintaining clear communication among team members among work units among staff leadership is significant challenge. \n",
      "\n",
      "0.776181689898173 mins\n"
     ]
    }
   ],
   "source": [
    "start = time.time()\n",
    "generate_text_summary(\".\\data\\interim\\joined_qual_quant.csv\",  \n",
    "                                        \"./references/data-dictionaries/theme_subtheme_names.csv\",\n",
    "                                        200,\n",
    "                                        \"theme\",\n",
    "                                        \"Supervisors\",\n",
    "                                        \"strong\",\n",
    "                                        \"textrank\")\n",
    "\n",
    "end = time.time()\n",
    "print((end - start) / 60, \"mins\")"
   ]
  },
  {
   "cell_type": "markdown",
   "metadata": {},
   "source": [
    "# Experiments"
   ]
  },
  {
   "cell_type": "code",
   "execution_count": null,
   "metadata": {},
   "outputs": [],
   "source": [
    "# this is how I can relate it back to the index and print text with better formatting \n",
    "\n",
    "for i in x:\n",
    "    c = re.sub(r'\\.', '', i)\n",
    "    print(c)\n",
    "    \n",
    "    index = processed_43_2.index(c)\n",
    "    print(index)\n",
    "\n",
    "    print(sentences_43_2[index], \"\\n\")\n",
    "            \n",
    "            \n",
    "            "
   ]
  },
  {
   "cell_type": "code",
   "execution_count": null,
   "metadata": {},
   "outputs": [],
   "source": []
  },
  {
   "cell_type": "code",
   "execution_count": null,
   "metadata": {},
   "outputs": [],
   "source": []
  },
  {
   "cell_type": "code",
   "execution_count": null,
   "metadata": {},
   "outputs": [],
   "source": []
  }
 ],
 "metadata": {
  "kernelspec": {
   "display_name": "Python 3",
   "language": "python",
   "name": "python3"
  },
  "language_info": {
   "codemirror_mode": {
    "name": "ipython",
    "version": 3
   },
   "file_extension": ".py",
   "mimetype": "text/x-python",
   "name": "python",
   "nbconvert_exporter": "python",
   "pygments_lexer": "ipython3",
   "version": "3.7.1"
  }
 },
 "nbformat": 4,
 "nbformat_minor": 2
}
