{
 "cells": [
  {
   "cell_type": "markdown",
   "metadata": {},
   "source": [
    "# Emotion Analysis\n",
    "\n",
    "This notebook analyzes the level of anger, fear and sadness present in the open-ended survey comments. The comments can be viewed individually or grouped into themes, sub-themes and agreement levels. \n",
    "\n",
    "### Method\n",
    "\n",
    "The idea behind this method is that words are associated to an emotion. To determine the emotion of a comment the words within the comment were compared to the [NRC Affect Intensity Lexicon v0.5](http://saifmohammad.com/WebDocs/NRC-AffectIntensity-Lexicon.txt) (Saif M. Mohammad). The lexicon contains 6,000 words associated with anger, fear, sadness and joy. Each word has a score from 0 to 1 where the higher the scores indicates the word is more strongly associated with that emotion. To get each emotion the words were summed up to give an emotion score for the comment, to determine the main emotion present the emotion with the highest score was chosen. \n",
    "\n",
    "\n",
    "# To be able to compare the scores from one comment to another to determine the angriest, saddest and most fearful comments the scores were divided by the **total number of words**. \n",
    "\n",
    "\n",
    "The lexicon does contain joy as an emotion but joy was left out of this analysis since the comments\n",
    "are assumed to be negative and we were trying to understand what are the underlying causes of the employee’s negative sentiment. Joy was included at first but removed as it was found to be the prevailing emotion. Through investigating the results, we found that joy was not the correct label for the comment because the words associated are common words but were being used with a negative connotation like \"not good\". \n",
    "\n",
    "The rules of the matcher only count if the word is present and does not understand the context of the word. When examples of anger, fear and sadness were looked at the words were being used in the appropriate manner for this analysis. \n",
    "\n",
    "### Instructions for use\n",
    "\n",
    "This notebook can be used to look at different emotions, comments, subthemes and themes. Change the parameters of the functions to look at different examples.\n",
    "\n",
    "### Info about working directories\n",
    "\n",
    "This notebook had been set up to run from the root directory. To switch the working directory, follow the instructions in the cell below.\n",
    "\n"
   ]
  },
  {
   "cell_type": "code",
   "execution_count": 4,
   "metadata": {},
   "outputs": [
    {
     "data": {
      "text/plain": [
       "'C:\\\\Users\\\\payla\\\\Documents\\\\MDS\\\\Capstone\\\\DSCI_591_capstone-BCStats'"
      ]
     },
     "execution_count": 4,
     "metadata": {},
     "output_type": "execute_result"
    }
   ],
   "source": [
    "# This code chunck will change the working directory to be project root\n",
    "\n",
    "import os\n",
    "# uncomment and run this line once before preceeding\n",
    "#os.chdir(\"..\")   # comment and uncomment this line\n",
    "os.getcwd()\n",
    "\n",
    "# the file path displayed is the current working directory\n",
    "# this should be the project root for the follow code to run below"
   ]
  },
  {
   "cell_type": "code",
   "execution_count": 5,
   "metadata": {},
   "outputs": [],
   "source": [
    "# Required packages\n",
    "import pandas as pd\n",
    "import numpy as np\n",
    "import time\n",
    "\n",
    "import spacy\n",
    "# Load English model for SpaCy\n",
    "nlp = spacy.load('en_core_web_sm')"
   ]
  },
  {
   "cell_type": "code",
   "execution_count": 6,
   "metadata": {},
   "outputs": [],
   "source": [
    "# remove once notebook is finished\n",
    "# ensure packages reload after every change \n",
    "\n",
    "%load_ext autoreload\n",
    "%autoreload 2\n",
    "import src\n",
    "\n",
    "from src.analysis.emotion_analysis import *"
   ]
  },
  {
   "cell_type": "markdown",
   "metadata": {},
   "source": [
    "## Load Data and Lexicon"
   ]
  },
  {
   "cell_type": "code",
   "execution_count": 32,
   "metadata": {
    "scrolled": false
   },
   "outputs": [],
   "source": [
    "# read full data\n",
    "data_full = pd.read_csv(\".\\data\\interim\\desensitized_qualitative-data2018.csv\",\n",
    "                            usecols=[0, 1, 2, 3, 4, 5, 6], \n",
    "                            names=[\"USERID\", \"text\", \"code1\", \"code2\", \"code3\", \"code4\", \"code5\"], skiprows=1)\n",
    "\n",
    "# read agreement data\n",
    "data_agreement = pd.read_csv(\".\\data\\interim\\linking_joined_qual_quant.csv\",\n",
    "                            usecols=[0, 1, 4, 5, 6, 7, 8])\n",
    "\n",
    "# load lexicon\n",
    "lexicon = pd.read_csv(\"http://saifmohammad.com/WebDocs/NRC-AffectIntensity-Lexicon.txt\", \n",
    "                      sep=\"\\t\", \n",
    "                      skiprows=35) \n",
    "# read in data legend\n",
    "legend = pd.read_csv(\"./references/data-dictionaries/theme_subtheme_names.csv\")"
   ]
  },
  {
   "cell_type": "code",
   "execution_count": 33,
   "metadata": {},
   "outputs": [
    {
     "data": {
      "text/html": [
       "<div>\n",
       "<style scoped>\n",
       "    .dataframe tbody tr th:only-of-type {\n",
       "        vertical-align: middle;\n",
       "    }\n",
       "\n",
       "    .dataframe tbody tr th {\n",
       "        vertical-align: top;\n",
       "    }\n",
       "\n",
       "    .dataframe thead th {\n",
       "        text-align: right;\n",
       "    }\n",
       "</style>\n",
       "<table border=\"1\" class=\"dataframe\">\n",
       "  <thead>\n",
       "    <tr style=\"text-align: right;\">\n",
       "      <th></th>\n",
       "      <th>USERID</th>\n",
       "      <th>text</th>\n",
       "      <th>code1</th>\n",
       "      <th>code2</th>\n",
       "      <th>code3</th>\n",
       "      <th>code4</th>\n",
       "      <th>code5</th>\n",
       "    </tr>\n",
       "  </thead>\n",
       "  <tbody>\n",
       "    <tr>\n",
       "      <th>0</th>\n",
       "      <td>192723-544650</td>\n",
       "      <td>I would suggest having a developmental growth ...</td>\n",
       "      <td>62</td>\n",
       "      <td>13</td>\n",
       "      <td>NaN</td>\n",
       "      <td>NaN</td>\n",
       "      <td>NaN</td>\n",
       "    </tr>\n",
       "    <tr>\n",
       "      <th>1</th>\n",
       "      <td>188281-540434</td>\n",
       "      <td>Base decisions regarding fish and wildlife on ...</td>\n",
       "      <td>116</td>\n",
       "      <td>NaN</td>\n",
       "      <td>NaN</td>\n",
       "      <td>NaN</td>\n",
       "      <td>NaN</td>\n",
       "    </tr>\n",
       "    <tr>\n",
       "      <th>2</th>\n",
       "      <td>191202-862188</td>\n",
       "      <td>Improved office space (fix HVAC, etc) but NO LWS</td>\n",
       "      <td>102</td>\n",
       "      <td>51</td>\n",
       "      <td>NaN</td>\n",
       "      <td>NaN</td>\n",
       "      <td>NaN</td>\n",
       "    </tr>\n",
       "  </tbody>\n",
       "</table>\n",
       "</div>"
      ],
      "text/plain": [
       "          USERID                                               text  code1  \\\n",
       "0  192723-544650  I would suggest having a developmental growth ...     62   \n",
       "1  188281-540434  Base decisions regarding fish and wildlife on ...    116   \n",
       "2  191202-862188   Improved office space (fix HVAC, etc) but NO LWS    102   \n",
       "\n",
       "  code2 code3 code4 code5  \n",
       "0    13   NaN   NaN   NaN  \n",
       "1   NaN   NaN   NaN   NaN  \n",
       "2    51   NaN   NaN   NaN  "
      ]
     },
     "metadata": {},
     "output_type": "display_data"
    },
    {
     "data": {
      "text/html": [
       "<div>\n",
       "<style scoped>\n",
       "    .dataframe tbody tr th:only-of-type {\n",
       "        vertical-align: middle;\n",
       "    }\n",
       "\n",
       "    .dataframe tbody tr th {\n",
       "        vertical-align: top;\n",
       "    }\n",
       "\n",
       "    .dataframe thead th {\n",
       "        text-align: right;\n",
       "    }\n",
       "</style>\n",
       "<table border=\"1\" class=\"dataframe\">\n",
       "  <thead>\n",
       "    <tr style=\"text-align: right;\">\n",
       "      <th></th>\n",
       "      <th>USERID</th>\n",
       "      <th>code</th>\n",
       "      <th>question</th>\n",
       "      <th>diff</th>\n",
       "      <th>text</th>\n",
       "      <th>theme</th>\n",
       "      <th>subtheme_description</th>\n",
       "    </tr>\n",
       "  </thead>\n",
       "  <tbody>\n",
       "    <tr>\n",
       "      <th>0</th>\n",
       "      <td>191202-862188</td>\n",
       "      <td>102</td>\n",
       "      <td>Q39</td>\n",
       "      <td>0</td>\n",
       "      <td>Improved office space (fix HVAC, etc) but NO LWS</td>\n",
       "      <td>Tools, Equipment &amp; Physical Environment</td>\n",
       "      <td>Improve facilities (e.g. office space, noise l...</td>\n",
       "    </tr>\n",
       "    <tr>\n",
       "      <th>1</th>\n",
       "      <td>173110-932228</td>\n",
       "      <td>14</td>\n",
       "      <td>Q46</td>\n",
       "      <td>1</td>\n",
       "      <td>Administration people should have better oppor...</td>\n",
       "      <td>Career &amp; Personal Development</td>\n",
       "      <td>Provide opportunities for career advancement</td>\n",
       "    </tr>\n",
       "    <tr>\n",
       "      <th>2</th>\n",
       "      <td>185914-180608</td>\n",
       "      <td>24</td>\n",
       "      <td>Q20</td>\n",
       "      <td>0</td>\n",
       "      <td>We are the lowest paid in Canada with a worklo...</td>\n",
       "      <td>Compensation &amp; Benefits</td>\n",
       "      <td>Increase salary</td>\n",
       "    </tr>\n",
       "  </tbody>\n",
       "</table>\n",
       "</div>"
      ],
      "text/plain": [
       "          USERID  code question  diff  \\\n",
       "0  191202-862188   102      Q39     0   \n",
       "1  173110-932228    14      Q46     1   \n",
       "2  185914-180608    24      Q20     0   \n",
       "\n",
       "                                                text  \\\n",
       "0   Improved office space (fix HVAC, etc) but NO LWS   \n",
       "1  Administration people should have better oppor...   \n",
       "2  We are the lowest paid in Canada with a worklo...   \n",
       "\n",
       "                                     theme  \\\n",
       "0  Tools, Equipment & Physical Environment   \n",
       "1            Career & Personal Development   \n",
       "2                  Compensation & Benefits   \n",
       "\n",
       "                                subtheme_description  \n",
       "0  Improve facilities (e.g. office space, noise l...  \n",
       "1       Provide opportunities for career advancement  \n",
       "2                                    Increase salary  "
      ]
     },
     "metadata": {},
     "output_type": "display_data"
    },
    {
     "data": {
      "text/html": [
       "<div>\n",
       "<style scoped>\n",
       "    .dataframe tbody tr th:only-of-type {\n",
       "        vertical-align: middle;\n",
       "    }\n",
       "\n",
       "    .dataframe tbody tr th {\n",
       "        vertical-align: top;\n",
       "    }\n",
       "\n",
       "    .dataframe thead th {\n",
       "        text-align: right;\n",
       "    }\n",
       "</style>\n",
       "<table border=\"1\" class=\"dataframe\">\n",
       "  <thead>\n",
       "    <tr style=\"text-align: right;\">\n",
       "      <th></th>\n",
       "      <th>term</th>\n",
       "      <th>score</th>\n",
       "      <th>AffectDimension</th>\n",
       "    </tr>\n",
       "  </thead>\n",
       "  <tbody>\n",
       "    <tr>\n",
       "      <th>0</th>\n",
       "      <td>outraged</td>\n",
       "      <td>0.964</td>\n",
       "      <td>anger</td>\n",
       "    </tr>\n",
       "    <tr>\n",
       "      <th>1</th>\n",
       "      <td>brutality</td>\n",
       "      <td>0.959</td>\n",
       "      <td>anger</td>\n",
       "    </tr>\n",
       "    <tr>\n",
       "      <th>2</th>\n",
       "      <td>hatred</td>\n",
       "      <td>0.953</td>\n",
       "      <td>anger</td>\n",
       "    </tr>\n",
       "  </tbody>\n",
       "</table>\n",
       "</div>"
      ],
      "text/plain": [
       "        term  score AffectDimension\n",
       "0   outraged  0.964           anger\n",
       "1  brutality  0.959           anger\n",
       "2     hatred  0.953           anger"
      ]
     },
     "metadata": {},
     "output_type": "display_data"
    }
   ],
   "source": [
    "display(data_full.head(3))\n",
    "display(data_agreement.head(3))\n",
    "display(lexicon.head(3))"
   ]
  },
  {
   "cell_type": "markdown",
   "metadata": {},
   "source": [
    "## Process Full Comment data and Add Themes Names"
   ]
  },
  {
   "cell_type": "code",
   "execution_count": 42,
   "metadata": {},
   "outputs": [
    {
     "name": "stdout",
     "output_type": "stream",
     "text": [
      "\n"
     ]
    },
    {
     "data": {
      "text/html": [
       "<div>\n",
       "<style scoped>\n",
       "    .dataframe tbody tr th:only-of-type {\n",
       "        vertical-align: middle;\n",
       "    }\n",
       "\n",
       "    .dataframe tbody tr th {\n",
       "        vertical-align: top;\n",
       "    }\n",
       "\n",
       "    .dataframe thead th {\n",
       "        text-align: right;\n",
       "    }\n",
       "</style>\n",
       "<table border=\"1\" class=\"dataframe\">\n",
       "  <thead>\n",
       "    <tr style=\"text-align: right;\">\n",
       "      <th></th>\n",
       "      <th>USERID</th>\n",
       "      <th>code</th>\n",
       "      <th>text</th>\n",
       "      <th>theme</th>\n",
       "      <th>subtheme_description</th>\n",
       "    </tr>\n",
       "  </thead>\n",
       "  <tbody>\n",
       "    <tr>\n",
       "      <th>0</th>\n",
       "      <td>192723-544650</td>\n",
       "      <td>62</td>\n",
       "      <td>I would suggest having a developmental growth ...</td>\n",
       "      <td>Staffing Practices</td>\n",
       "      <td>Focus on Human Resources planning (recruitment...</td>\n",
       "    </tr>\n",
       "    <tr>\n",
       "      <th>1</th>\n",
       "      <td>188281-540434</td>\n",
       "      <td>116</td>\n",
       "      <td>Base decisions regarding fish and wildlife on ...</td>\n",
       "      <td>Vision, Mission &amp; Goals</td>\n",
       "      <td>Reduce political influence</td>\n",
       "    </tr>\n",
       "    <tr>\n",
       "      <th>2</th>\n",
       "      <td>191202-862188</td>\n",
       "      <td>102</td>\n",
       "      <td>Improved office space (fix HVAC, etc) but NO LWS</td>\n",
       "      <td>Tools, Equipment &amp; Physical Environment</td>\n",
       "      <td>Improve facilities (e.g. office space, noise l...</td>\n",
       "    </tr>\n",
       "    <tr>\n",
       "      <th>3</th>\n",
       "      <td>174789-230694</td>\n",
       "      <td>51</td>\n",
       "      <td>Get rid of Leading Workplace Strategies and gi...</td>\n",
       "      <td>Flexible Work Environment</td>\n",
       "      <td>Improve and/or expand Leading Workplace Strate...</td>\n",
       "    </tr>\n",
       "    <tr>\n",
       "      <th>4</th>\n",
       "      <td>189787-166634</td>\n",
       "      <td>114</td>\n",
       "      <td>upgrading accessibility for Deaf and Hard of H...</td>\n",
       "      <td>Vision, Mission &amp; Goals</td>\n",
       "      <td>Pay attention to the public interest and servi...</td>\n",
       "    </tr>\n",
       "  </tbody>\n",
       "</table>\n",
       "</div>"
      ],
      "text/plain": [
       "          USERID  code                                               text  \\\n",
       "0  192723-544650    62  I would suggest having a developmental growth ...   \n",
       "1  188281-540434   116  Base decisions regarding fish and wildlife on ...   \n",
       "2  191202-862188   102   Improved office space (fix HVAC, etc) but NO LWS   \n",
       "3  174789-230694    51  Get rid of Leading Workplace Strategies and gi...   \n",
       "4  189787-166634   114  upgrading accessibility for Deaf and Hard of H...   \n",
       "\n",
       "                                     theme  \\\n",
       "0                       Staffing Practices   \n",
       "1                  Vision, Mission & Goals   \n",
       "2  Tools, Equipment & Physical Environment   \n",
       "3                Flexible Work Environment   \n",
       "4                  Vision, Mission & Goals   \n",
       "\n",
       "                                subtheme_description  \n",
       "0  Focus on Human Resources planning (recruitment...  \n",
       "1                         Reduce political influence  \n",
       "2  Improve facilities (e.g. office space, noise l...  \n",
       "3  Improve and/or expand Leading Workplace Strate...  \n",
       "4  Pay attention to the public interest and servi...  "
      ]
     },
     "execution_count": 42,
     "metadata": {},
     "output_type": "execute_result"
    }
   ],
   "source": [
    "data_full = src.analysis.emotion_analysis.pre_process_comments(data_full, legend)\n",
    "data_full.head()"
   ]
  },
  {
   "cell_type": "markdown",
   "metadata": {},
   "source": [
    "## Obtain Emotion Scores for Each Comment"
   ]
  },
  {
   "cell_type": "code",
   "execution_count": 44,
   "metadata": {
    "scrolled": true
   },
   "outputs": [
    {
     "name": "stdout",
     "output_type": "stream",
     "text": [
      "9.223340121905009 mins\n"
     ]
    },
    {
     "data": {
      "text/html": [
       "<div>\n",
       "<style scoped>\n",
       "    .dataframe tbody tr th:only-of-type {\n",
       "        vertical-align: middle;\n",
       "    }\n",
       "\n",
       "    .dataframe tbody tr th {\n",
       "        vertical-align: top;\n",
       "    }\n",
       "\n",
       "    .dataframe thead th {\n",
       "        text-align: right;\n",
       "    }\n",
       "</style>\n",
       "<table border=\"1\" class=\"dataframe\">\n",
       "  <thead>\n",
       "    <tr style=\"text-align: right;\">\n",
       "      <th></th>\n",
       "      <th>USERID</th>\n",
       "      <th>code</th>\n",
       "      <th>text</th>\n",
       "      <th>theme</th>\n",
       "      <th>subtheme_description</th>\n",
       "      <th>anger</th>\n",
       "      <th>fear</th>\n",
       "      <th>sad</th>\n",
       "    </tr>\n",
       "  </thead>\n",
       "  <tbody>\n",
       "    <tr>\n",
       "      <th>0</th>\n",
       "      <td>192723-544650</td>\n",
       "      <td>62</td>\n",
       "      <td>i would suggest having a developmental growth ...</td>\n",
       "      <td>Staffing Practices</td>\n",
       "      <td>Focus on Human Resources planning (recruitment...</td>\n",
       "      <td>0.0</td>\n",
       "      <td>0.0</td>\n",
       "      <td>0.0</td>\n",
       "    </tr>\n",
       "    <tr>\n",
       "      <th>1</th>\n",
       "      <td>188281-540434</td>\n",
       "      <td>116</td>\n",
       "      <td>base decisions regarding fish and wildlife on ...</td>\n",
       "      <td>Vision, Mission &amp; Goals</td>\n",
       "      <td>Reduce political influence</td>\n",
       "      <td>0.0</td>\n",
       "      <td>0.0</td>\n",
       "      <td>0.0</td>\n",
       "    </tr>\n",
       "    <tr>\n",
       "      <th>2</th>\n",
       "      <td>191202-862188</td>\n",
       "      <td>102</td>\n",
       "      <td>improved office space (fix hvac, etc) but no lws</td>\n",
       "      <td>Tools, Equipment &amp; Physical Environment</td>\n",
       "      <td>Improve facilities (e.g. office space, noise l...</td>\n",
       "      <td>0.0</td>\n",
       "      <td>0.0</td>\n",
       "      <td>0.0</td>\n",
       "    </tr>\n",
       "  </tbody>\n",
       "</table>\n",
       "</div>"
      ],
      "text/plain": [
       "          USERID  code                                               text  \\\n",
       "0  192723-544650    62  i would suggest having a developmental growth ...   \n",
       "1  188281-540434   116  base decisions regarding fish and wildlife on ...   \n",
       "2  191202-862188   102   improved office space (fix hvac, etc) but no lws   \n",
       "\n",
       "                                     theme  \\\n",
       "0                       Staffing Practices   \n",
       "1                  Vision, Mission & Goals   \n",
       "2  Tools, Equipment & Physical Environment   \n",
       "\n",
       "                                subtheme_description  anger  fear  sad  \n",
       "0  Focus on Human Resources planning (recruitment...    0.0   0.0  0.0  \n",
       "1                         Reduce political influence    0.0   0.0  0.0  \n",
       "2  Improve facilities (e.g. office space, noise l...    0.0   0.0  0.0  "
      ]
     },
     "metadata": {},
     "output_type": "display_data"
    }
   ],
   "source": [
    "start = time.time()\n",
    "full_scores = src.analysis.emotion_analysis.obtain_emotion_scores(data_full, \n",
    "                                                                  lexicon, \n",
    "                                                                  anger=True, \n",
    "                                                                  fear=True, \n",
    "                                                                  sadness=True, \n",
    "                                                                  joy=False)\n",
    "end = time.time()\n",
    "print((end - start) / 60, \"mins\")\n",
    "display(full_scores.head(3))"
   ]
  },
  {
   "cell_type": "markdown",
   "metadata": {},
   "source": [
    "### Overall Emotions"
   ]
  },
  {
   "cell_type": "code",
   "execution_count": null,
   "metadata": {
    "scrolled": false
   },
   "outputs": [],
   "source": [
    "plot_all = src.analysis.emotion_analysis.plot_data(data=full_scores)"
   ]
  },
  {
   "cell_type": "code",
   "execution_count": null,
   "metadata": {},
   "outputs": [],
   "source": [
    "full_scores.shape"
   ]
  },
  {
   "cell_type": "code",
   "execution_count": null,
   "metadata": {},
   "outputs": [],
   "source": []
  },
  {
   "cell_type": "code",
   "execution_count": null,
   "metadata": {
    "scrolled": true
   },
   "outputs": [],
   "source": [
    "agreement_scores.shape"
   ]
  },
  {
   "cell_type": "code",
   "execution_count": null,
   "metadata": {},
   "outputs": [],
   "source": [
    "src.analysis.emotion_analysis.filter_emotionless_comments(agreement_scores).shape"
   ]
  },
  {
   "cell_type": "code",
   "execution_count": null,
   "metadata": {},
   "outputs": [],
   "source": [
    "30934 - 19713"
   ]
  },
  {
   "cell_type": "code",
   "execution_count": null,
   "metadata": {},
   "outputs": [],
   "source": [
    "aa = one_hot_emotions(agreement_scores, groupby=\"code\", agreement=False)\n",
    "aa.head()"
   ]
  },
  {
   "cell_type": "code",
   "execution_count": null,
   "metadata": {},
   "outputs": [],
   "source": [
    "one_hot_emotions(agreement_scores, groupby=None, agreement=False)"
   ]
  },
  {
   "cell_type": "code",
   "execution_count": null,
   "metadata": {},
   "outputs": [],
   "source": [
    "full = src.analysis.emotion_analysis.create_bar_plot_percent(full_scores)"
   ]
  },
  {
   "cell_type": "code",
   "execution_count": null,
   "metadata": {},
   "outputs": [],
   "source": [
    "full.savefig(\"./reports/figures/final_pres/full_emotions.png\", dpi=300);"
   ]
  },
  {
   "cell_type": "code",
   "execution_count": null,
   "metadata": {},
   "outputs": [],
   "source": [
    "full_scores.head()\n",
    "sup = full_scores[full_scores[\"theme\"]==\"Supervisors\"]\n",
    "sup_plot = src.analysis.emotion_analysis.create_bar_plot_percent(sup)\n",
    "sup_plot.savefig(\"./reports/figures/final_pres/sup_emotions.png\", dpi=300);"
   ]
  },
  {
   "cell_type": "code",
   "execution_count": null,
   "metadata": {},
   "outputs": [],
   "source": [
    "create_bar_plot_percent(data)"
   ]
  },
  {
   "cell_type": "code",
   "execution_count": null,
   "metadata": {},
   "outputs": [],
   "source": [
    "a1 = filter_depth(12, \"code\", False, aa)\n",
    "#print(a1)"
   ]
  },
  {
   "cell_type": "code",
   "execution_count": null,
   "metadata": {},
   "outputs": [],
   "source": [
    "a = pd.Series([14,12], index=[\"sad\",\"anger\"])\n",
    "a.rename({\"sad\":\"sadness\"})\n",
    "\n"
   ]
  },
  {
   "cell_type": "code",
   "execution_count": null,
   "metadata": {},
   "outputs": [],
   "source": [
    "create_bar_plot(agreement=None, data=aa, title=\"hi\")"
   ]
  },
  {
   "cell_type": "code",
   "execution_count": null,
   "metadata": {},
   "outputs": [],
   "source": [
    "a = pd.Series([11221], index=[\"emotionless\"])\n",
    "\n",
    "aa = aa.append(a)\n",
    "aa"
   ]
  },
  {
   "cell_type": "code",
   "execution_count": null,
   "metadata": {},
   "outputs": [],
   "source": [
    "aaa = aa/aa.sum()"
   ]
  },
  {
   "cell_type": "code",
   "execution_count": null,
   "metadata": {},
   "outputs": [],
   "source": [
    "aaa.plot.bar(rot=0)"
   ]
  },
  {
   "cell_type": "code",
   "execution_count": null,
   "metadata": {},
   "outputs": [],
   "source": [
    "src.analysis.emotion_analysis.create_bar_plot_percent(agreement_scores)"
   ]
  },
  {
   "cell_type": "code",
   "execution_count": null,
   "metadata": {},
   "outputs": [],
   "source": []
  },
  {
   "cell_type": "code",
   "execution_count": null,
   "metadata": {},
   "outputs": [],
   "source": [
    "def emotionless_count():\n",
    "    "
   ]
  },
  {
   "cell_type": "code",
   "execution_count": null,
   "metadata": {},
   "outputs": [],
   "source": []
  },
  {
   "cell_type": "code",
   "execution_count": null,
   "metadata": {},
   "outputs": [],
   "source": []
  },
  {
   "cell_type": "code",
   "execution_count": null,
   "metadata": {},
   "outputs": [],
   "source": [
    "src.analysis.emotion_analysis.plot_data(data=agreement_scores)"
   ]
  },
  {
   "cell_type": "code",
   "execution_count": null,
   "metadata": {},
   "outputs": [],
   "source": []
  },
  {
   "cell_type": "code",
   "execution_count": null,
   "metadata": {},
   "outputs": [],
   "source": [
    "plot_12 = src.analysis.emotion_analysis.plot_data(data=agreement_scores, \n",
    "                                                  depth=\"subtheme\", \n",
    "                                                  name=12)"
   ]
  },
  {
   "cell_type": "code",
   "execution_count": null,
   "metadata": {},
   "outputs": [],
   "source": [
    "plot_stress = src.analysis.emotion_analysis.plot_data(data=agreement_scores, \n",
    "                                                      depth=\"theme\", \n",
    "                                                      name=\"Stress & Workload\")"
   ]
  },
  {
   "cell_type": "code",
   "execution_count": null,
   "metadata": {},
   "outputs": [],
   "source": [
    "## need to move this to a viz script\n",
    "plot_stress.savefig(\"./reports/figures/final_pres/emotion_stress_workload.png\");\n",
    "\n",
    "plot_all.savefig(\"./reports/figures/final_pres/emotion_all.png\");\n",
    "\n",
    "\n"
   ]
  },
  {
   "cell_type": "code",
   "execution_count": null,
   "metadata": {},
   "outputs": [],
   "source": [
    "top_fear = src.analysis.emotion_analysis.display_top_emotions(full_scores, \"fear\", 5)\n",
    "top_fear"
   ]
  },
  {
   "cell_type": "code",
   "execution_count": null,
   "metadata": {
    "scrolled": false
   },
   "outputs": [],
   "source": [
    "src.analysis.emotion_analysis.examine_emotion_scoring(full_scores, \"fear\", lexicon, 18497)"
   ]
  },
  {
   "cell_type": "code",
   "execution_count": null,
   "metadata": {},
   "outputs": [],
   "source": []
  },
  {
   "cell_type": "code",
   "execution_count": null,
   "metadata": {},
   "outputs": [],
   "source": [
    " src.analysis.emotion_analysis.examine_emotion_scoring(full_scores, \"fear\", lexicon, 10000, normalize=True)"
   ]
  },
  {
   "cell_type": "code",
   "execution_count": null,
   "metadata": {},
   "outputs": [],
   "source": [
    "src.analysis.emotion_analysis.display_top_emotions(full_scores, \"fear\", 5, normalize=True)"
   ]
  },
  {
   "cell_type": "code",
   "execution_count": null,
   "metadata": {
    "scrolled": false
   },
   "outputs": [],
   "source": [
    "src.analysis.emotion_analysis.examine_emotion_scoring(full_scores, \"fear\", lexicon, 18497)"
   ]
  },
  {
   "cell_type": "code",
   "execution_count": null,
   "metadata": {
    "scrolled": true
   },
   "outputs": [],
   "source": [
    "# can easily change description and split into maybe 2 tables? \n",
    "# the 2nd one with a column of emotion name, any emotion, emotion max\n",
    "src.analysis.emotion_analysis.summary(agreement_scores)"
   ]
  },
  {
   "cell_type": "code",
   "execution_count": null,
   "metadata": {},
   "outputs": [],
   "source": [
    "sample = pd.read_excel(\"./data/raw/2018_WES_Qual_Samples.xlsx\", \n",
    "                       usecols=[0, 1, 2, 3, 4, 5, 6], \n",
    "                       names=[\"USERID\", \"text\", \"code1\", \"code2\", \"code3\", \"code4\", \"code5\"])\n",
    "sample.head()\n",
    "\n",
    "\n",
    "sample = src.analysis.emotion_analysis.get_theme_labels(src.analysis.emotion_analysis.format_raw_comments(sample), legend)"
   ]
  },
  {
   "cell_type": "code",
   "execution_count": null,
   "metadata": {},
   "outputs": [],
   "source": [
    "presentation_ex = "
   ]
  },
  {
   "cell_type": "code",
   "execution_count": null,
   "metadata": {},
   "outputs": [],
   "source": [
    "sample_x = src.analysis.emotion_analysis.obtain_emotion_scores(sample, \n",
    "                                                                  lexicon, \n",
    "                                                                  anger=True, \n",
    "                                                                  fear=True, \n",
    "                                                                  sadness=True, \n",
    "                                                                  joy=False)"
   ]
  },
  {
   "cell_type": "code",
   "execution_count": null,
   "metadata": {},
   "outputs": [],
   "source": [
    "src.analysis.emotion_analysis.examine_emotion_scoring(sample_x, \"fear\", lexicon)"
   ]
  },
  {
   "cell_type": "code",
   "execution_count": null,
   "metadata": {},
   "outputs": [],
   "source": [
    "plot_all = src.analysis.emotion_analysis.plot_data(data=sample_x)"
   ]
  },
  {
   "cell_type": "code",
   "execution_count": null,
   "metadata": {},
   "outputs": [],
   "source": []
  },
  {
   "cell_type": "code",
   "execution_count": null,
   "metadata": {},
   "outputs": [],
   "source": []
  },
  {
   "cell_type": "code",
   "execution_count": null,
   "metadata": {},
   "outputs": [],
   "source": []
  },
  {
   "cell_type": "code",
   "execution_count": null,
   "metadata": {
    "scrolled": false
   },
   "outputs": [],
   "source": [
    "themes = full_scores[\"theme\"].unique()\n",
    "\n",
    "for theme in themes:\n",
    "    src.analysis.emotion_analysis.plot_data(data=full_scores, \n",
    "                                                      depth=\"theme\", \n",
    "                                                      name=theme)"
   ]
  },
  {
   "cell_type": "code",
   "execution_count": null,
   "metadata": {
    "scrolled": true
   },
   "outputs": [],
   "source": [
    "themes = full_scores[\"code\"].unique()\n",
    "\n",
    "for theme in themes:\n",
    "    src.analysis.emotion_analysis.plot_data(data=full_scores, \n",
    "                                                      depth=\"subtheme\", \n",
    "                                                      name=theme)"
   ]
  },
  {
   "cell_type": "code",
   "execution_count": null,
   "metadata": {},
   "outputs": [],
   "source": [
    "benefits_all = src.analysis.emotion_analysis.plot_data(data=agreement_scores, \n",
    "                                                      depth=\"subtheme\", \n",
    "                                                      name=24,\n",
    "                                           agreement=\"all\")\n",
    "type(benefits_all)"
   ]
  },
  {
   "cell_type": "code",
   "execution_count": null,
   "metadata": {},
   "outputs": [],
   "source": []
  },
  {
   "cell_type": "code",
   "execution_count": null,
   "metadata": {},
   "outputs": [],
   "source": [
    "benefits_all.savefig(\"./reports/figures/final_pres/benefits_all.png\");"
   ]
  },
  {
   "cell_type": "code",
   "execution_count": null,
   "metadata": {},
   "outputs": [],
   "source": [
    "supervisor = src.analysis.emotion_analysis.plot_data(data=full_scores, \n",
    "                                                      depth=\"theme\", \n",
    "                                                      name=\"Supervisors\")"
   ]
  }
 ],
 "metadata": {
  "kernelspec": {
   "display_name": "Python 3",
   "language": "python",
   "name": "python3"
  },
  "language_info": {
   "codemirror_mode": {
    "name": "ipython",
    "version": 3
   },
   "file_extension": ".py",
   "mimetype": "text/x-python",
   "name": "python",
   "nbconvert_exporter": "python",
   "pygments_lexer": "ipython3",
   "version": "3.7.1"
  }
 },
 "nbformat": 4,
 "nbformat_minor": 2
}
