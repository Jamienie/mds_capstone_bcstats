{
 "cells": [
  {
   "cell_type": "markdown",
   "metadata": {},
   "source": [
    "# Emotion Analysis\n",
    "\n",
    "This notebook shows the emotion of a comment. Comments can be viewed individually as well aggregated to the subtheme and theme level. The comments can have the emotions: anger, fear, and sadness.\n",
    "\n",
    "To determine the emotion of a comment the lexicon NRC Affect Intensity Lexicon v0.5 (Saif M. Mohammad) was used. This lexicon consists of words with a score from 0 to 1 associated with an emotion where the higher the scores indicates the word is more strongly associated with that emotion. To get the overall emotion of the comment the scores from each word are summed and the emotion with the highest score is associated with the comment.  To be able to compare the scores from one comment to another to determine the angriest, saddest and most fearful comments the scores were divided by the **total number of words**. \n",
    "\n",
    "The lexicon does contain joy as an emotion but joy was left out of this analysis since the comments should be predominately negative and we are trying to determine the negative emotion driving these comments. Joy was included at first but removed as it was found to be the most common emotion due to the words associated with joy are more common but they are predominately being used with a negative connotation like this example where \"good\" is the associated joy word but it was being used as \"not good\". Since this only looks at matching words it does not pick up on how the word is used. When examples of anger, fear and sadness were looked at the words were being used in the appropriate manner for this analysis. \n",
    "\n",
    "### Instructions for use\n",
    "\n",
    "This notebook can be used to look at different emotions, comments, subthemes and themes. Change the parameters of the functions to look at different examples. \n"
   ]
  },
  {
   "cell_type": "code",
   "execution_count": 1,
   "metadata": {},
   "outputs": [],
   "source": [
    "# Required packages\n",
    "import pandas as pd\n",
    "import numpy as np\n",
    "import time\n",
    "\n",
    "import spacy\n",
    "# Load English model for SpaCy\n",
    "nlp = spacy.load('en_core_web_sm')"
   ]
  },
  {
   "cell_type": "code",
   "execution_count": 2,
   "metadata": {},
   "outputs": [
    {
     "data": {
      "text/plain": [
       "'C:\\\\Users\\\\payla\\\\Documents\\\\MDS\\\\Capstone\\\\DSCI_591_capstone-BCStats'"
      ]
     },
     "execution_count": 2,
     "metadata": {},
     "output_type": "execute_result"
    }
   ],
   "source": [
    "# Change working directory to be project root, by removing the # and running `os.chdir(\"..\")` once then comment out.\n",
    "import os\n",
    "os.chdir(\"..\")\n",
    "os.getcwd()"
   ]
  },
  {
   "cell_type": "code",
   "execution_count": 3,
   "metadata": {},
   "outputs": [],
   "source": [
    "# remove once notebook is finished\n",
    "# ensure packages reload after every change \n",
    "\n",
    "%load_ext autoreload\n",
    "%autoreload 2\n",
    "import src\n",
    "\n",
    "from src.analysis.emotion_analysis import *"
   ]
  },
  {
   "cell_type": "markdown",
   "metadata": {},
   "source": [
    "## Load Data and Lexicon"
   ]
  },
  {
   "cell_type": "code",
   "execution_count": 4,
   "metadata": {
    "scrolled": false
   },
   "outputs": [],
   "source": [
    "# read full data\n",
    "data_full = pd.read_csv(\".\\data\\interim\\desensitized_qualitative-data2018.csv\",\n",
    "                            usecols=[0, 1, 2, 3, 4, 5, 6], \n",
    "                            names=[\"USERID\", \"text\", \"code1\", \"code2\", \"code3\", \"code4\", \"code5\"], skiprows=1)\n",
    "\n",
    "# read agreement data\n",
    "data_agreement = pd.read_csv(\".\\data\\interim\\joined_qual_quant.csv\",\n",
    "                            usecols=[0, 1, 4, 5, 6])\n",
    "\n",
    "# load lexicon\n",
    "lexicon = pd.read_csv(\"http://saifmohammad.com/WebDocs/NRC-AffectIntensity-Lexicon.txt\", \n",
    "                      sep=\"\\t\", \n",
    "                      skiprows=35) \n",
    "# read in data legend\n",
    "legend = pd.read_csv(\"./references/data-dictionaries/theme_subtheme_names.csv\")"
   ]
  },
  {
   "cell_type": "code",
   "execution_count": 6,
   "metadata": {},
   "outputs": [
    {
     "data": {
      "text/html": [
       "<div>\n",
       "<style scoped>\n",
       "    .dataframe tbody tr th:only-of-type {\n",
       "        vertical-align: middle;\n",
       "    }\n",
       "\n",
       "    .dataframe tbody tr th {\n",
       "        vertical-align: top;\n",
       "    }\n",
       "\n",
       "    .dataframe thead th {\n",
       "        text-align: right;\n",
       "    }\n",
       "</style>\n",
       "<table border=\"1\" class=\"dataframe\">\n",
       "  <thead>\n",
       "    <tr style=\"text-align: right;\">\n",
       "      <th></th>\n",
       "      <th>USERID</th>\n",
       "      <th>text</th>\n",
       "      <th>code1</th>\n",
       "      <th>code2</th>\n",
       "      <th>code3</th>\n",
       "      <th>code4</th>\n",
       "      <th>code5</th>\n",
       "    </tr>\n",
       "  </thead>\n",
       "  <tbody>\n",
       "    <tr>\n",
       "      <th>0</th>\n",
       "      <td>192723-544650</td>\n",
       "      <td>I would suggest having a developmental growth ...</td>\n",
       "      <td>62</td>\n",
       "      <td>13</td>\n",
       "      <td>NaN</td>\n",
       "      <td>NaN</td>\n",
       "      <td>NaN</td>\n",
       "    </tr>\n",
       "    <tr>\n",
       "      <th>1</th>\n",
       "      <td>188281-540434</td>\n",
       "      <td>Base decisions regarding fish and wildlife on ...</td>\n",
       "      <td>116</td>\n",
       "      <td>NaN</td>\n",
       "      <td>NaN</td>\n",
       "      <td>NaN</td>\n",
       "      <td>NaN</td>\n",
       "    </tr>\n",
       "    <tr>\n",
       "      <th>2</th>\n",
       "      <td>191202-862188</td>\n",
       "      <td>Improved office space (fix HVAC, etc) but NO LWS</td>\n",
       "      <td>102</td>\n",
       "      <td>51</td>\n",
       "      <td>NaN</td>\n",
       "      <td>NaN</td>\n",
       "      <td>NaN</td>\n",
       "    </tr>\n",
       "  </tbody>\n",
       "</table>\n",
       "</div>"
      ],
      "text/plain": [
       "          USERID                                               text  code1  \\\n",
       "0  192723-544650  I would suggest having a developmental growth ...     62   \n",
       "1  188281-540434  Base decisions regarding fish and wildlife on ...    116   \n",
       "2  191202-862188   Improved office space (fix HVAC, etc) but NO LWS    102   \n",
       "\n",
       "  code2 code3 code4 code5  \n",
       "0    13   NaN   NaN   NaN  \n",
       "1   NaN   NaN   NaN   NaN  \n",
       "2    51   NaN   NaN   NaN  "
      ]
     },
     "metadata": {},
     "output_type": "display_data"
    },
    {
     "data": {
      "text/html": [
       "<div>\n",
       "<style scoped>\n",
       "    .dataframe tbody tr th:only-of-type {\n",
       "        vertical-align: middle;\n",
       "    }\n",
       "\n",
       "    .dataframe tbody tr th {\n",
       "        vertical-align: top;\n",
       "    }\n",
       "\n",
       "    .dataframe thead th {\n",
       "        text-align: right;\n",
       "    }\n",
       "</style>\n",
       "<table border=\"1\" class=\"dataframe\">\n",
       "  <thead>\n",
       "    <tr style=\"text-align: right;\">\n",
       "      <th></th>\n",
       "      <th>USERID</th>\n",
       "      <th>code</th>\n",
       "      <th>question</th>\n",
       "      <th>diff</th>\n",
       "      <th>text</th>\n",
       "    </tr>\n",
       "  </thead>\n",
       "  <tbody>\n",
       "    <tr>\n",
       "      <th>0</th>\n",
       "      <td>191202-862188</td>\n",
       "      <td>102</td>\n",
       "      <td>Q39</td>\n",
       "      <td>0</td>\n",
       "      <td>Improved office space (fix HVAC, etc) but NO LWS</td>\n",
       "    </tr>\n",
       "    <tr>\n",
       "      <th>1</th>\n",
       "      <td>173110-932228</td>\n",
       "      <td>14</td>\n",
       "      <td>Q46</td>\n",
       "      <td>1</td>\n",
       "      <td>Administration people should have better oppor...</td>\n",
       "    </tr>\n",
       "    <tr>\n",
       "      <th>2</th>\n",
       "      <td>185914-180608</td>\n",
       "      <td>24</td>\n",
       "      <td>Q20</td>\n",
       "      <td>0</td>\n",
       "      <td>We are the lowest paid in Canada with a worklo...</td>\n",
       "    </tr>\n",
       "  </tbody>\n",
       "</table>\n",
       "</div>"
      ],
      "text/plain": [
       "          USERID  code question  diff  \\\n",
       "0  191202-862188   102      Q39     0   \n",
       "1  173110-932228    14      Q46     1   \n",
       "2  185914-180608    24      Q20     0   \n",
       "\n",
       "                                                text  \n",
       "0   Improved office space (fix HVAC, etc) but NO LWS  \n",
       "1  Administration people should have better oppor...  \n",
       "2  We are the lowest paid in Canada with a worklo...  "
      ]
     },
     "metadata": {},
     "output_type": "display_data"
    },
    {
     "data": {
      "text/html": [
       "<div>\n",
       "<style scoped>\n",
       "    .dataframe tbody tr th:only-of-type {\n",
       "        vertical-align: middle;\n",
       "    }\n",
       "\n",
       "    .dataframe tbody tr th {\n",
       "        vertical-align: top;\n",
       "    }\n",
       "\n",
       "    .dataframe thead th {\n",
       "        text-align: right;\n",
       "    }\n",
       "</style>\n",
       "<table border=\"1\" class=\"dataframe\">\n",
       "  <thead>\n",
       "    <tr style=\"text-align: right;\">\n",
       "      <th></th>\n",
       "      <th>term</th>\n",
       "      <th>score</th>\n",
       "      <th>AffectDimension</th>\n",
       "    </tr>\n",
       "  </thead>\n",
       "  <tbody>\n",
       "    <tr>\n",
       "      <th>0</th>\n",
       "      <td>outraged</td>\n",
       "      <td>0.964</td>\n",
       "      <td>anger</td>\n",
       "    </tr>\n",
       "    <tr>\n",
       "      <th>1</th>\n",
       "      <td>brutality</td>\n",
       "      <td>0.959</td>\n",
       "      <td>anger</td>\n",
       "    </tr>\n",
       "    <tr>\n",
       "      <th>2</th>\n",
       "      <td>hatred</td>\n",
       "      <td>0.953</td>\n",
       "      <td>anger</td>\n",
       "    </tr>\n",
       "  </tbody>\n",
       "</table>\n",
       "</div>"
      ],
      "text/plain": [
       "        term  score AffectDimension\n",
       "0   outraged  0.964           anger\n",
       "1  brutality  0.959           anger\n",
       "2     hatred  0.953           anger"
      ]
     },
     "metadata": {},
     "output_type": "display_data"
    },
    {
     "data": {
      "text/html": [
       "<div>\n",
       "<style scoped>\n",
       "    .dataframe tbody tr th:only-of-type {\n",
       "        vertical-align: middle;\n",
       "    }\n",
       "\n",
       "    .dataframe tbody tr th {\n",
       "        vertical-align: top;\n",
       "    }\n",
       "\n",
       "    .dataframe thead th {\n",
       "        text-align: right;\n",
       "    }\n",
       "</style>\n",
       "<table border=\"1\" class=\"dataframe\">\n",
       "  <thead>\n",
       "    <tr style=\"text-align: right;\">\n",
       "      <th></th>\n",
       "      <th>theme</th>\n",
       "      <th>code</th>\n",
       "      <th>subtheme_description</th>\n",
       "    </tr>\n",
       "  </thead>\n",
       "  <tbody>\n",
       "    <tr>\n",
       "      <th>0</th>\n",
       "      <td>Career &amp; Personal Development</td>\n",
       "      <td>11</td>\n",
       "      <td>Improve new employee orientation</td>\n",
       "    </tr>\n",
       "    <tr>\n",
       "      <th>1</th>\n",
       "      <td>Career &amp; Personal Development</td>\n",
       "      <td>12</td>\n",
       "      <td>Improve performance management process</td>\n",
       "    </tr>\n",
       "    <tr>\n",
       "      <th>2</th>\n",
       "      <td>Career &amp; Personal Development</td>\n",
       "      <td>13</td>\n",
       "      <td>Improve training and development opportunities</td>\n",
       "    </tr>\n",
       "  </tbody>\n",
       "</table>\n",
       "</div>"
      ],
      "text/plain": [
       "                           theme  code  \\\n",
       "0  Career & Personal Development    11   \n",
       "1  Career & Personal Development    12   \n",
       "2  Career & Personal Development    13   \n",
       "\n",
       "                             subtheme_description  \n",
       "0                Improve new employee orientation  \n",
       "1          Improve performance management process  \n",
       "2  Improve training and development opportunities  "
      ]
     },
     "metadata": {},
     "output_type": "display_data"
    }
   ],
   "source": [
    "display(data_full.head(3))\n",
    "display(data_agreement.head(3))\n",
    "display(lexicon.head(3))\n",
    "display(legend.head(3))"
   ]
  },
  {
   "cell_type": "markdown",
   "metadata": {},
   "source": [
    "## Add Process Full Comment data and Add Themes Names"
   ]
  },
  {
   "cell_type": "code",
   "execution_count": 6,
   "metadata": {},
   "outputs": [],
   "source": [
    "data_full = src.analysis.emotion_analysis.format_raw_comments(data_full)"
   ]
  },
  {
   "cell_type": "code",
   "execution_count": 7,
   "metadata": {},
   "outputs": [],
   "source": [
    "data_full =  src.analysis.emotion_analysis.get_theme_labels(data_full, legend)\n",
    "data_agreement =  src.analysis.emotion_analysis.get_theme_labels(data_agreement, legend)"
   ]
  },
  {
   "cell_type": "code",
   "execution_count": 8,
   "metadata": {},
   "outputs": [
    {
     "data": {
      "text/html": [
       "<div>\n",
       "<style scoped>\n",
       "    .dataframe tbody tr th:only-of-type {\n",
       "        vertical-align: middle;\n",
       "    }\n",
       "\n",
       "    .dataframe tbody tr th {\n",
       "        vertical-align: top;\n",
       "    }\n",
       "\n",
       "    .dataframe thead th {\n",
       "        text-align: right;\n",
       "    }\n",
       "</style>\n",
       "<table border=\"1\" class=\"dataframe\">\n",
       "  <thead>\n",
       "    <tr style=\"text-align: right;\">\n",
       "      <th></th>\n",
       "      <th>USERID</th>\n",
       "      <th>code</th>\n",
       "      <th>text</th>\n",
       "      <th>theme</th>\n",
       "      <th>subtheme_description</th>\n",
       "    </tr>\n",
       "  </thead>\n",
       "  <tbody>\n",
       "    <tr>\n",
       "      <th>0</th>\n",
       "      <td>192723-544650</td>\n",
       "      <td>62</td>\n",
       "      <td>I would suggest having a developmental growth ...</td>\n",
       "      <td>Staffing Practices</td>\n",
       "      <td>Focus on Human Resources planning (recruitment...</td>\n",
       "    </tr>\n",
       "    <tr>\n",
       "      <th>1</th>\n",
       "      <td>188281-540434</td>\n",
       "      <td>116</td>\n",
       "      <td>Base decisions regarding fish and wildlife on ...</td>\n",
       "      <td>Vision, Mission &amp; Goals</td>\n",
       "      <td>Reduce political influence</td>\n",
       "    </tr>\n",
       "    <tr>\n",
       "      <th>2</th>\n",
       "      <td>191202-862188</td>\n",
       "      <td>102</td>\n",
       "      <td>Improved office space (fix HVAC, etc) but NO LWS</td>\n",
       "      <td>Tools, Equipment &amp; Physical Environment</td>\n",
       "      <td>Improve facilities (e.g. office space, noise l...</td>\n",
       "    </tr>\n",
       "  </tbody>\n",
       "</table>\n",
       "</div>"
      ],
      "text/plain": [
       "          USERID  code                                               text  \\\n",
       "0  192723-544650    62  I would suggest having a developmental growth ...   \n",
       "1  188281-540434   116  Base decisions regarding fish and wildlife on ...   \n",
       "2  191202-862188   102   Improved office space (fix HVAC, etc) but NO LWS   \n",
       "\n",
       "                                     theme  \\\n",
       "0                       Staffing Practices   \n",
       "1                  Vision, Mission & Goals   \n",
       "2  Tools, Equipment & Physical Environment   \n",
       "\n",
       "                                subtheme_description  \n",
       "0  Focus on Human Resources planning (recruitment...  \n",
       "1                         Reduce political influence  \n",
       "2  Improve facilities (e.g. office space, noise l...  "
      ]
     },
     "metadata": {},
     "output_type": "display_data"
    },
    {
     "data": {
      "text/html": [
       "<div>\n",
       "<style scoped>\n",
       "    .dataframe tbody tr th:only-of-type {\n",
       "        vertical-align: middle;\n",
       "    }\n",
       "\n",
       "    .dataframe tbody tr th {\n",
       "        vertical-align: top;\n",
       "    }\n",
       "\n",
       "    .dataframe thead th {\n",
       "        text-align: right;\n",
       "    }\n",
       "</style>\n",
       "<table border=\"1\" class=\"dataframe\">\n",
       "  <thead>\n",
       "    <tr style=\"text-align: right;\">\n",
       "      <th></th>\n",
       "      <th>USERID</th>\n",
       "      <th>code</th>\n",
       "      <th>question</th>\n",
       "      <th>diff</th>\n",
       "      <th>text</th>\n",
       "      <th>theme</th>\n",
       "      <th>subtheme_description</th>\n",
       "    </tr>\n",
       "  </thead>\n",
       "  <tbody>\n",
       "    <tr>\n",
       "      <th>0</th>\n",
       "      <td>191202-862188</td>\n",
       "      <td>102</td>\n",
       "      <td>Q39</td>\n",
       "      <td>0</td>\n",
       "      <td>Improved office space (fix HVAC, etc) but NO LWS</td>\n",
       "      <td>Tools, Equipment &amp; Physical Environment</td>\n",
       "      <td>Improve facilities (e.g. office space, noise l...</td>\n",
       "    </tr>\n",
       "    <tr>\n",
       "      <th>1</th>\n",
       "      <td>173110-932228</td>\n",
       "      <td>14</td>\n",
       "      <td>Q46</td>\n",
       "      <td>1</td>\n",
       "      <td>Administration people should have better oppor...</td>\n",
       "      <td>Career &amp; Personal Development</td>\n",
       "      <td>Provide opportunities for career advancement</td>\n",
       "    </tr>\n",
       "    <tr>\n",
       "      <th>2</th>\n",
       "      <td>185914-180608</td>\n",
       "      <td>24</td>\n",
       "      <td>Q20</td>\n",
       "      <td>0</td>\n",
       "      <td>We are the lowest paid in Canada with a worklo...</td>\n",
       "      <td>Compensation &amp; Benefits</td>\n",
       "      <td>Increase salary</td>\n",
       "    </tr>\n",
       "  </tbody>\n",
       "</table>\n",
       "</div>"
      ],
      "text/plain": [
       "          USERID  code question  diff  \\\n",
       "0  191202-862188   102      Q39     0   \n",
       "1  173110-932228    14      Q46     1   \n",
       "2  185914-180608    24      Q20     0   \n",
       "\n",
       "                                                text  \\\n",
       "0   Improved office space (fix HVAC, etc) but NO LWS   \n",
       "1  Administration people should have better oppor...   \n",
       "2  We are the lowest paid in Canada with a worklo...   \n",
       "\n",
       "                                     theme  \\\n",
       "0  Tools, Equipment & Physical Environment   \n",
       "1            Career & Personal Development   \n",
       "2                  Compensation & Benefits   \n",
       "\n",
       "                                subtheme_description  \n",
       "0  Improve facilities (e.g. office space, noise l...  \n",
       "1       Provide opportunities for career advancement  \n",
       "2                                    Increase salary  "
      ]
     },
     "metadata": {},
     "output_type": "display_data"
    }
   ],
   "source": [
    "display(data_full.head(3))\n",
    "display(data_agreement.head(3))"
   ]
  },
  {
   "cell_type": "markdown",
   "metadata": {},
   "source": [
    "## Obtain Emotion Scores for Each Comment"
   ]
  },
  {
   "cell_type": "code",
   "execution_count": 9,
   "metadata": {
    "scrolled": true
   },
   "outputs": [
    {
     "name": "stdout",
     "output_type": "stream",
     "text": [
      "8.728333532810211 mins\n"
     ]
    }
   ],
   "source": [
    "start = time.time()\n",
    "full_scores = src.analysis.emotion_analysis.obtain_emotion_scores(data_full, \n",
    "                                                                  lexicon, \n",
    "                                                                  anger=True, \n",
    "                                                                  fear=True, \n",
    "                                                                  sadness=True, \n",
    "                                                                  joy=False)\n",
    "end = time.time()\n",
    "print((end - start) / 60, \"mins\")"
   ]
  },
  {
   "cell_type": "code",
   "execution_count": 11,
   "metadata": {},
   "outputs": [
    {
     "name": "stdout",
     "output_type": "stream",
     "text": [
      "11.130611526966096 mins\n"
     ]
    }
   ],
   "source": [
    "start = time.time()\n",
    "agreement_scores = src.analysis.emotion_analysis.obtain_emotion_scores(data_agreement, \n",
    "                                                                       lexicon, \n",
    "                                                                       anger=True, \n",
    "                                                                       fear=True, \n",
    "                                                                       sadness=True, \n",
    "                                                                       joy=False)\n",
    "end = time.time()\n",
    "print((end - start) / 60, \"mins\")"
   ]
  },
  {
   "cell_type": "code",
   "execution_count": 91,
   "metadata": {},
   "outputs": [
    {
     "data": {
      "text/html": [
       "<div>\n",
       "<style scoped>\n",
       "    .dataframe tbody tr th:only-of-type {\n",
       "        vertical-align: middle;\n",
       "    }\n",
       "\n",
       "    .dataframe tbody tr th {\n",
       "        vertical-align: top;\n",
       "    }\n",
       "\n",
       "    .dataframe thead th {\n",
       "        text-align: right;\n",
       "    }\n",
       "</style>\n",
       "<table border=\"1\" class=\"dataframe\">\n",
       "  <thead>\n",
       "    <tr style=\"text-align: right;\">\n",
       "      <th></th>\n",
       "      <th>USERID</th>\n",
       "      <th>code</th>\n",
       "      <th>text</th>\n",
       "      <th>theme</th>\n",
       "      <th>subtheme_description</th>\n",
       "      <th>anger</th>\n",
       "      <th>fear</th>\n",
       "      <th>sad</th>\n",
       "    </tr>\n",
       "  </thead>\n",
       "  <tbody>\n",
       "    <tr>\n",
       "      <th>0</th>\n",
       "      <td>192723-544650</td>\n",
       "      <td>62</td>\n",
       "      <td>i would suggest having a developmental growth ...</td>\n",
       "      <td>Staffing Practices</td>\n",
       "      <td>Focus on Human Resources planning (recruitment...</td>\n",
       "      <td>0.0</td>\n",
       "      <td>0.0</td>\n",
       "      <td>0.0</td>\n",
       "    </tr>\n",
       "    <tr>\n",
       "      <th>1</th>\n",
       "      <td>188281-540434</td>\n",
       "      <td>116</td>\n",
       "      <td>base decisions regarding fish and wildlife on ...</td>\n",
       "      <td>Vision, Mission &amp; Goals</td>\n",
       "      <td>Reduce political influence</td>\n",
       "      <td>0.0</td>\n",
       "      <td>0.0</td>\n",
       "      <td>0.0</td>\n",
       "    </tr>\n",
       "    <tr>\n",
       "      <th>2</th>\n",
       "      <td>191202-862188</td>\n",
       "      <td>102</td>\n",
       "      <td>improved office space (fix hvac, etc) but no lws</td>\n",
       "      <td>Tools, Equipment &amp; Physical Environment</td>\n",
       "      <td>Improve facilities (e.g. office space, noise l...</td>\n",
       "      <td>0.0</td>\n",
       "      <td>0.0</td>\n",
       "      <td>0.0</td>\n",
       "    </tr>\n",
       "  </tbody>\n",
       "</table>\n",
       "</div>"
      ],
      "text/plain": [
       "          USERID  code                                               text  \\\n",
       "0  192723-544650    62  i would suggest having a developmental growth ...   \n",
       "1  188281-540434   116  base decisions regarding fish and wildlife on ...   \n",
       "2  191202-862188   102   improved office space (fix hvac, etc) but no lws   \n",
       "\n",
       "                                     theme  \\\n",
       "0                       Staffing Practices   \n",
       "1                  Vision, Mission & Goals   \n",
       "2  Tools, Equipment & Physical Environment   \n",
       "\n",
       "                                subtheme_description  anger  fear  sad  \n",
       "0  Focus on Human Resources planning (recruitment...    0.0   0.0  0.0  \n",
       "1                         Reduce political influence    0.0   0.0  0.0  \n",
       "2  Improve facilities (e.g. office space, noise l...    0.0   0.0  0.0  "
      ]
     },
     "metadata": {},
     "output_type": "display_data"
    },
    {
     "data": {
      "text/html": [
       "<div>\n",
       "<style scoped>\n",
       "    .dataframe tbody tr th:only-of-type {\n",
       "        vertical-align: middle;\n",
       "    }\n",
       "\n",
       "    .dataframe tbody tr th {\n",
       "        vertical-align: top;\n",
       "    }\n",
       "\n",
       "    .dataframe thead th {\n",
       "        text-align: right;\n",
       "    }\n",
       "</style>\n",
       "<table border=\"1\" class=\"dataframe\">\n",
       "  <thead>\n",
       "    <tr style=\"text-align: right;\">\n",
       "      <th></th>\n",
       "      <th>USERID</th>\n",
       "      <th>code</th>\n",
       "      <th>question</th>\n",
       "      <th>diff</th>\n",
       "      <th>text</th>\n",
       "      <th>theme</th>\n",
       "      <th>subtheme_description</th>\n",
       "      <th>anger</th>\n",
       "      <th>fear</th>\n",
       "      <th>sad</th>\n",
       "    </tr>\n",
       "  </thead>\n",
       "  <tbody>\n",
       "    <tr>\n",
       "      <th>0</th>\n",
       "      <td>191202-862188</td>\n",
       "      <td>102</td>\n",
       "      <td>Q39</td>\n",
       "      <td>0</td>\n",
       "      <td>improved office space (fix hvac, etc) but no lws</td>\n",
       "      <td>Tools, Equipment &amp; Physical Environment</td>\n",
       "      <td>Improve facilities (e.g. office space, noise l...</td>\n",
       "      <td>0.0</td>\n",
       "      <td>0.0</td>\n",
       "      <td>0.000</td>\n",
       "    </tr>\n",
       "    <tr>\n",
       "      <th>1</th>\n",
       "      <td>173110-932228</td>\n",
       "      <td>14</td>\n",
       "      <td>Q46</td>\n",
       "      <td>1</td>\n",
       "      <td>administration people should have better oppor...</td>\n",
       "      <td>Career &amp; Personal Development</td>\n",
       "      <td>Provide opportunities for career advancement</td>\n",
       "      <td>0.0</td>\n",
       "      <td>0.0</td>\n",
       "      <td>0.000</td>\n",
       "    </tr>\n",
       "    <tr>\n",
       "      <th>2</th>\n",
       "      <td>185914-180608</td>\n",
       "      <td>24</td>\n",
       "      <td>Q20</td>\n",
       "      <td>0</td>\n",
       "      <td>we are the lowest paid in canada with a worklo...</td>\n",
       "      <td>Compensation &amp; Benefits</td>\n",
       "      <td>Increase salary</td>\n",
       "      <td>0.0</td>\n",
       "      <td>0.0</td>\n",
       "      <td>1.194</td>\n",
       "    </tr>\n",
       "  </tbody>\n",
       "</table>\n",
       "</div>"
      ],
      "text/plain": [
       "          USERID  code question  diff  \\\n",
       "0  191202-862188   102      Q39     0   \n",
       "1  173110-932228    14      Q46     1   \n",
       "2  185914-180608    24      Q20     0   \n",
       "\n",
       "                                                text  \\\n",
       "0   improved office space (fix hvac, etc) but no lws   \n",
       "1  administration people should have better oppor...   \n",
       "2  we are the lowest paid in canada with a worklo...   \n",
       "\n",
       "                                     theme  \\\n",
       "0  Tools, Equipment & Physical Environment   \n",
       "1            Career & Personal Development   \n",
       "2                  Compensation & Benefits   \n",
       "\n",
       "                                subtheme_description  anger  fear    sad  \n",
       "0  Improve facilities (e.g. office space, noise l...    0.0   0.0  0.000  \n",
       "1       Provide opportunities for career advancement    0.0   0.0  0.000  \n",
       "2                                    Increase salary    0.0   0.0  1.194  "
      ]
     },
     "metadata": {},
     "output_type": "display_data"
    }
   ],
   "source": [
    "display(full_scores.head(3))\n",
    "display(agreement_scores.head(3))"
   ]
  },
  {
   "cell_type": "markdown",
   "metadata": {},
   "source": [
    "### Overall Emotions"
   ]
  },
  {
   "cell_type": "code",
   "execution_count": 13,
   "metadata": {
    "scrolled": false
   },
   "outputs": [
    {
     "data": {
      "image/png": "[encoded data removed]",
      "text/plain": [
       "<Figure size 432x288 with 1 Axes>"
      ]
     },
     "metadata": {
      "needs_background": "light"
     },
     "output_type": "display_data"
    }
   ],
   "source": [
    "plot_all = src.analysis.emotion_analysis.plot_data(data=full_scores)"
   ]
  },
  {
   "cell_type": "code",
   "execution_count": 17,
   "metadata": {},
   "outputs": [
    {
     "data": {
      "text/plain": [
       "(15209, 8)"
      ]
     },
     "execution_count": 17,
     "metadata": {},
     "output_type": "execute_result"
    }
   ],
   "source": [
    "full_scores.shape"
   ]
  },
  {
   "cell_type": "code",
   "execution_count": 18,
   "metadata": {},
   "outputs": [
    {
     "data": {
      "text/plain": [
       "(15209, 8)"
      ]
     },
     "execution_count": 18,
     "metadata": {},
     "output_type": "execute_result"
    }
   ],
   "source": []
  },
  {
   "cell_type": "code",
   "execution_count": 21,
   "metadata": {
    "scrolled": true
   },
   "outputs": [
    {
     "data": {
      "text/plain": [
       "(30934, 10)"
      ]
     },
     "execution_count": 21,
     "metadata": {},
     "output_type": "execute_result"
    }
   ],
   "source": [
    "agreement_scores.shape"
   ]
  },
  {
   "cell_type": "code",
   "execution_count": 22,
   "metadata": {},
   "outputs": [
    {
     "data": {
      "text/plain": [
       "(19713, 10)"
      ]
     },
     "execution_count": 22,
     "metadata": {},
     "output_type": "execute_result"
    }
   ],
   "source": [
    "src.analysis.emotion_analysis.filter_emotionless_comments(agreement_scores).shape"
   ]
  },
  {
   "cell_type": "code",
   "execution_count": 23,
   "metadata": {},
   "outputs": [
    {
     "data": {
      "text/plain": [
       "11221"
      ]
     },
     "execution_count": 23,
     "metadata": {},
     "output_type": "execute_result"
    }
   ],
   "source": [
    "30934 - 19713"
   ]
  },
  {
   "cell_type": "code",
   "execution_count": 73,
   "metadata": {},
   "outputs": [
    {
     "data": {
      "text/html": [
       "<div>\n",
       "<style scoped>\n",
       "    .dataframe tbody tr th:only-of-type {\n",
       "        vertical-align: middle;\n",
       "    }\n",
       "\n",
       "    .dataframe tbody tr th {\n",
       "        vertical-align: top;\n",
       "    }\n",
       "\n",
       "    .dataframe thead th {\n",
       "        text-align: right;\n",
       "    }\n",
       "</style>\n",
       "<table border=\"1\" class=\"dataframe\">\n",
       "  <thead>\n",
       "    <tr style=\"text-align: right;\">\n",
       "      <th></th>\n",
       "      <th>code</th>\n",
       "      <th>anger</th>\n",
       "      <th>fear</th>\n",
       "      <th>sad</th>\n",
       "    </tr>\n",
       "  </thead>\n",
       "  <tbody>\n",
       "    <tr>\n",
       "      <th>0</th>\n",
       "      <td>12</td>\n",
       "      <td>44.0</td>\n",
       "      <td>54.0</td>\n",
       "      <td>41.0</td>\n",
       "    </tr>\n",
       "    <tr>\n",
       "      <th>1</th>\n",
       "      <td>13</td>\n",
       "      <td>494.0</td>\n",
       "      <td>822.0</td>\n",
       "      <td>578.0</td>\n",
       "    </tr>\n",
       "    <tr>\n",
       "      <th>2</th>\n",
       "      <td>14</td>\n",
       "      <td>70.0</td>\n",
       "      <td>128.0</td>\n",
       "      <td>109.0</td>\n",
       "    </tr>\n",
       "    <tr>\n",
       "      <th>3</th>\n",
       "      <td>21</td>\n",
       "      <td>15.0</td>\n",
       "      <td>48.0</td>\n",
       "      <td>48.0</td>\n",
       "    </tr>\n",
       "    <tr>\n",
       "      <th>4</th>\n",
       "      <td>23</td>\n",
       "      <td>49.0</td>\n",
       "      <td>162.0</td>\n",
       "      <td>133.0</td>\n",
       "    </tr>\n",
       "  </tbody>\n",
       "</table>\n",
       "</div>"
      ],
      "text/plain": [
       "   code  anger   fear    sad\n",
       "0    12   44.0   54.0   41.0\n",
       "1    13  494.0  822.0  578.0\n",
       "2    14   70.0  128.0  109.0\n",
       "3    21   15.0   48.0   48.0\n",
       "4    23   49.0  162.0  133.0"
      ]
     },
     "execution_count": 73,
     "metadata": {},
     "output_type": "execute_result"
    }
   ],
   "source": [
    "aa = one_hot_emotions(agreement_scores, groupby=\"code\", agreement=False)\n",
    "aa.head()"
   ]
  },
  {
   "cell_type": "code",
   "execution_count": 76,
   "metadata": {},
   "outputs": [
    {
     "data": {
      "text/plain": [
       "anger    1583\n",
       "fear     2899\n",
       "sad      2259\n",
       "dtype: int64"
      ]
     },
     "execution_count": 76,
     "metadata": {},
     "output_type": "execute_result"
    }
   ],
   "source": [
    "one_hot_emotions(agreement_scores, groupby=None, agreement=False)"
   ]
  },
  {
   "cell_type": "code",
   "execution_count": 23,
   "metadata": {},
   "outputs": [
    {
     "data": {
      "image/png": "[encoded data removed]",
      "text/plain": [
       "<Figure size 432x288 with 1 Axes>"
      ]
     },
     "metadata": {
      "needs_background": "light"
     },
     "output_type": "display_data"
    }
   ],
   "source": [
    "full = src.analysis.emotion_analysis.create_bar_plot_percent(full_scores)"
   ]
  },
  {
   "cell_type": "code",
   "execution_count": 24,
   "metadata": {},
   "outputs": [],
   "source": [
    "full.savefig(\"./reports/figures/final_pres/full_emotions.png\", dpi=300);"
   ]
  },
  {
   "cell_type": "code",
   "execution_count": 25,
   "metadata": {},
   "outputs": [
    {
     "data": {
      "image/png": "[encoded data removed]",
      "text/plain": [
       "<Figure size 432x288 with 1 Axes>"
      ]
     },
     "metadata": {
      "needs_background": "light"
     },
     "output_type": "display_data"
    }
   ],
   "source": [
    "full_scores.head()\n",
    "sup = full_scores[full_scores[\"theme\"]==\"Supervisors\"]\n",
    "sup_plot = src.analysis.emotion_analysis.create_bar_plot_percent(sup)\n",
    "sup_plot.savefig(\"./reports/figures/final_pres/sup_emotions.png\", dpi=300);"
   ]
  },
  {
   "cell_type": "code",
   "execution_count": null,
   "metadata": {},
   "outputs": [],
   "source": [
    "create_bar_plot_percent(data)"
   ]
  },
  {
   "cell_type": "code",
   "execution_count": 74,
   "metadata": {},
   "outputs": [],
   "source": [
    "a1 = filter_depth(12, \"code\", False, aa)\n",
    "#print(a1)"
   ]
  },
  {
   "cell_type": "code",
   "execution_count": 20,
   "metadata": {},
   "outputs": [
    {
     "data": {
      "text/plain": [
       "sadness    14\n",
       "anger      12\n",
       "dtype: int64"
      ]
     },
     "execution_count": 20,
     "metadata": {},
     "output_type": "execute_result"
    }
   ],
   "source": [
    "a = pd.Series([14,12], index=[\"sad\",\"anger\"])\n",
    "a.rename({\"sad\":\"sadness\"})\n",
    "\n"
   ]
  },
  {
   "cell_type": "code",
   "execution_count": 56,
   "metadata": {},
   "outputs": [
    {
     "data": {
      "image/png": "[encoded data removed]",
      "text/plain": [
       "<Figure size 432x288 with 1 Axes>"
      ]
     },
     "execution_count": 56,
     "metadata": {},
     "output_type": "execute_result"
    },
    {
     "data": {
      "image/png": "[encoded data removed]",
      "text/plain": [
       "<Figure size 432x288 with 1 Axes>"
      ]
     },
     "metadata": {
      "needs_background": "light"
     },
     "output_type": "display_data"
    }
   ],
   "source": [
    "create_bar_plot(agreement=None, data=aa, title=\"hi\")"
   ]
  },
  {
   "cell_type": "code",
   "execution_count": 46,
   "metadata": {},
   "outputs": [
    {
     "data": {
      "text/plain": [
       "anger           1583\n",
       "fear            2899\n",
       "sad             2259\n",
       "emotionless    11221\n",
       "dtype: int64"
      ]
     },
     "execution_count": 46,
     "metadata": {},
     "output_type": "execute_result"
    }
   ],
   "source": [
    "a = pd.Series([11221], index=[\"emotionless\"])\n",
    "\n",
    "aa = aa.append(a)\n",
    "aa"
   ]
  },
  {
   "cell_type": "code",
   "execution_count": 51,
   "metadata": {},
   "outputs": [],
   "source": [
    "aaa = aa/aa.sum()"
   ]
  },
  {
   "cell_type": "code",
   "execution_count": 52,
   "metadata": {},
   "outputs": [
    {
     "data": {
      "text/plain": [
       "<matplotlib.axes._subplots.AxesSubplot at 0x26e330a15c0>"
      ]
     },
     "execution_count": 52,
     "metadata": {},
     "output_type": "execute_result"
    },
    {
     "data": {
      "image/png": "[encoded data removed]",
      "text/plain": [
       "<Figure size 432x288 with 1 Axes>"
      ]
     },
     "metadata": {
      "needs_background": "light"
     },
     "output_type": "display_data"
    }
   ],
   "source": [
    "aaa.plot.bar(rot=0)"
   ]
  },
  {
   "cell_type": "code",
   "execution_count": null,
   "metadata": {},
   "outputs": [],
   "source": [
    "src.analysis.emotion_analysis.create_bar_plot_percent(agreement_scores)"
   ]
  },
  {
   "cell_type": "code",
   "execution_count": null,
   "metadata": {},
   "outputs": [],
   "source": []
  },
  {
   "cell_type": "code",
   "execution_count": null,
   "metadata": {},
   "outputs": [],
   "source": [
    "def emotionless_count():\n",
    "    "
   ]
  },
  {
   "cell_type": "code",
   "execution_count": null,
   "metadata": {},
   "outputs": [],
   "source": []
  },
  {
   "cell_type": "code",
   "execution_count": null,
   "metadata": {},
   "outputs": [],
   "source": []
  },
  {
   "cell_type": "code",
   "execution_count": 40,
   "metadata": {},
   "outputs": [
    {
     "data": {
      "image/png": "[encoded data removed]",
      "text/plain": [
       "<Figure size 432x288 with 1 Axes>"
      ]
     },
     "execution_count": 40,
     "metadata": {},
     "output_type": "execute_result"
    },
    {
     "data": {
      "image/png": "[encoded data removed]",
      "text/plain": [
       "<Figure size 432x288 with 1 Axes>"
      ]
     },
     "metadata": {
      "needs_background": "light"
     },
     "output_type": "display_data"
    }
   ],
   "source": [
    "src.analysis.emotion_analysis.plot_data(data=agreement_scores)"
   ]
  },
  {
   "cell_type": "code",
   "execution_count": null,
   "metadata": {},
   "outputs": [],
   "source": []
  },
  {
   "cell_type": "code",
   "execution_count": null,
   "metadata": {},
   "outputs": [],
   "source": [
    "plot_12 = src.analysis.emotion_analysis.plot_data(data=agreement_scores, \n",
    "                                                  depth=\"subtheme\", \n",
    "                                                  name=12)"
   ]
  },
  {
   "cell_type": "code",
   "execution_count": null,
   "metadata": {},
   "outputs": [],
   "source": [
    "plot_stress = src.analysis.emotion_analysis.plot_data(data=agreement_scores, \n",
    "                                                      depth=\"theme\", \n",
    "                                                      name=\"Stress & Workload\")"
   ]
  },
  {
   "cell_type": "code",
   "execution_count": null,
   "metadata": {},
   "outputs": [],
   "source": [
    "## need to move this to a viz script\n",
    "plot_stress.savefig(\"./reports/figures/final_pres/emotion_stress_workload.png\");\n",
    "\n",
    "plot_all.savefig(\"./reports/figures/final_pres/emotion_all.png\");\n",
    "\n",
    "\n"
   ]
  },
  {
   "cell_type": "code",
   "execution_count": null,
   "metadata": {},
   "outputs": [],
   "source": [
    "top_fear = src.analysis.emotion_analysis.display_top_emotions(full_scores, \"fear\", 5)\n",
    "top_fear"
   ]
  },
  {
   "cell_type": "code",
   "execution_count": null,
   "metadata": {
    "scrolled": false
   },
   "outputs": [],
   "source": [
    "src.analysis.emotion_analysis.examine_emotion_scoring(full_scores, \"fear\", lexicon, 18497)"
   ]
  },
  {
   "cell_type": "code",
   "execution_count": null,
   "metadata": {},
   "outputs": [],
   "source": []
  },
  {
   "cell_type": "code",
   "execution_count": null,
   "metadata": {},
   "outputs": [],
   "source": [
    " src.analysis.emotion_analysis.examine_emotion_scoring(full_scores, \"fear\", lexicon, 10000, normalize=True)"
   ]
  },
  {
   "cell_type": "code",
   "execution_count": null,
   "metadata": {},
   "outputs": [],
   "source": [
    "src.analysis.emotion_analysis.display_top_emotions(full_scores, \"fear\", 5, normalize=True)"
   ]
  },
  {
   "cell_type": "code",
   "execution_count": null,
   "metadata": {
    "scrolled": false
   },
   "outputs": [],
   "source": [
    "src.analysis.emotion_analysis.examine_emotion_scoring(full_scores, \"fear\", lexicon, 18497)"
   ]
  },
  {
   "cell_type": "code",
   "execution_count": null,
   "metadata": {
    "scrolled": true
   },
   "outputs": [],
   "source": [
    "# can easily change description and split into maybe 2 tables? \n",
    "# the 2nd one with a column of emotion name, any emotion, emotion max\n",
    "src.analysis.emotion_analysis.summary(agreement_scores)"
   ]
  },
  {
   "cell_type": "code",
   "execution_count": null,
   "metadata": {},
   "outputs": [],
   "source": [
    "sample = pd.read_excel(\"./data/raw/2018_WES_Qual_Samples.xlsx\", \n",
    "                       usecols=[0, 1, 2, 3, 4, 5, 6], \n",
    "                       names=[\"USERID\", \"text\", \"code1\", \"code2\", \"code3\", \"code4\", \"code5\"])\n",
    "sample.head()\n",
    "\n",
    "\n",
    "sample = src.analysis.emotion_analysis.get_theme_labels(src.analysis.emotion_analysis.format_raw_comments(sample), legend)"
   ]
  },
  {
   "cell_type": "code",
   "execution_count": null,
   "metadata": {},
   "outputs": [],
   "source": [
    "presentation_ex = "
   ]
  },
  {
   "cell_type": "code",
   "execution_count": null,
   "metadata": {},
   "outputs": [],
   "source": [
    "sample_x = src.analysis.emotion_analysis.obtain_emotion_scores(sample, \n",
    "                                                                  lexicon, \n",
    "                                                                  anger=True, \n",
    "                                                                  fear=True, \n",
    "                                                                  sadness=True, \n",
    "                                                                  joy=False)"
   ]
  },
  {
   "cell_type": "code",
   "execution_count": null,
   "metadata": {},
   "outputs": [],
   "source": [
    "src.analysis.emotion_analysis.examine_emotion_scoring(sample_x, \"fear\", lexicon)"
   ]
  },
  {
   "cell_type": "code",
   "execution_count": null,
   "metadata": {},
   "outputs": [],
   "source": [
    "plot_all = src.analysis.emotion_analysis.plot_data(data=sample_x)"
   ]
  },
  {
   "cell_type": "markdown",
   "metadata": {},
   "source": [
    "### Observations from subtheme level analysis\n",
    "\n",
    "- joy is the most common emotion for all subthemes and agreement levels \n",
    "  - this seems to be due to the only words in the comment being happy\n",
    "      - might be worth aggregating all of the sentences together and then doing the comparison\n",
    "  - the other main reseson is the words are just with a negative context and since this is only matching words it doesn't understand the meaning\n",
    "      - might be worth removing joy all together because it doesn't really match well\n",
    "      \n",
    "- a good set of the comments match to the emotion\n",
    "    - Could manually score a small set of them to get an \"accuracy\" score\n",
    "    - bit of weirdness due to context, government is one of the words in the lexicon and it is being used as a name compared to an emotion. Same with words like leave since it relates to time off not leaving often\n",
    "\n",
    "- there are over 5000 comments that have no related emotion\n",
    "\n",
    "- this seems counterintuitive\n",
    "- subtheme 35, 82, 105\n",
    "  - anger as dominant as joy in no agreement \n",
    "  - not since I made the adjustment to remove the emotionless comments\n",
    "- subtheme 42, 101\n",
    "  - fear is dominant as fear in strong agreement \n",
    "  "
   ]
  },
  {
   "cell_type": "code",
   "execution_count": null,
   "metadata": {
    "scrolled": false
   },
   "outputs": [],
   "source": [
    "themes = full_scores[\"theme\"].unique()\n",
    "\n",
    "for theme in themes:\n",
    "    src.analysis.emotion_analysis.plot_data(data=full_scores, \n",
    "                                                      depth=\"theme\", \n",
    "                                                      name=theme)"
   ]
  },
  {
   "cell_type": "code",
   "execution_count": null,
   "metadata": {
    "scrolled": true
   },
   "outputs": [],
   "source": [
    "themes = full_scores[\"code\"].unique()\n",
    "\n",
    "for theme in themes:\n",
    "    src.analysis.emotion_analysis.plot_data(data=full_scores, \n",
    "                                                      depth=\"subtheme\", \n",
    "                                                      name=theme)"
   ]
  },
  {
   "cell_type": "code",
   "execution_count": null,
   "metadata": {},
   "outputs": [],
   "source": [
    "benefits_all = src.analysis.emotion_analysis.plot_data(data=agreement_scores, \n",
    "                                                      depth=\"subtheme\", \n",
    "                                                      name=24,\n",
    "                                           agreement=\"all\")\n",
    "type(benefits_all)"
   ]
  },
  {
   "cell_type": "code",
   "execution_count": null,
   "metadata": {},
   "outputs": [],
   "source": []
  },
  {
   "cell_type": "code",
   "execution_count": null,
   "metadata": {},
   "outputs": [],
   "source": [
    "benefits_all.savefig(\"./reports/figures/final_pres/benefits_all.png\");"
   ]
  },
  {
   "cell_type": "code",
   "execution_count": null,
   "metadata": {},
   "outputs": [],
   "source": [
    "supervisor = src.analysis.emotion_analysis.plot_data(data=full_scores, \n",
    "                                                      depth=\"theme\", \n",
    "                                                      name=\"Supervisors\")"
   ]
  }
 ],
 "metadata": {
  "kernelspec": {
   "display_name": "Python 3",
   "language": "python",
   "name": "python3"
  },
  "language_info": {
   "codemirror_mode": {
    "name": "ipython",
    "version": 3
   },
   "file_extension": ".py",
   "mimetype": "text/x-python",
   "name": "python",
   "nbconvert_exporter": "python",
   "pygments_lexer": "ipython3",
   "version": "3.7.1"
  }
 },
 "nbformat": 4,
 "nbformat_minor": 2
}
