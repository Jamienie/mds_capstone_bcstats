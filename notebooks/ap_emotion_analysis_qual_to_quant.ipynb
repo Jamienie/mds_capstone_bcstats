{
 "cells": [
  {
   "cell_type": "markdown",
   "metadata": {},
   "source": [
    "# Emotion Analysis by Subtheme per Agreement level\n",
    "\n",
    "This notebook shows the emotion of a comment. Comments can be viewed individually as well aggregated to the subtheme and theme level. The comments can have the emotions: anger, fear, and sadness.\n",
    "\n",
    "To determine the emotion of a comment the lexicon NRC Affect Intensity Lexicon v0.5 (Saif M. Mohammad) was used. This lexicon consists of words with a score from 0 to 1 associated with an emotion where the higher the scores indicates the word is more strongly associated with that emotion. To get the overall emotion of the comment the scores from each word are summed and the emotion with the highest score is associated with the comment.  To be able to compare the scores from one comment to another to determine the angriest, saddest and most fearful comments the scores were divided by the **total number of words**. \n",
    "\n",
    "The lexicon does contain joy as an emotion but joy was left out of this analysis since the comments should be predominately negative and we are trying to determine the negative emotion driving these comments. Joy was included at first but removed as it was found to be the most common emotion due to the words associated with joy are more common but they are predominately being used with a negative connotation like this example where \"good\" is the associated joy word but it was being used as \"not good\". Since this only looks at matching words it does not pick up on how the word is used. When examples of anger, fear and sadness were looked at the words were being used in the appropriate manner for this analysis. \n",
    "\n",
    "### Instructions for use\n",
    "\n",
    "This notebook can be used to look at different emotions, comments, subthemes and themes. Change the parameters of the functions to look at different examples. \n"
   ]
  },
  {
   "cell_type": "code",
   "execution_count": 1,
   "metadata": {},
   "outputs": [],
   "source": [
    "# Required packages\n",
    "import pandas as pd\n",
    "import numpy as np\n",
    "import time\n",
    "\n",
    "import spacy\n",
    "# Load English model for SpaCy\n",
    "nlp = spacy.load('en_core_web_sm')"
   ]
  },
  {
   "cell_type": "code",
   "execution_count": 3,
   "metadata": {},
   "outputs": [
    {
     "data": {
      "text/plain": [
       "'C:\\\\Users\\\\payla\\\\Documents\\\\MDS\\\\Capstone\\\\DSCI_591_capstone-BCStats'"
      ]
     },
     "execution_count": 3,
     "metadata": {},
     "output_type": "execute_result"
    }
   ],
   "source": [
    "# Change working directory to be project root, by removing the # and running `os.chdir(\"..\")` once then comment out.\n",
    "import os\n",
    "#os.chdir(\"..\")\n",
    "os.getcwd()"
   ]
  },
  {
   "cell_type": "code",
   "execution_count": 43,
   "metadata": {},
   "outputs": [
    {
     "name": "stdout",
     "output_type": "stream",
     "text": [
      "The autoreload extension is already loaded. To reload it, use:\n",
      "  %reload_ext autoreload\n"
     ]
    }
   ],
   "source": [
    "# remove once notebook is finished\n",
    "# ensure packages reload after every change \n",
    "\n",
    "%load_ext autoreload\n",
    "%autoreload 2\n",
    "import src\n",
    "\n",
    "from src.emotion_analysis import *"
   ]
  },
  {
   "cell_type": "markdown",
   "metadata": {},
   "source": [
    "## Load Data and Lexicon"
   ]
  },
  {
   "cell_type": "code",
   "execution_count": 5,
   "metadata": {
    "scrolled": false
   },
   "outputs": [],
   "source": [
    "# read in all the comments\n",
    "data_full = pd.read_excel(io=\"./data/raw/2018 WES Qual Coded - Final Comments and Codes.xlsx\", \n",
    "                         sheet_name=\"Comments\", \n",
    "                         usecols=[0, 1, 2, 3, 4, 5, 6], \n",
    "                         names=[\"USERID\", \"text\", \"code1\", \"code2\", \"code3\", \"code4\", \"code5\"])\n",
    "\n",
    "#desensitized_qualitative-data2018.csv \n",
    "\n",
    "# read agreement data\n",
    "data_agreement = pd.read_csv(\".\\data\\interim\\joined_qual_quant.csv\",\n",
    "                            usecols=[0, 1, 5, 6])\n",
    "\n",
    "# load lexicon\n",
    "lexicon = pd.read_csv(\"http://saifmohammad.com/WebDocs/NRC-AffectIntensity-Lexicon.txt\", \n",
    "                      sep=\"\\t\", \n",
    "                      skiprows=35) \n",
    "# read in data legend\n",
    "legend = pd.read_csv(\"./references/data-dictionaries/theme_subtheme_names.csv\")"
   ]
  },
  {
   "cell_type": "code",
   "execution_count": 6,
   "metadata": {},
   "outputs": [
    {
     "data": {
      "text/html": [
       "<div>\n",
       "<style scoped>\n",
       "    .dataframe tbody tr th:only-of-type {\n",
       "        vertical-align: middle;\n",
       "    }\n",
       "\n",
       "    .dataframe tbody tr th {\n",
       "        vertical-align: top;\n",
       "    }\n",
       "\n",
       "    .dataframe thead th {\n",
       "        text-align: right;\n",
       "    }\n",
       "</style>\n",
       "<table border=\"1\" class=\"dataframe\">\n",
       "  <thead>\n",
       "    <tr style=\"text-align: right;\">\n",
       "      <th></th>\n",
       "      <th>USERID</th>\n",
       "      <th>text</th>\n",
       "      <th>code1</th>\n",
       "      <th>code2</th>\n",
       "      <th>code3</th>\n",
       "      <th>code4</th>\n",
       "      <th>code5</th>\n",
       "    </tr>\n",
       "  </thead>\n",
       "  <tbody>\n",
       "    <tr>\n",
       "      <th>0</th>\n",
       "      <td>192723-544650</td>\n",
       "      <td>I would suggest having a developmental growth ...</td>\n",
       "      <td>62</td>\n",
       "      <td>13</td>\n",
       "      <td>NaN</td>\n",
       "      <td>NaN</td>\n",
       "      <td>NaN</td>\n",
       "    </tr>\n",
       "    <tr>\n",
       "      <th>1</th>\n",
       "      <td>188281-540434</td>\n",
       "      <td>Base decisions regarding fish and wildlife on ...</td>\n",
       "      <td>116</td>\n",
       "      <td>NaN</td>\n",
       "      <td>NaN</td>\n",
       "      <td>NaN</td>\n",
       "      <td>NaN</td>\n",
       "    </tr>\n",
       "    <tr>\n",
       "      <th>2</th>\n",
       "      <td>175125-215928</td>\n",
       "      <td>The problem with the BCSS is Linda Cavanaugh a...</td>\n",
       "      <td>43</td>\n",
       "      <td>72</td>\n",
       "      <td>NaN</td>\n",
       "      <td>NaN</td>\n",
       "      <td>NaN</td>\n",
       "    </tr>\n",
       "  </tbody>\n",
       "</table>\n",
       "</div>"
      ],
      "text/plain": [
       "          USERID                                               text  code1  \\\n",
       "0  192723-544650  I would suggest having a developmental growth ...     62   \n",
       "1  188281-540434  Base decisions regarding fish and wildlife on ...    116   \n",
       "2  175125-215928  The problem with the BCSS is Linda Cavanaugh a...     43   \n",
       "\n",
       "  code2 code3 code4 code5  \n",
       "0    13   NaN   NaN   NaN  \n",
       "1   NaN   NaN   NaN   NaN  \n",
       "2    72   NaN   NaN   NaN  "
      ]
     },
     "metadata": {},
     "output_type": "display_data"
    },
    {
     "data": {
      "text/html": [
       "<div>\n",
       "<style scoped>\n",
       "    .dataframe tbody tr th:only-of-type {\n",
       "        vertical-align: middle;\n",
       "    }\n",
       "\n",
       "    .dataframe tbody tr th {\n",
       "        vertical-align: top;\n",
       "    }\n",
       "\n",
       "    .dataframe thead th {\n",
       "        text-align: right;\n",
       "    }\n",
       "</style>\n",
       "<table border=\"1\" class=\"dataframe\">\n",
       "  <thead>\n",
       "    <tr style=\"text-align: right;\">\n",
       "      <th></th>\n",
       "      <th>USERID</th>\n",
       "      <th>code</th>\n",
       "      <th>diff</th>\n",
       "      <th>text</th>\n",
       "    </tr>\n",
       "  </thead>\n",
       "  <tbody>\n",
       "    <tr>\n",
       "      <th>0</th>\n",
       "      <td>175125-215928</td>\n",
       "      <td>43</td>\n",
       "      <td>0</td>\n",
       "      <td>The problem with the BCSS is Linda Cavanaugh a...</td>\n",
       "    </tr>\n",
       "    <tr>\n",
       "      <th>1</th>\n",
       "      <td>175125-215928</td>\n",
       "      <td>43</td>\n",
       "      <td>0</td>\n",
       "      <td>The problem with the BCSS is Linda Cavanaugh a...</td>\n",
       "    </tr>\n",
       "    <tr>\n",
       "      <th>2</th>\n",
       "      <td>191202-862188</td>\n",
       "      <td>102</td>\n",
       "      <td>0</td>\n",
       "      <td>Improved office space (fix HVAC, etc) but NO LWS</td>\n",
       "    </tr>\n",
       "  </tbody>\n",
       "</table>\n",
       "</div>"
      ],
      "text/plain": [
       "          USERID  code  diff  \\\n",
       "0  175125-215928    43     0   \n",
       "1  175125-215928    43     0   \n",
       "2  191202-862188   102     0   \n",
       "\n",
       "                                                text  \n",
       "0  The problem with the BCSS is Linda Cavanaugh a...  \n",
       "1  The problem with the BCSS is Linda Cavanaugh a...  \n",
       "2   Improved office space (fix HVAC, etc) but NO LWS  "
      ]
     },
     "metadata": {},
     "output_type": "display_data"
    },
    {
     "data": {
      "text/html": [
       "<div>\n",
       "<style scoped>\n",
       "    .dataframe tbody tr th:only-of-type {\n",
       "        vertical-align: middle;\n",
       "    }\n",
       "\n",
       "    .dataframe tbody tr th {\n",
       "        vertical-align: top;\n",
       "    }\n",
       "\n",
       "    .dataframe thead th {\n",
       "        text-align: right;\n",
       "    }\n",
       "</style>\n",
       "<table border=\"1\" class=\"dataframe\">\n",
       "  <thead>\n",
       "    <tr style=\"text-align: right;\">\n",
       "      <th></th>\n",
       "      <th>term</th>\n",
       "      <th>score</th>\n",
       "      <th>AffectDimension</th>\n",
       "    </tr>\n",
       "  </thead>\n",
       "  <tbody>\n",
       "    <tr>\n",
       "      <th>0</th>\n",
       "      <td>outraged</td>\n",
       "      <td>0.964</td>\n",
       "      <td>anger</td>\n",
       "    </tr>\n",
       "    <tr>\n",
       "      <th>1</th>\n",
       "      <td>brutality</td>\n",
       "      <td>0.959</td>\n",
       "      <td>anger</td>\n",
       "    </tr>\n",
       "    <tr>\n",
       "      <th>2</th>\n",
       "      <td>hatred</td>\n",
       "      <td>0.953</td>\n",
       "      <td>anger</td>\n",
       "    </tr>\n",
       "  </tbody>\n",
       "</table>\n",
       "</div>"
      ],
      "text/plain": [
       "        term  score AffectDimension\n",
       "0   outraged  0.964           anger\n",
       "1  brutality  0.959           anger\n",
       "2     hatred  0.953           anger"
      ]
     },
     "metadata": {},
     "output_type": "display_data"
    },
    {
     "data": {
      "text/html": [
       "<div>\n",
       "<style scoped>\n",
       "    .dataframe tbody tr th:only-of-type {\n",
       "        vertical-align: middle;\n",
       "    }\n",
       "\n",
       "    .dataframe tbody tr th {\n",
       "        vertical-align: top;\n",
       "    }\n",
       "\n",
       "    .dataframe thead th {\n",
       "        text-align: right;\n",
       "    }\n",
       "</style>\n",
       "<table border=\"1\" class=\"dataframe\">\n",
       "  <thead>\n",
       "    <tr style=\"text-align: right;\">\n",
       "      <th></th>\n",
       "      <th>theme</th>\n",
       "      <th>code</th>\n",
       "      <th>subtheme_description</th>\n",
       "    </tr>\n",
       "  </thead>\n",
       "  <tbody>\n",
       "    <tr>\n",
       "      <th>0</th>\n",
       "      <td>Career &amp; Personal Development</td>\n",
       "      <td>11</td>\n",
       "      <td>Improve new employee orientation</td>\n",
       "    </tr>\n",
       "    <tr>\n",
       "      <th>1</th>\n",
       "      <td>Career &amp; Personal Development</td>\n",
       "      <td>12</td>\n",
       "      <td>Improve performance management process</td>\n",
       "    </tr>\n",
       "    <tr>\n",
       "      <th>2</th>\n",
       "      <td>Career &amp; Personal Development</td>\n",
       "      <td>13</td>\n",
       "      <td>Improve training and development opportunities</td>\n",
       "    </tr>\n",
       "  </tbody>\n",
       "</table>\n",
       "</div>"
      ],
      "text/plain": [
       "                           theme  code  \\\n",
       "0  Career & Personal Development    11   \n",
       "1  Career & Personal Development    12   \n",
       "2  Career & Personal Development    13   \n",
       "\n",
       "                             subtheme_description  \n",
       "0                Improve new employee orientation  \n",
       "1          Improve performance management process  \n",
       "2  Improve training and development opportunities  "
      ]
     },
     "metadata": {},
     "output_type": "display_data"
    }
   ],
   "source": [
    "display(data_full.head(3))\n",
    "display(data_agreement.head(3))\n",
    "display(lexicon.head(3))\n",
    "display(legend.head(3))"
   ]
  },
  {
   "cell_type": "markdown",
   "metadata": {},
   "source": [
    "## Add Process Full Comment data and Add Themes Names"
   ]
  },
  {
   "cell_type": "code",
   "execution_count": 7,
   "metadata": {},
   "outputs": [],
   "source": [
    "data_full = src.emotion_analysis.format_raw_comments(data_full)"
   ]
  },
  {
   "cell_type": "code",
   "execution_count": 8,
   "metadata": {},
   "outputs": [],
   "source": [
    "data_full = src.emotion_analysis.get_theme_labels(data_full, legend)\n",
    "data_agreement = src.emotion_analysis.get_theme_labels(data_agreement, legend)"
   ]
  },
  {
   "cell_type": "code",
   "execution_count": 9,
   "metadata": {},
   "outputs": [
    {
     "data": {
      "text/html": [
       "<div>\n",
       "<style scoped>\n",
       "    .dataframe tbody tr th:only-of-type {\n",
       "        vertical-align: middle;\n",
       "    }\n",
       "\n",
       "    .dataframe tbody tr th {\n",
       "        vertical-align: top;\n",
       "    }\n",
       "\n",
       "    .dataframe thead th {\n",
       "        text-align: right;\n",
       "    }\n",
       "</style>\n",
       "<table border=\"1\" class=\"dataframe\">\n",
       "  <thead>\n",
       "    <tr style=\"text-align: right;\">\n",
       "      <th></th>\n",
       "      <th>USERID</th>\n",
       "      <th>code</th>\n",
       "      <th>text</th>\n",
       "      <th>theme</th>\n",
       "      <th>subtheme_description</th>\n",
       "    </tr>\n",
       "  </thead>\n",
       "  <tbody>\n",
       "    <tr>\n",
       "      <th>0</th>\n",
       "      <td>192723-544650</td>\n",
       "      <td>62</td>\n",
       "      <td>I would suggest having a developmental growth ...</td>\n",
       "      <td>Staffing Practices</td>\n",
       "      <td>Focus on Human Resources planning (recruitment...</td>\n",
       "    </tr>\n",
       "    <tr>\n",
       "      <th>1</th>\n",
       "      <td>188281-540434</td>\n",
       "      <td>116</td>\n",
       "      <td>Base decisions regarding fish and wildlife on ...</td>\n",
       "      <td>Vision, Mission &amp; Goals</td>\n",
       "      <td>Reduce political influence</td>\n",
       "    </tr>\n",
       "    <tr>\n",
       "      <th>2</th>\n",
       "      <td>175125-215928</td>\n",
       "      <td>43</td>\n",
       "      <td>The problem with the BCSS is Linda Cavanaugh a...</td>\n",
       "      <td>Executives</td>\n",
       "      <td>Strengthen quality of executive leadership</td>\n",
       "    </tr>\n",
       "  </tbody>\n",
       "</table>\n",
       "</div>"
      ],
      "text/plain": [
       "          USERID  code                                               text  \\\n",
       "0  192723-544650    62  I would suggest having a developmental growth ...   \n",
       "1  188281-540434   116  Base decisions regarding fish and wildlife on ...   \n",
       "2  175125-215928    43  The problem with the BCSS is Linda Cavanaugh a...   \n",
       "\n",
       "                     theme                               subtheme_description  \n",
       "0       Staffing Practices  Focus on Human Resources planning (recruitment...  \n",
       "1  Vision, Mission & Goals                         Reduce political influence  \n",
       "2               Executives         Strengthen quality of executive leadership  "
      ]
     },
     "metadata": {},
     "output_type": "display_data"
    },
    {
     "data": {
      "text/html": [
       "<div>\n",
       "<style scoped>\n",
       "    .dataframe tbody tr th:only-of-type {\n",
       "        vertical-align: middle;\n",
       "    }\n",
       "\n",
       "    .dataframe tbody tr th {\n",
       "        vertical-align: top;\n",
       "    }\n",
       "\n",
       "    .dataframe thead th {\n",
       "        text-align: right;\n",
       "    }\n",
       "</style>\n",
       "<table border=\"1\" class=\"dataframe\">\n",
       "  <thead>\n",
       "    <tr style=\"text-align: right;\">\n",
       "      <th></th>\n",
       "      <th>USERID</th>\n",
       "      <th>code</th>\n",
       "      <th>diff</th>\n",
       "      <th>text</th>\n",
       "      <th>theme</th>\n",
       "      <th>subtheme_description</th>\n",
       "    </tr>\n",
       "  </thead>\n",
       "  <tbody>\n",
       "    <tr>\n",
       "      <th>0</th>\n",
       "      <td>175125-215928</td>\n",
       "      <td>43</td>\n",
       "      <td>0</td>\n",
       "      <td>The problem with the BCSS is Linda Cavanaugh a...</td>\n",
       "      <td>Executives</td>\n",
       "      <td>Strengthen quality of executive leadership</td>\n",
       "    </tr>\n",
       "    <tr>\n",
       "      <th>1</th>\n",
       "      <td>175125-215928</td>\n",
       "      <td>43</td>\n",
       "      <td>0</td>\n",
       "      <td>The problem with the BCSS is Linda Cavanaugh a...</td>\n",
       "      <td>Executives</td>\n",
       "      <td>Strengthen quality of executive leadership</td>\n",
       "    </tr>\n",
       "    <tr>\n",
       "      <th>2</th>\n",
       "      <td>191202-862188</td>\n",
       "      <td>102</td>\n",
       "      <td>0</td>\n",
       "      <td>Improved office space (fix HVAC, etc) but NO LWS</td>\n",
       "      <td>Tools, Equipment &amp; Physical Environment</td>\n",
       "      <td>Improve facilities (e.g. office space, noise l...</td>\n",
       "    </tr>\n",
       "  </tbody>\n",
       "</table>\n",
       "</div>"
      ],
      "text/plain": [
       "          USERID  code  diff  \\\n",
       "0  175125-215928    43     0   \n",
       "1  175125-215928    43     0   \n",
       "2  191202-862188   102     0   \n",
       "\n",
       "                                                text  \\\n",
       "0  The problem with the BCSS is Linda Cavanaugh a...   \n",
       "1  The problem with the BCSS is Linda Cavanaugh a...   \n",
       "2   Improved office space (fix HVAC, etc) but NO LWS   \n",
       "\n",
       "                                     theme  \\\n",
       "0                               Executives   \n",
       "1                               Executives   \n",
       "2  Tools, Equipment & Physical Environment   \n",
       "\n",
       "                                subtheme_description  \n",
       "0         Strengthen quality of executive leadership  \n",
       "1         Strengthen quality of executive leadership  \n",
       "2  Improve facilities (e.g. office space, noise l...  "
      ]
     },
     "metadata": {},
     "output_type": "display_data"
    }
   ],
   "source": [
    "display(data_full.head(3))\n",
    "display(data_agreement.head(3))"
   ]
  },
  {
   "cell_type": "markdown",
   "metadata": {},
   "source": [
    "## Obtain Emotion Scores for Each Comment"
   ]
  },
  {
   "cell_type": "code",
   "execution_count": 10,
   "metadata": {
    "scrolled": true
   },
   "outputs": [
    {
     "name": "stdout",
     "output_type": "stream",
     "text": [
      "7.686938671271006 mins\n"
     ]
    }
   ],
   "source": [
    "start = time.time()\n",
    "full_scores = src.emotion_analysis.obtain_emotion_scores(data_full, lexicon, anger=True, fear=True, sadness=True, joy=False)\n",
    "end = time.time()\n",
    "print((end - start) / 60, \"mins\")"
   ]
  },
  {
   "cell_type": "code",
   "execution_count": 11,
   "metadata": {},
   "outputs": [
    {
     "name": "stdout",
     "output_type": "stream",
     "text": [
      "10.365944921970367 mins\n"
     ]
    }
   ],
   "source": [
    "start = time.time()\n",
    "agreement_scores = src.emotion_analysis.obtain_emotion_scores(data_agreement, \n",
    "                                                              lexicon, \n",
    "                                                              anger=True, fear=True, sadness=True, joy=False)\n",
    "end = time.time()\n",
    "print((end - start) / 60, \"mins\")"
   ]
  },
  {
   "cell_type": "code",
   "execution_count": 12,
   "metadata": {},
   "outputs": [
    {
     "data": {
      "text/html": [
       "<div>\n",
       "<style scoped>\n",
       "    .dataframe tbody tr th:only-of-type {\n",
       "        vertical-align: middle;\n",
       "    }\n",
       "\n",
       "    .dataframe tbody tr th {\n",
       "        vertical-align: top;\n",
       "    }\n",
       "\n",
       "    .dataframe thead th {\n",
       "        text-align: right;\n",
       "    }\n",
       "</style>\n",
       "<table border=\"1\" class=\"dataframe\">\n",
       "  <thead>\n",
       "    <tr style=\"text-align: right;\">\n",
       "      <th></th>\n",
       "      <th>USERID</th>\n",
       "      <th>code</th>\n",
       "      <th>text</th>\n",
       "      <th>theme</th>\n",
       "      <th>subtheme_description</th>\n",
       "      <th>anger</th>\n",
       "      <th>fear</th>\n",
       "      <th>sad</th>\n",
       "    </tr>\n",
       "  </thead>\n",
       "  <tbody>\n",
       "    <tr>\n",
       "      <th>0</th>\n",
       "      <td>192723-544650</td>\n",
       "      <td>62</td>\n",
       "      <td>i would suggest having a developmental growth ...</td>\n",
       "      <td>Staffing Practices</td>\n",
       "      <td>Focus on Human Resources planning (recruitment...</td>\n",
       "      <td>0.000</td>\n",
       "      <td>0.000</td>\n",
       "      <td>0.000</td>\n",
       "    </tr>\n",
       "    <tr>\n",
       "      <th>1</th>\n",
       "      <td>188281-540434</td>\n",
       "      <td>116</td>\n",
       "      <td>base decisions regarding fish and wildlife on ...</td>\n",
       "      <td>Vision, Mission &amp; Goals</td>\n",
       "      <td>Reduce political influence</td>\n",
       "      <td>0.000</td>\n",
       "      <td>0.000</td>\n",
       "      <td>0.000</td>\n",
       "    </tr>\n",
       "    <tr>\n",
       "      <th>2</th>\n",
       "      <td>175125-215928</td>\n",
       "      <td>43</td>\n",
       "      <td>the problem with the bcss is linda cavanaugh a...</td>\n",
       "      <td>Executives</td>\n",
       "      <td>Strengthen quality of executive leadership</td>\n",
       "      <td>1.851</td>\n",
       "      <td>2.478</td>\n",
       "      <td>2.578</td>\n",
       "    </tr>\n",
       "  </tbody>\n",
       "</table>\n",
       "</div>"
      ],
      "text/plain": [
       "          USERID  code                                               text  \\\n",
       "0  192723-544650    62  i would suggest having a developmental growth ...   \n",
       "1  188281-540434   116  base decisions regarding fish and wildlife on ...   \n",
       "2  175125-215928    43  the problem with the bcss is linda cavanaugh a...   \n",
       "\n",
       "                     theme                               subtheme_description  \\\n",
       "0       Staffing Practices  Focus on Human Resources planning (recruitment...   \n",
       "1  Vision, Mission & Goals                         Reduce political influence   \n",
       "2               Executives         Strengthen quality of executive leadership   \n",
       "\n",
       "   anger   fear    sad  \n",
       "0  0.000  0.000  0.000  \n",
       "1  0.000  0.000  0.000  \n",
       "2  1.851  2.478  2.578  "
      ]
     },
     "metadata": {},
     "output_type": "display_data"
    },
    {
     "data": {
      "text/html": [
       "<div>\n",
       "<style scoped>\n",
       "    .dataframe tbody tr th:only-of-type {\n",
       "        vertical-align: middle;\n",
       "    }\n",
       "\n",
       "    .dataframe tbody tr th {\n",
       "        vertical-align: top;\n",
       "    }\n",
       "\n",
       "    .dataframe thead th {\n",
       "        text-align: right;\n",
       "    }\n",
       "</style>\n",
       "<table border=\"1\" class=\"dataframe\">\n",
       "  <thead>\n",
       "    <tr style=\"text-align: right;\">\n",
       "      <th></th>\n",
       "      <th>USERID</th>\n",
       "      <th>code</th>\n",
       "      <th>diff</th>\n",
       "      <th>text</th>\n",
       "      <th>theme</th>\n",
       "      <th>subtheme_description</th>\n",
       "      <th>anger</th>\n",
       "      <th>fear</th>\n",
       "      <th>sad</th>\n",
       "    </tr>\n",
       "  </thead>\n",
       "  <tbody>\n",
       "    <tr>\n",
       "      <th>0</th>\n",
       "      <td>175125-215928</td>\n",
       "      <td>43</td>\n",
       "      <td>0</td>\n",
       "      <td>the problem with the bcss is linda cavanaugh a...</td>\n",
       "      <td>Executives</td>\n",
       "      <td>Strengthen quality of executive leadership</td>\n",
       "      <td>1.851</td>\n",
       "      <td>2.478</td>\n",
       "      <td>2.578</td>\n",
       "    </tr>\n",
       "    <tr>\n",
       "      <th>1</th>\n",
       "      <td>175125-215928</td>\n",
       "      <td>43</td>\n",
       "      <td>0</td>\n",
       "      <td>the problem with the bcss is linda cavanaugh a...</td>\n",
       "      <td>Executives</td>\n",
       "      <td>Strengthen quality of executive leadership</td>\n",
       "      <td>1.851</td>\n",
       "      <td>2.478</td>\n",
       "      <td>2.578</td>\n",
       "    </tr>\n",
       "    <tr>\n",
       "      <th>2</th>\n",
       "      <td>191202-862188</td>\n",
       "      <td>102</td>\n",
       "      <td>0</td>\n",
       "      <td>improved office space (fix hvac, etc) but no lws</td>\n",
       "      <td>Tools, Equipment &amp; Physical Environment</td>\n",
       "      <td>Improve facilities (e.g. office space, noise l...</td>\n",
       "      <td>0.000</td>\n",
       "      <td>0.000</td>\n",
       "      <td>0.000</td>\n",
       "    </tr>\n",
       "  </tbody>\n",
       "</table>\n",
       "</div>"
      ],
      "text/plain": [
       "          USERID  code  diff  \\\n",
       "0  175125-215928    43     0   \n",
       "1  175125-215928    43     0   \n",
       "2  191202-862188   102     0   \n",
       "\n",
       "                                                text  \\\n",
       "0  the problem with the bcss is linda cavanaugh a...   \n",
       "1  the problem with the bcss is linda cavanaugh a...   \n",
       "2   improved office space (fix hvac, etc) but no lws   \n",
       "\n",
       "                                     theme  \\\n",
       "0                               Executives   \n",
       "1                               Executives   \n",
       "2  Tools, Equipment & Physical Environment   \n",
       "\n",
       "                                subtheme_description  anger   fear    sad  \n",
       "0         Strengthen quality of executive leadership  1.851  2.478  2.578  \n",
       "1         Strengthen quality of executive leadership  1.851  2.478  2.578  \n",
       "2  Improve facilities (e.g. office space, noise l...  0.000  0.000  0.000  "
      ]
     },
     "metadata": {},
     "output_type": "display_data"
    }
   ],
   "source": [
    "display(full_scores.head(3))\n",
    "display(agreement_scores.head(3))"
   ]
  },
  {
   "cell_type": "markdown",
   "metadata": {},
   "source": [
    "### View plots"
   ]
  },
  {
   "cell_type": "code",
   "execution_count": 54,
   "metadata": {
    "scrolled": false
   },
   "outputs": [
    {
     "data": {
      "image/png": "[encoded data removed]",
      "text/plain": [
       "<Figure size 432x288 with 1 Axes>"
      ]
     },
     "metadata": {
      "needs_background": "light"
     },
     "output_type": "display_data"
    }
   ],
   "source": [
    "src.emotion_analysis.plot_data(data=full_scores)"
   ]
  },
  {
   "cell_type": "markdown",
   "metadata": {},
   "source": [
    "## Regularization\n",
    "\n",
    "- plan is to divide the summed scores by the total number of words in the comment"
   ]
  },
  {
   "cell_type": "code",
   "execution_count": 123,
   "metadata": {},
   "outputs": [
    {
     "data": {
      "text/html": [
       "<div>\n",
       "<style scoped>\n",
       "    .dataframe tbody tr th:only-of-type {\n",
       "        vertical-align: middle;\n",
       "    }\n",
       "\n",
       "    .dataframe tbody tr th {\n",
       "        vertical-align: top;\n",
       "    }\n",
       "\n",
       "    .dataframe thead th {\n",
       "        text-align: right;\n",
       "    }\n",
       "</style>\n",
       "<table border=\"1\" class=\"dataframe\">\n",
       "  <thead>\n",
       "    <tr style=\"text-align: right;\">\n",
       "      <th></th>\n",
       "      <th>USERID</th>\n",
       "      <th>code</th>\n",
       "      <th>text</th>\n",
       "      <th>theme</th>\n",
       "      <th>subtheme_description</th>\n",
       "      <th>anger</th>\n",
       "      <th>fear</th>\n",
       "      <th>sad</th>\n",
       "    </tr>\n",
       "  </thead>\n",
       "  <tbody>\n",
       "    <tr>\n",
       "      <th>2</th>\n",
       "      <td>175125-215928</td>\n",
       "      <td>43</td>\n",
       "      <td>the problem with the bcss is linda cavanaugh a...</td>\n",
       "      <td>Executives</td>\n",
       "      <td>Strengthen quality of executive leadership</td>\n",
       "      <td>1.851</td>\n",
       "      <td>2.478</td>\n",
       "      <td>2.578</td>\n",
       "    </tr>\n",
       "    <tr>\n",
       "      <th>5</th>\n",
       "      <td>189787-166634</td>\n",
       "      <td>114</td>\n",
       "      <td>upgrading accessibility for deaf and hard of h...</td>\n",
       "      <td>Vision, Mission &amp; Goals</td>\n",
       "      <td>Pay attention to the public interest and servi...</td>\n",
       "      <td>0.000</td>\n",
       "      <td>0.156</td>\n",
       "      <td>0.000</td>\n",
       "    </tr>\n",
       "    <tr>\n",
       "      <th>7</th>\n",
       "      <td>185914-180608</td>\n",
       "      <td>24</td>\n",
       "      <td>we are the lowest paid in canada with a worklo...</td>\n",
       "      <td>Compensation &amp; Benefits</td>\n",
       "      <td>Increase salary</td>\n",
       "      <td>0.000</td>\n",
       "      <td>0.000</td>\n",
       "      <td>1.194</td>\n",
       "    </tr>\n",
       "  </tbody>\n",
       "</table>\n",
       "</div>"
      ],
      "text/plain": [
       "          USERID  code                                               text  \\\n",
       "2  175125-215928    43  the problem with the bcss is linda cavanaugh a...   \n",
       "5  189787-166634   114  upgrading accessibility for deaf and hard of h...   \n",
       "7  185914-180608    24  we are the lowest paid in canada with a worklo...   \n",
       "\n",
       "                     theme                               subtheme_description  \\\n",
       "2               Executives         Strengthen quality of executive leadership   \n",
       "5  Vision, Mission & Goals  Pay attention to the public interest and servi...   \n",
       "7  Compensation & Benefits                                    Increase salary   \n",
       "\n",
       "   anger   fear    sad  \n",
       "2  1.851  2.478  2.578  \n",
       "5  0.000  0.156  0.000  \n",
       "7  0.000  0.000  1.194  "
      ]
     },
     "execution_count": 123,
     "metadata": {},
     "output_type": "execute_result"
    }
   ],
   "source": [
    "a = src.emotion_analysis.filter_emotionless_comments(full_scores.head(40))\n",
    "a.head(3)"
   ]
  },
  {
   "cell_type": "code",
   "execution_count": 122,
   "metadata": {},
   "outputs": [
    {
     "data": {
      "text/html": [
       "<div>\n",
       "<style scoped>\n",
       "    .dataframe tbody tr th:only-of-type {\n",
       "        vertical-align: middle;\n",
       "    }\n",
       "\n",
       "    .dataframe tbody tr th {\n",
       "        vertical-align: top;\n",
       "    }\n",
       "\n",
       "    .dataframe thead th {\n",
       "        text-align: right;\n",
       "    }\n",
       "</style>\n",
       "<table border=\"1\" class=\"dataframe\">\n",
       "  <thead>\n",
       "    <tr style=\"text-align: right;\">\n",
       "      <th></th>\n",
       "      <th>USERID</th>\n",
       "      <th>code</th>\n",
       "      <th>text</th>\n",
       "      <th>theme</th>\n",
       "      <th>subtheme_description</th>\n",
       "      <th>anger</th>\n",
       "      <th>fear</th>\n",
       "      <th>sad</th>\n",
       "    </tr>\n",
       "  </thead>\n",
       "  <tbody>\n",
       "    <tr>\n",
       "      <th>8</th>\n",
       "      <td>189099-732978</td>\n",
       "      <td>35</td>\n",
       "      <td>official acknowledgement of the limited divers...</td>\n",
       "      <td>Engagement &amp; Workplace Culture</td>\n",
       "      <td>Value diversity</td>\n",
       "      <td>0.916</td>\n",
       "      <td>3.163</td>\n",
       "      <td>2.823</td>\n",
       "    </tr>\n",
       "    <tr>\n",
       "      <th>27</th>\n",
       "      <td>192533-510208</td>\n",
       "      <td>32</td>\n",
       "      <td>there is still a great deal of work that needs...</td>\n",
       "      <td>Engagement &amp; Workplace Culture</td>\n",
       "      <td>Address discrimination and harassment (includi...</td>\n",
       "      <td>1.979</td>\n",
       "      <td>2.694</td>\n",
       "      <td>4.372</td>\n",
       "    </tr>\n",
       "    <tr>\n",
       "      <th>2</th>\n",
       "      <td>175125-215928</td>\n",
       "      <td>43</td>\n",
       "      <td>the problem with the bcss is linda cavanaugh a...</td>\n",
       "      <td>Executives</td>\n",
       "      <td>Strengthen quality of executive leadership</td>\n",
       "      <td>1.381</td>\n",
       "      <td>1.849</td>\n",
       "      <td>1.924</td>\n",
       "    </tr>\n",
       "    <tr>\n",
       "      <th>20</th>\n",
       "      <td>186828-136404</td>\n",
       "      <td>113</td>\n",
       "      <td>policy writers would enhance policy by writing...</td>\n",
       "      <td>Vision, Mission &amp; Goals</td>\n",
       "      <td>Improve program and/or policy implementation</td>\n",
       "      <td>1.424</td>\n",
       "      <td>1.594</td>\n",
       "      <td>0.000</td>\n",
       "    </tr>\n",
       "    <tr>\n",
       "      <th>31</th>\n",
       "      <td>191868-457482</td>\n",
       "      <td>51</td>\n",
       "      <td>i would like to be offered more lws options, o...</td>\n",
       "      <td>Flexible Work Environment</td>\n",
       "      <td>Improve and/or expand Leading Workplace Strate...</td>\n",
       "      <td>1.277</td>\n",
       "      <td>1.496</td>\n",
       "      <td>1.164</td>\n",
       "    </tr>\n",
       "  </tbody>\n",
       "</table>\n",
       "</div>"
      ],
      "text/plain": [
       "           USERID  code                                               text  \\\n",
       "8   189099-732978    35  official acknowledgement of the limited divers...   \n",
       "27  192533-510208    32  there is still a great deal of work that needs...   \n",
       "2   175125-215928    43  the problem with the bcss is linda cavanaugh a...   \n",
       "20  186828-136404   113  policy writers would enhance policy by writing...   \n",
       "31  191868-457482    51  i would like to be offered more lws options, o...   \n",
       "\n",
       "                             theme  \\\n",
       "8   Engagement & Workplace Culture   \n",
       "27  Engagement & Workplace Culture   \n",
       "2                       Executives   \n",
       "20         Vision, Mission & Goals   \n",
       "31       Flexible Work Environment   \n",
       "\n",
       "                                 subtheme_description  anger   fear    sad  \n",
       "8                                     Value diversity  0.916  3.163  2.823  \n",
       "27  Address discrimination and harassment (includi...  1.979  2.694  4.372  \n",
       "2          Strengthen quality of executive leadership  1.381  1.849  1.924  \n",
       "20       Improve program and/or policy implementation  1.424  1.594  0.000  \n",
       "31  Improve and/or expand Leading Workplace Strate...  1.277  1.496  1.164  "
      ]
     },
     "metadata": {},
     "output_type": "display_data"
    },
    {
     "data": {
      "text/html": [
       "<div>\n",
       "<style scoped>\n",
       "    .dataframe tbody tr th:only-of-type {\n",
       "        vertical-align: middle;\n",
       "    }\n",
       "\n",
       "    .dataframe tbody tr th {\n",
       "        vertical-align: top;\n",
       "    }\n",
       "\n",
       "    .dataframe thead th {\n",
       "        text-align: right;\n",
       "    }\n",
       "</style>\n",
       "<table border=\"1\" class=\"dataframe\">\n",
       "  <thead>\n",
       "    <tr style=\"text-align: right;\">\n",
       "      <th></th>\n",
       "      <th>USERID</th>\n",
       "      <th>code</th>\n",
       "      <th>text</th>\n",
       "      <th>theme</th>\n",
       "      <th>subtheme_description</th>\n",
       "      <th>anger</th>\n",
       "      <th>fear</th>\n",
       "      <th>sad</th>\n",
       "    </tr>\n",
       "  </thead>\n",
       "  <tbody>\n",
       "    <tr>\n",
       "      <th>8</th>\n",
       "      <td>189099-732978</td>\n",
       "      <td>35</td>\n",
       "      <td>official acknowledgement of the limited divers...</td>\n",
       "      <td>Engagement &amp; Workplace Culture</td>\n",
       "      <td>Value diversity</td>\n",
       "      <td>0.916</td>\n",
       "      <td>3.163</td>\n",
       "      <td>2.823</td>\n",
       "    </tr>\n",
       "    <tr>\n",
       "      <th>27</th>\n",
       "      <td>192533-510208</td>\n",
       "      <td>32</td>\n",
       "      <td>there is still a great deal of work that needs...</td>\n",
       "      <td>Engagement &amp; Workplace Culture</td>\n",
       "      <td>Address discrimination and harassment (includi...</td>\n",
       "      <td>1.979</td>\n",
       "      <td>2.694</td>\n",
       "      <td>4.372</td>\n",
       "    </tr>\n",
       "    <tr>\n",
       "      <th>2</th>\n",
       "      <td>175125-215928</td>\n",
       "      <td>43</td>\n",
       "      <td>the problem with the bcss is linda cavanaugh a...</td>\n",
       "      <td>Executives</td>\n",
       "      <td>Strengthen quality of executive leadership</td>\n",
       "      <td>1.381</td>\n",
       "      <td>1.849</td>\n",
       "      <td>1.924</td>\n",
       "    </tr>\n",
       "    <tr>\n",
       "      <th>20</th>\n",
       "      <td>186828-136404</td>\n",
       "      <td>113</td>\n",
       "      <td>policy writers would enhance policy by writing...</td>\n",
       "      <td>Vision, Mission &amp; Goals</td>\n",
       "      <td>Improve program and/or policy implementation</td>\n",
       "      <td>1.424</td>\n",
       "      <td>1.594</td>\n",
       "      <td>0.000</td>\n",
       "    </tr>\n",
       "    <tr>\n",
       "      <th>31</th>\n",
       "      <td>191868-457482</td>\n",
       "      <td>51</td>\n",
       "      <td>i would like to be offered more lws options, o...</td>\n",
       "      <td>Flexible Work Environment</td>\n",
       "      <td>Improve and/or expand Leading Workplace Strate...</td>\n",
       "      <td>1.277</td>\n",
       "      <td>1.496</td>\n",
       "      <td>1.164</td>\n",
       "    </tr>\n",
       "  </tbody>\n",
       "</table>\n",
       "</div>"
      ],
      "text/plain": [
       "           USERID  code                                               text  \\\n",
       "8   189099-732978    35  official acknowledgement of the limited divers...   \n",
       "27  192533-510208    32  there is still a great deal of work that needs...   \n",
       "2   175125-215928    43  the problem with the bcss is linda cavanaugh a...   \n",
       "20  186828-136404   113  policy writers would enhance policy by writing...   \n",
       "31  191868-457482    51  i would like to be offered more lws options, o...   \n",
       "\n",
       "                             theme  \\\n",
       "8   Engagement & Workplace Culture   \n",
       "27  Engagement & Workplace Culture   \n",
       "2                       Executives   \n",
       "20         Vision, Mission & Goals   \n",
       "31       Flexible Work Environment   \n",
       "\n",
       "                                 subtheme_description  anger   fear    sad  \n",
       "8                                     Value diversity  0.916  3.163  2.823  \n",
       "27  Address discrimination and harassment (includi...  1.979  2.694  4.372  \n",
       "2          Strengthen quality of executive leadership  1.381  1.849  1.924  \n",
       "20       Improve program and/or policy implementation  1.424  1.594  0.000  \n",
       "31  Improve and/or expand Leading Workplace Strate...  1.277  1.496  1.164  "
      ]
     },
     "execution_count": 122,
     "metadata": {},
     "output_type": "execute_result"
    }
   ],
   "source": [
    "src.emotion_analysis.display_top_emotions(a, \"fear\", 5)"
   ]
  },
  {
   "cell_type": "markdown",
   "metadata": {},
   "source": [
    "### Observations from subtheme level analysis\n",
    "\n",
    "- joy is the most common emotion for all subthemes and agreement levels \n",
    "  - this seems to be due to the only words in the comment being happy\n",
    "      - might be worth aggregating all of the sentences together and then doing the comparison\n",
    "  - the other main reseson is the words are just with a negative context and since this is only matching words it doesn't understand the meaning\n",
    "      - might be worth removing joy all together because it doesn't really match well\n",
    "      \n",
    "- a good set of the comments match to the emotion\n",
    "    - Could manually score a small set of them to get an \"accuracy\" score\n",
    "    - bit of weirdness due to context, government is one of the words in the lexicon and it is being used as a name compared to an emotion. Same with words like leave since it relates to time off not leaving often\n",
    "\n",
    "- there are over 5000 comments that have no related emotion\n",
    "\n",
    "- this seems counterintuitive\n",
    "- subtheme 35, 82, 105\n",
    "  - anger as dominant as joy in no agreement \n",
    "  - not since I made the adjustment to remove the emotionless comments\n",
    "- subtheme 42, 101\n",
    "  - fear is dominant as fear in strong agreement \n",
    "  "
   ]
  },
  {
   "cell_type": "code",
   "execution_count": null,
   "metadata": {
    "scrolled": false
   },
   "outputs": [],
   "source": [
    "src.emotion_analysis.examine_emotion_scoring(df, \"sad\", lexicon)"
   ]
  },
  {
   "cell_type": "code",
   "execution_count": null,
   "metadata": {},
   "outputs": [],
   "source": [
    "# total number of comments is higher because there are duplicates \n",
    "# since comments relate to multiple mc questions\n",
    "src.emotion_analysis.summary_number_comment(df, 0.3, include=True)\n",
    "src.emotion_analysis.summary_number_comment(df, 0.5)\n",
    "src.emotion_analysis.summary_number_comment(df, 1)\n",
    "src.emotion_analysis.summary_number_comment(df, 2)\n",
    "src.emotion_analysis.summary_number_comment(df, 5)"
   ]
  },
  {
   "cell_type": "code",
   "execution_count": null,
   "metadata": {
    "scrolled": false
   },
   "outputs": [],
   "source": [
    "labels = np.sort(df['main_theme'].unique())\n",
    "for i in labels:\n",
    "    src.emotion_analysis.plot_data(\"theme\", i, \"all\", df)"
   ]
  },
  {
   "cell_type": "code",
   "execution_count": null,
   "metadata": {},
   "outputs": [],
   "source": [
    "src.emotion_analysis.format_raw_comments(data_full)"
   ]
  },
  {
   "cell_type": "code",
   "execution_count": null,
   "metadata": {},
   "outputs": [],
   "source": []
  },
  {
   "cell_type": "code",
   "execution_count": null,
   "metadata": {},
   "outputs": [],
   "source": []
  },
  {
   "cell_type": "code",
   "execution_count": null,
   "metadata": {},
   "outputs": [],
   "source": []
  },
  {
   "cell_type": "code",
   "execution_count": null,
   "metadata": {},
   "outputs": [],
   "source": []
  },
  {
   "cell_type": "code",
   "execution_count": null,
   "metadata": {},
   "outputs": [],
   "source": [
    "labels = pd.read_csv(\"./references/data-dictionaries/theme_subtheme_names.csv\")\n",
    "\n",
    "labels.head()"
   ]
  },
  {
   "cell_type": "code",
   "execution_count": null,
   "metadata": {},
   "outputs": [],
   "source": [
    "labels[labels['Code'] == 11].iloc[0]['Theme']"
   ]
  },
  {
   "cell_type": "code",
   "execution_count": null,
   "metadata": {},
   "outputs": [],
   "source": [
    "labels[labels['Code'] == 11].iloc[0]['Description']"
   ]
  },
  {
   "cell_type": "code",
   "execution_count": null,
   "metadata": {},
   "outputs": [],
   "source": [
    "labels['code'] = labels['code'].astype(int)\n",
    "#data_full['code'] = data_full['code'].astype()\n"
   ]
  },
  {
   "cell_type": "code",
   "execution_count": null,
   "metadata": {},
   "outputs": [],
   "source": [
    "data = data_full.copy()"
   ]
  },
  {
   "cell_type": "code",
   "execution_count": null,
   "metadata": {},
   "outputs": [],
   "source": [
    "columns = [\"code2\", \"code3\", \"code4\", \"code5\"]\n",
    "for i in columns:\n",
    "    condition = (data[i] != ' ')\n",
    "    data[i] = data[i].where(condition, np.nan)"
   ]
  },
  {
   "cell_type": "code",
   "execution_count": null,
   "metadata": {},
   "outputs": [],
   "source": [
    "data = pd.melt(data, \n",
    "                id_vars=[\"USERID\", \"text\"], \n",
    "                value_vars=[\"code1\", \"code2\", \"code3\", \"code4\", \"code5\"], \n",
    "                value_name=\"code\").dropna()[['USERID', \"code\", \"text\"]]"
   ]
  },
  {
   "cell_type": "code",
   "execution_count": null,
   "metadata": {},
   "outputs": [],
   "source": [
    "data['code'].astype(int)"
   ]
  },
  {
   "cell_type": "code",
   "execution_count": null,
   "metadata": {},
   "outputs": [],
   "source": [
    "#data['code2'].astype(int)"
   ]
  },
  {
   "cell_type": "code",
   "execution_count": null,
   "metadata": {},
   "outputs": [],
   "source": [
    "data.dtypes"
   ]
  },
  {
   "cell_type": "code",
   "execution_count": null,
   "metadata": {},
   "outputs": [],
   "source": []
  },
  {
   "cell_type": "code",
   "execution_count": null,
   "metadata": {},
   "outputs": [],
   "source": []
  },
  {
   "cell_type": "code",
   "execution_count": null,
   "metadata": {},
   "outputs": [],
   "source": [
    "pd.merge(data_agreement, labels, on=\"code\", how=\"left\")"
   ]
  },
  {
   "cell_type": "code",
   "execution_count": null,
   "metadata": {},
   "outputs": [],
   "source": [
    "data_full[data_full['USERID'] == '176035-509390']"
   ]
  },
  {
   "cell_type": "code",
   "execution_count": null,
   "metadata": {},
   "outputs": [],
   "source": [
    "data_full[data_full['code1'] == 105].head()"
   ]
  },
  {
   "cell_type": "code",
   "execution_count": null,
   "metadata": {},
   "outputs": [],
   "source": [
    "data_full.head()"
   ]
  },
  {
   "cell_type": "code",
   "execution_count": null,
   "metadata": {},
   "outputs": [],
   "source": [
    "data_full[data_full['code5'] == ' '].shape"
   ]
  },
  {
   "cell_type": "code",
   "execution_count": null,
   "metadata": {},
   "outputs": [],
   "source": [
    "data_full.shape"
   ]
  },
  {
   "cell_type": "code",
   "execution_count": null,
   "metadata": {},
   "outputs": [],
   "source": [
    "14866-113"
   ]
  },
  {
   "cell_type": "code",
   "execution_count": null,
   "metadata": {},
   "outputs": [],
   "source": [
    "new = data_full.replace(r'\\s', np.nan, regex=True )"
   ]
  },
  {
   "cell_type": "code",
   "execution_count": null,
   "metadata": {},
   "outputs": [],
   "source": [
    "columns = [\"code2\", \"code3\", \"code4\", \"code5\"]\n",
    "for i in columns:\n",
    "    condition = (data_full[i] != ' ')\n",
    "    data_full[i] = data_full[i].where(condition, np.nan)"
   ]
  },
  {
   "cell_type": "code",
   "execution_count": null,
   "metadata": {},
   "outputs": [],
   "source": [
    "data_full"
   ]
  },
  {
   "cell_type": "code",
   "execution_count": null,
   "metadata": {},
   "outputs": [],
   "source": [
    "new1 = pd.melt(new, \n",
    "                    id_vars=[\"USERID\", \"text\"], \n",
    "                    value_vars=[\"code1\", \"code2\", \"code3\", \"code4\", \"code5\"], \n",
    "                    value_name=\"code\").dropna()[['USERID', \"code\", \"text\"]]"
   ]
  },
  {
   "cell_type": "code",
   "execution_count": null,
   "metadata": {},
   "outputs": [],
   "source": [
    "#new1[new1['code'] == ' ']\n",
    "new1['code'] = new1['code'].astype(int)"
   ]
  },
  {
   "cell_type": "code",
   "execution_count": null,
   "metadata": {},
   "outputs": [],
   "source": [
    "new1"
   ]
  },
  {
   "cell_type": "code",
   "execution_count": null,
   "metadata": {},
   "outputs": [],
   "source": []
  },
  {
   "cell_type": "code",
   "execution_count": null,
   "metadata": {},
   "outputs": [],
   "source": []
  },
  {
   "cell_type": "code",
   "execution_count": null,
   "metadata": {},
   "outputs": [],
   "source": []
  }
 ],
 "metadata": {
  "kernelspec": {
   "display_name": "Python 3",
   "language": "python",
   "name": "python3"
  },
  "language_info": {
   "codemirror_mode": {
    "name": "ipython",
    "version": 3
   },
   "file_extension": ".py",
   "mimetype": "text/x-python",
   "name": "python",
   "nbconvert_exporter": "python",
   "pygments_lexer": "ipython3",
   "version": "3.7.1"
  }
 },
 "nbformat": 4,
 "nbformat_minor": 2
}
