{
 "cells": [
  {
   "cell_type": "markdown",
   "metadata": {},
   "source": [
    "# Classification Experiments"
   ]
  },
  {
   "cell_type": "code",
   "execution_count": 1,
   "metadata": {},
   "outputs": [
    {
     "data": {
      "text/plain": [
       "'/Users/aaronquinton/Documents/UBC-MDS/Capstone/BCstats/DSCI_591_capstone-BCStats'"
      ]
     },
     "execution_count": 1,
     "metadata": {},
     "output_type": "execute_result"
    }
   ],
   "source": [
    "# Change working directory to be project root\n",
    "import os\n",
    "#os.chdir(\"..\")\n",
    "os.getcwd()"
   ]
  },
  {
   "cell_type": "code",
   "execution_count": 19,
   "metadata": {},
   "outputs": [],
   "source": [
    "import pandas as pd\n",
    "import numpy as np\n",
    "import nltk\n",
    "import time\n",
    "\n",
    "# Custom functions for preprocessing and data preparation\n",
    "from src.data.preprocessing_text import (\n",
    "    clean_text, clean_numbers, replace_typical_misspell, remove_stopwords,\n",
    "    balance_themes\n",
    ")\n",
    "\n",
    "from src.features.word_vectors import (\n",
    "    build_vocab, check_coverage, get_average_embeddings\n",
    ")\n",
    "\n",
    "from src.models.eval import theme_results\n",
    "\n",
    "# Functions for preprocessing and data preparation\n",
    "from sklearn.feature_extraction.text import CountVectorizer\n",
    "from sklearn.feature_extraction.text import TfidfVectorizer\n",
    "from sklearn.model_selection import train_test_split\n",
    "import sklearn.metrics as metrics\n",
    "\n",
    "\n",
    "# Classification alogrithms\n",
    "from skmultilearn.problem_transform import BinaryRelevance\n",
    "from sklearn.model_selection import GridSearchCV\n",
    "from sklearn.naive_bayes import MultinomialNB\n",
    "from sklearn.svm import SVC\n",
    "from sklearn.ensemble import RandomForestClassifier, VotingClassifier\n",
    "from sklearn.svm import LinearSVC\n",
    "from sklearn.linear_model import LogisticRegression\n"
   ]
  },
  {
   "cell_type": "markdown",
   "metadata": {},
   "source": [
    "## <span style = \"color:Darkblue\"> Preprocessing Data & Feature Extraction </span>"
   ]
  },
  {
   "cell_type": "code",
   "execution_count": 3,
   "metadata": {},
   "outputs": [],
   "source": [
    "# Read in data\n",
    "df = pd.read_csv(\"data/interim/train_2018-qualitative-data.csv\")\n",
    "\n",
    "df = df[['2018 Comment']].join(df.loc[:,'CPD':'OTH'])\n",
    "df = df.rename(columns = {'2018 Comment' : 'comment'})"
   ]
  },
  {
   "cell_type": "code",
   "execution_count": 4,
   "metadata": {},
   "outputs": [
    {
     "name": "stderr",
     "output_type": "stream",
     "text": [
      "100%|██████████| 13278/13278 [00:00<00:00, 63450.65it/s]\n",
      "100%|██████████| 13278/13278 [00:00<00:00, 32687.05it/s]\n",
      "100%|██████████| 13278/13278 [00:00<00:00, 47329.10it/s]\n"
     ]
    }
   ],
   "source": [
    "# Remove punctuation, clean numbers, and fix spelling\n",
    "df[\"comment\"] = df[\"comment\"].progress_apply(lambda x: clean_text(x))\n",
    "\n",
    "df[\"comment\"] = df[\"comment\"].progress_apply(lambda x: clean_numbers(x))\n",
    "\n",
    "df[\"comment\"] = df[\"comment\"].progress_apply(\n",
    "    lambda x: replace_typical_misspell(x)\n",
    ")\n"
   ]
  },
  {
   "cell_type": "markdown",
   "metadata": {},
   "source": [
    "### Bag of Words"
   ]
  },
  {
   "cell_type": "code",
   "execution_count": 5,
   "metadata": {},
   "outputs": [],
   "source": [
    "# Prepare arrays for model\n",
    "X = np.array(df.comment)\n",
    "Y = np.array(df.loc[:,\"CPD\":\"OTH\"])\n",
    "\n",
    "X_train, X_valid, Y_train, Y_valid = train_test_split(X, Y, \n",
    "                                                      test_size=0.25, \n",
    "                                                      random_state=2019)"
   ]
  },
  {
   "cell_type": "code",
   "execution_count": 6,
   "metadata": {},
   "outputs": [],
   "source": [
    "# Use Count Vectorizer to build bag of word arrays to train on\n",
    "vectorizer = CountVectorizer(stop_words= 'english',\n",
    "                             ngram_range=(1,4), \n",
    "                             max_features=15000)   \n",
    "\n",
    "X_train_bow = vectorizer.fit_transform(X_train)\n",
    "X_valid_bow = vectorizer.transform(X_valid)"
   ]
  },
  {
   "cell_type": "code",
   "execution_count": 7,
   "metadata": {},
   "outputs": [],
   "source": [
    "#X_train_bow, Y_train = balance_themes(X_train_bow.toarray(), Y_train)"
   ]
  },
  {
   "cell_type": "markdown",
   "metadata": {},
   "source": [
    "### Average Word Vectors"
   ]
  },
  {
   "cell_type": "code",
   "execution_count": 8,
   "metadata": {},
   "outputs": [],
   "source": [
    "# Load embeddings to be used for word vectors\n",
    "from gensim.models import KeyedVectors\n",
    "\n",
    "news_path = \"./references/GoogleNews-vectors-negative300.bin\"\n",
    "google_news = KeyedVectors.load_word2vec_format(news_path, binary=True)"
   ]
  },
  {
   "cell_type": "code",
   "execution_count": 9,
   "metadata": {},
   "outputs": [
    {
     "name": "stderr",
     "output_type": "stream",
     "text": [
      "100%|██████████| 13278/13278 [00:00<00:00, 95443.37it/s]\n",
      "100%|██████████| 17246/17246 [00:03<00:00, 4716.57it/s]"
     ]
    },
    {
     "name": "stdout",
     "output_type": "stream",
     "text": [
      "Found embeddings for 93.99% of vocab\n",
      "Found embeddings for  99.67% of all text\n"
     ]
    },
    {
     "name": "stderr",
     "output_type": "stream",
     "text": [
      "\n"
     ]
    },
    {
     "data": {
      "text/plain": [
       "[('CYMH', 54),\n",
       " ('FLNRORD', 35),\n",
       " ('GCPE', 33),\n",
       " ('CSNR', 32),\n",
       " ('BCWS', 23),\n",
       " ('MIRR', 20),\n",
       " ('STIIP', 20),\n",
       " ('CVSE', 19),\n",
       " ('MyPerformance', 18),\n",
       " ('FLNRO', 17)]"
      ]
     },
     "execution_count": 9,
     "metadata": {},
     "output_type": "execute_result"
    }
   ],
   "source": [
    "# Prepare text data, and cross check it with google_news\n",
    "sentences = df[\"comment\"].apply(lambda x: x.split())\n",
    "sentences = remove_stopwords(sentences)\n",
    "\n",
    "vocab = build_vocab(sentences)\n",
    "\n",
    "# Checkout out of vocab words\n",
    "oov = check_coverage(vocab, google_news)\n",
    "oov[:10]"
   ]
  },
  {
   "cell_type": "code",
   "execution_count": 10,
   "metadata": {},
   "outputs": [],
   "source": [
    "# Build average word vectors to train on\n",
    "X_wv = np.array([get_average_embeddings(sentence, embeddings_index=google_news)\n",
    "                 for sentence in sentences])\n",
    "Y = np.array(df.loc[:,\"CPD\":\"OTH\"])\n",
    "\n",
    "X_train_wv, X_valid_wv, Y_train, Y_valid = train_test_split(X_wv, Y, \n",
    "                                                            test_size=0.25, \n",
    "                                                            random_state=2019)"
   ]
  },
  {
   "cell_type": "markdown",
   "metadata": {},
   "source": [
    "## <span style = \"color:Darkblue\"> Classification Models </span>\n",
    "### Baseline Classifier - BOW & Linear SVC "
   ]
  },
  {
   "cell_type": "code",
   "execution_count": 29,
   "metadata": {},
   "outputs": [
    {
     "name": "stdout",
     "output_type": "stream",
     "text": [
      "Training Classifier 1\n",
      "Elapsed Training time: 24.0 s \n",
      "Elapsed Predict time: 6.3 s\n"
     ]
    }
   ],
   "source": [
    "################################################################################\n",
    "# Final Train and Predict Model                                                #\n",
    "################################################################################\n",
    "t_start = time.time()\n",
    "print(\"Training Classifier 1\")\n",
    "\n",
    "clf1 = BinaryRelevance(\n",
    "    classifier = LinearSVC()\n",
    ")\n",
    "\n",
    "clf1.fit(X_train_bow, Y_train)\n",
    "t_end_train = time.time()\n",
    "\n",
    "Y_pred1 = clf1.predict(X_valid_bow).toarray()\n",
    "\n",
    "# Calculate and print elapsed time\n",
    "t_end = time.time()\n",
    "print(\"Elapsed Training time: %.1f s\" % (t_end_train - t_start),\n",
    "      \"\\nElapsed Predict time: %.1f s\" % (t_end - t_end_train))"
   ]
  },
  {
   "cell_type": "code",
   "execution_count": 34,
   "metadata": {},
   "outputs": [
    {
     "name": "stdout",
     "output_type": "stream",
     "text": [
      "Overall Accuracy: 0.4337 \n",
      "Hamming Loss: 0.0775 \n",
      "Hamming Loss (pred. zeros): 0.1191\n"
     ]
    },
    {
     "data": {
      "text/html": [
       "<div>\n",
       "<style scoped>\n",
       "    .dataframe tbody tr th:only-of-type {\n",
       "        vertical-align: middle;\n",
       "    }\n",
       "\n",
       "    .dataframe tbody tr th {\n",
       "        vertical-align: top;\n",
       "    }\n",
       "\n",
       "    .dataframe thead th {\n",
       "        text-align: right;\n",
       "    }\n",
       "</style>\n",
       "<table border=\"1\" class=\"dataframe\">\n",
       "  <thead>\n",
       "    <tr style=\"text-align: right;\">\n",
       "      <th></th>\n",
       "      <th>Label</th>\n",
       "      <th>Y_proportion</th>\n",
       "      <th>Pred_proportion</th>\n",
       "      <th>Error</th>\n",
       "      <th>Dummy_Diff</th>\n",
       "      <th>Accuarcy</th>\n",
       "      <th>Precision</th>\n",
       "      <th>Recall</th>\n",
       "    </tr>\n",
       "  </thead>\n",
       "  <tbody>\n",
       "    <tr>\n",
       "      <th>0</th>\n",
       "      <td>CPD</td>\n",
       "      <td>0.127410</td>\n",
       "      <td>0.115663</td>\n",
       "      <td>0.077410</td>\n",
       "      <td>0.050000</td>\n",
       "      <td>0.922590</td>\n",
       "      <td>0.716146</td>\n",
       "      <td>0.650118</td>\n",
       "    </tr>\n",
       "    <tr>\n",
       "      <th>1</th>\n",
       "      <td>CB</td>\n",
       "      <td>0.184639</td>\n",
       "      <td>0.177410</td>\n",
       "      <td>0.048193</td>\n",
       "      <td>0.136446</td>\n",
       "      <td>0.951807</td>\n",
       "      <td>0.884550</td>\n",
       "      <td>0.849918</td>\n",
       "    </tr>\n",
       "    <tr>\n",
       "      <th>2</th>\n",
       "      <td>EWC</td>\n",
       "      <td>0.084337</td>\n",
       "      <td>0.065964</td>\n",
       "      <td>0.070783</td>\n",
       "      <td>0.013554</td>\n",
       "      <td>0.929217</td>\n",
       "      <td>0.602740</td>\n",
       "      <td>0.471429</td>\n",
       "    </tr>\n",
       "    <tr>\n",
       "      <th>3</th>\n",
       "      <td>Exec</td>\n",
       "      <td>0.103012</td>\n",
       "      <td>0.092771</td>\n",
       "      <td>0.088554</td>\n",
       "      <td>0.014458</td>\n",
       "      <td>0.911446</td>\n",
       "      <td>0.577922</td>\n",
       "      <td>0.520468</td>\n",
       "    </tr>\n",
       "    <tr>\n",
       "      <th>4</th>\n",
       "      <td>FWE</td>\n",
       "      <td>0.062048</td>\n",
       "      <td>0.057229</td>\n",
       "      <td>0.027108</td>\n",
       "      <td>0.034940</td>\n",
       "      <td>0.972892</td>\n",
       "      <td>0.805263</td>\n",
       "      <td>0.742718</td>\n",
       "    </tr>\n",
       "    <tr>\n",
       "      <th>5</th>\n",
       "      <td>SP</td>\n",
       "      <td>0.096386</td>\n",
       "      <td>0.090964</td>\n",
       "      <td>0.072892</td>\n",
       "      <td>0.023494</td>\n",
       "      <td>0.927108</td>\n",
       "      <td>0.629139</td>\n",
       "      <td>0.593750</td>\n",
       "    </tr>\n",
       "    <tr>\n",
       "      <th>6</th>\n",
       "      <td>RE</td>\n",
       "      <td>0.085542</td>\n",
       "      <td>0.070482</td>\n",
       "      <td>0.081928</td>\n",
       "      <td>0.003614</td>\n",
       "      <td>0.918072</td>\n",
       "      <td>0.525641</td>\n",
       "      <td>0.433099</td>\n",
       "    </tr>\n",
       "    <tr>\n",
       "      <th>7</th>\n",
       "      <td>Sup</td>\n",
       "      <td>0.127711</td>\n",
       "      <td>0.120783</td>\n",
       "      <td>0.115361</td>\n",
       "      <td>0.012349</td>\n",
       "      <td>0.884639</td>\n",
       "      <td>0.551122</td>\n",
       "      <td>0.521226</td>\n",
       "    </tr>\n",
       "    <tr>\n",
       "      <th>8</th>\n",
       "      <td>SW</td>\n",
       "      <td>0.165964</td>\n",
       "      <td>0.146988</td>\n",
       "      <td>0.125602</td>\n",
       "      <td>0.040361</td>\n",
       "      <td>0.874398</td>\n",
       "      <td>0.637295</td>\n",
       "      <td>0.564428</td>\n",
       "    </tr>\n",
       "    <tr>\n",
       "      <th>9</th>\n",
       "      <td>TEPE</td>\n",
       "      <td>0.228614</td>\n",
       "      <td>0.216867</td>\n",
       "      <td>0.073795</td>\n",
       "      <td>0.154819</td>\n",
       "      <td>0.926205</td>\n",
       "      <td>0.856944</td>\n",
       "      <td>0.812912</td>\n",
       "    </tr>\n",
       "    <tr>\n",
       "      <th>10</th>\n",
       "      <td>VMG</td>\n",
       "      <td>0.135542</td>\n",
       "      <td>0.122289</td>\n",
       "      <td>0.121687</td>\n",
       "      <td>0.013855</td>\n",
       "      <td>0.878313</td>\n",
       "      <td>0.556650</td>\n",
       "      <td>0.502222</td>\n",
       "    </tr>\n",
       "    <tr>\n",
       "      <th>11</th>\n",
       "      <td>OTH</td>\n",
       "      <td>0.027711</td>\n",
       "      <td>0.020482</td>\n",
       "      <td>0.027108</td>\n",
       "      <td>0.000602</td>\n",
       "      <td>0.972892</td>\n",
       "      <td>0.514706</td>\n",
       "      <td>0.380435</td>\n",
       "    </tr>\n",
       "  </tbody>\n",
       "</table>\n",
       "</div>"
      ],
      "text/plain": [
       "   Label  Y_proportion  Pred_proportion     Error  Dummy_Diff  Accuarcy  \\\n",
       "0    CPD      0.127410         0.115663  0.077410    0.050000  0.922590   \n",
       "1     CB      0.184639         0.177410  0.048193    0.136446  0.951807   \n",
       "2    EWC      0.084337         0.065964  0.070783    0.013554  0.929217   \n",
       "3   Exec      0.103012         0.092771  0.088554    0.014458  0.911446   \n",
       "4    FWE      0.062048         0.057229  0.027108    0.034940  0.972892   \n",
       "5     SP      0.096386         0.090964  0.072892    0.023494  0.927108   \n",
       "6     RE      0.085542         0.070482  0.081928    0.003614  0.918072   \n",
       "7    Sup      0.127711         0.120783  0.115361    0.012349  0.884639   \n",
       "8     SW      0.165964         0.146988  0.125602    0.040361  0.874398   \n",
       "9   TEPE      0.228614         0.216867  0.073795    0.154819  0.926205   \n",
       "10   VMG      0.135542         0.122289  0.121687    0.013855  0.878313   \n",
       "11   OTH      0.027711         0.020482  0.027108    0.000602  0.972892   \n",
       "\n",
       "    Precision    Recall  \n",
       "0    0.716146  0.650118  \n",
       "1    0.884550  0.849918  \n",
       "2    0.602740  0.471429  \n",
       "3    0.577922  0.520468  \n",
       "4    0.805263  0.742718  \n",
       "5    0.629139  0.593750  \n",
       "6    0.525641  0.433099  \n",
       "7    0.551122  0.521226  \n",
       "8    0.637295  0.564428  \n",
       "9    0.856944  0.812912  \n",
       "10   0.556650  0.502222  \n",
       "11   0.514706  0.380435  "
      ]
     },
     "execution_count": 34,
     "metadata": {},
     "output_type": "execute_result"
    }
   ],
   "source": [
    "theme_results(Y_valid, Y_pred1)"
   ]
  },
  {
   "cell_type": "code",
   "execution_count": 13,
   "metadata": {},
   "outputs": [
    {
     "data": {
      "text/plain": [
       "(396, 12)"
      ]
     },
     "execution_count": 13,
     "metadata": {},
     "output_type": "execute_result"
    }
   ],
   "source": [
    "Y_pred[Y_pred.sum(axis = 1) == 0,:].shape"
   ]
  },
  {
   "cell_type": "markdown",
   "metadata": {},
   "source": [
    "### Classifier 2 - BOW & Ensemble "
   ]
  },
  {
   "cell_type": "code",
   "execution_count": 26,
   "metadata": {},
   "outputs": [],
   "source": [
    "# Initialize Models\n",
    "clf2a = LinearSVC()\n",
    "clf2b = RandomForestClassifier(n_estimators=50, random_state=1)\n",
    "clf2c = LogisticRegression(solver='lbfgs')\n",
    "\n",
    "eclf = VotingClassifier(estimators=[('svc', clf2a), ('rf', clf2b), ('nb', clf2c)], \n",
    "                        voting='hard')"
   ]
  },
  {
   "cell_type": "code",
   "execution_count": 28,
   "metadata": {},
   "outputs": [
    {
     "name": "stdout",
     "output_type": "stream",
     "text": [
      "Training Classifier 2\n"
     ]
    },
    {
     "name": "stderr",
     "output_type": "stream",
     "text": [
      "/anaconda3/lib/python3.6/site-packages/sklearn/linear_model/logistic.py:758: ConvergenceWarning: lbfgs failed to converge. Increase the number of iterations.\n",
      "  \"of iterations.\", ConvergenceWarning)\n"
     ]
    },
    {
     "name": "stdout",
     "output_type": "stream",
     "text": [
      "Elapsed Training time: 1619.2 s \n",
      "Elapsed Predict time: 17.3 s\n"
     ]
    }
   ],
   "source": [
    "################################################################################\n",
    "# Train and Predict Model                                                      #\n",
    "################################################################################\n",
    "t_start = time.time()\n",
    "print(\"Training Classifier 2\")\n",
    "\n",
    "clf2 = BinaryRelevance(\n",
    "    classifier = eclf\n",
    ")\n",
    "\n",
    "clf2.fit(X_train_bow, Y_train)\n",
    "t_end_train = time.time()\n",
    "Y_pred2 = clf2.predict(X_valid_bow).toarray()\n",
    "\n",
    "# Calculate and print elapsed time\n",
    "t_end = time.time()\n",
    "print(\"Elapsed Training time: %.1f s\" % (t_end_train - t_start),\n",
    "      \"\\nElapsed Predict time: %.1f s\" % (t_end - t_end_train))"
   ]
  },
  {
   "cell_type": "code",
   "execution_count": 35,
   "metadata": {},
   "outputs": [
    {
     "ename": "NameError",
     "evalue": "name 'Y_pred2' is not defined",
     "output_type": "error",
     "traceback": [
      "\u001b[0;31m---------------------------------------------------------------------------\u001b[0m",
      "\u001b[0;31mNameError\u001b[0m                                 Traceback (most recent call last)",
      "\u001b[0;32m<ipython-input-35-8354ed21c382>\u001b[0m in \u001b[0;36m<module>\u001b[0;34m()\u001b[0m\n\u001b[0;32m----> 1\u001b[0;31m \u001b[0mtheme_results\u001b[0m\u001b[0;34m(\u001b[0m\u001b[0mY_valid\u001b[0m\u001b[0;34m,\u001b[0m \u001b[0mY_pred2\u001b[0m\u001b[0;34m)\u001b[0m\u001b[0;34m\u001b[0m\u001b[0;34m\u001b[0m\u001b[0m\n\u001b[0m",
      "\u001b[0;31mNameError\u001b[0m: name 'Y_pred2' is not defined"
     ]
    }
   ],
   "source": [
    "theme_results(Y_valid, Y_pred2)"
   ]
  },
  {
   "cell_type": "markdown",
   "metadata": {},
   "source": [
    "### Classifier 3 - WV & LinearSVC"
   ]
  },
  {
   "cell_type": "code",
   "execution_count": 32,
   "metadata": {},
   "outputs": [
    {
     "name": "stdout",
     "output_type": "stream",
     "text": [
      "Training Classifier 3\n",
      "Elapsed Training time: 10.5 s \n",
      "Elapsed Predict time: 0.1 s\n"
     ]
    }
   ],
   "source": [
    "################################################################################\n",
    "# Final Train and Predict Model                                                #\n",
    "################################################################################\n",
    "t_start = time.time()\n",
    "print(\"Training Classifier 3\")\n",
    "\n",
    "clf3 = BinaryRelevance(\n",
    "    classifier = LinearSVC()\n",
    ")\n",
    "\n",
    "clf3.fit(X_train_wv, Y_train)\n",
    "t_end_train = time.time()\n",
    "\n",
    "Y_pred3 = clf3.predict(X_valid_wv).toarray()\n",
    "\n",
    "# Calculate and print elapsed time\n",
    "t_end = time.time()\n",
    "print(\"Elapsed Training time: %.1f s\" % (t_end_train - t_start),\n",
    "      \"\\nElapsed Predict time: %.1f s\" % (t_end - t_end_train))"
   ]
  },
  {
   "cell_type": "code",
   "execution_count": 36,
   "metadata": {},
   "outputs": [
    {
     "name": "stdout",
     "output_type": "stream",
     "text": [
      "Overall Accuracy: 0.4021 \n",
      "Hamming Loss: 0.0821 \n",
      "Hamming Loss (pred. zeros): 0.1191\n"
     ]
    },
    {
     "data": {
      "text/html": [
       "<div>\n",
       "<style scoped>\n",
       "    .dataframe tbody tr th:only-of-type {\n",
       "        vertical-align: middle;\n",
       "    }\n",
       "\n",
       "    .dataframe tbody tr th {\n",
       "        vertical-align: top;\n",
       "    }\n",
       "\n",
       "    .dataframe thead th {\n",
       "        text-align: right;\n",
       "    }\n",
       "</style>\n",
       "<table border=\"1\" class=\"dataframe\">\n",
       "  <thead>\n",
       "    <tr style=\"text-align: right;\">\n",
       "      <th></th>\n",
       "      <th>Label</th>\n",
       "      <th>Y_proportion</th>\n",
       "      <th>Pred_proportion</th>\n",
       "      <th>Error</th>\n",
       "      <th>Dummy_Diff</th>\n",
       "      <th>Accuarcy</th>\n",
       "      <th>Precision</th>\n",
       "      <th>Recall</th>\n",
       "    </tr>\n",
       "  </thead>\n",
       "  <tbody>\n",
       "    <tr>\n",
       "      <th>0</th>\n",
       "      <td>CPD</td>\n",
       "      <td>0.127410</td>\n",
       "      <td>0.065060</td>\n",
       "      <td>0.093072</td>\n",
       "      <td>0.034337</td>\n",
       "      <td>0.906928</td>\n",
       "      <td>0.763889</td>\n",
       "      <td>0.390071</td>\n",
       "    </tr>\n",
       "    <tr>\n",
       "      <th>1</th>\n",
       "      <td>CB</td>\n",
       "      <td>0.184639</td>\n",
       "      <td>0.143976</td>\n",
       "      <td>0.071386</td>\n",
       "      <td>0.113253</td>\n",
       "      <td>0.928614</td>\n",
       "      <td>0.893305</td>\n",
       "      <td>0.696574</td>\n",
       "    </tr>\n",
       "    <tr>\n",
       "      <th>2</th>\n",
       "      <td>EWC</td>\n",
       "      <td>0.084337</td>\n",
       "      <td>0.021386</td>\n",
       "      <td>0.073795</td>\n",
       "      <td>0.010542</td>\n",
       "      <td>0.926205</td>\n",
       "      <td>0.746479</td>\n",
       "      <td>0.189286</td>\n",
       "    </tr>\n",
       "    <tr>\n",
       "      <th>3</th>\n",
       "      <td>Exec</td>\n",
       "      <td>0.103012</td>\n",
       "      <td>0.040964</td>\n",
       "      <td>0.086145</td>\n",
       "      <td>0.016867</td>\n",
       "      <td>0.913855</td>\n",
       "      <td>0.705882</td>\n",
       "      <td>0.280702</td>\n",
       "    </tr>\n",
       "    <tr>\n",
       "      <th>4</th>\n",
       "      <td>FWE</td>\n",
       "      <td>0.062048</td>\n",
       "      <td>0.033133</td>\n",
       "      <td>0.040964</td>\n",
       "      <td>0.021084</td>\n",
       "      <td>0.959036</td>\n",
       "      <td>0.818182</td>\n",
       "      <td>0.436893</td>\n",
       "    </tr>\n",
       "    <tr>\n",
       "      <th>5</th>\n",
       "      <td>SP</td>\n",
       "      <td>0.096386</td>\n",
       "      <td>0.040060</td>\n",
       "      <td>0.076807</td>\n",
       "      <td>0.019578</td>\n",
       "      <td>0.923193</td>\n",
       "      <td>0.744361</td>\n",
       "      <td>0.309375</td>\n",
       "    </tr>\n",
       "    <tr>\n",
       "      <th>6</th>\n",
       "      <td>RE</td>\n",
       "      <td>0.085542</td>\n",
       "      <td>0.014458</td>\n",
       "      <td>0.080723</td>\n",
       "      <td>0.004819</td>\n",
       "      <td>0.919277</td>\n",
       "      <td>0.666667</td>\n",
       "      <td>0.112676</td>\n",
       "    </tr>\n",
       "    <tr>\n",
       "      <th>7</th>\n",
       "      <td>Sup</td>\n",
       "      <td>0.127711</td>\n",
       "      <td>0.043373</td>\n",
       "      <td>0.110843</td>\n",
       "      <td>0.016867</td>\n",
       "      <td>0.889157</td>\n",
       "      <td>0.694444</td>\n",
       "      <td>0.235849</td>\n",
       "    </tr>\n",
       "    <tr>\n",
       "      <th>8</th>\n",
       "      <td>SW</td>\n",
       "      <td>0.165964</td>\n",
       "      <td>0.072289</td>\n",
       "      <td>0.137651</td>\n",
       "      <td>0.028313</td>\n",
       "      <td>0.862349</td>\n",
       "      <td>0.695833</td>\n",
       "      <td>0.303085</td>\n",
       "    </tr>\n",
       "    <tr>\n",
       "      <th>9</th>\n",
       "      <td>TEPE</td>\n",
       "      <td>0.228614</td>\n",
       "      <td>0.198193</td>\n",
       "      <td>0.078614</td>\n",
       "      <td>0.150000</td>\n",
       "      <td>0.921386</td>\n",
       "      <td>0.878419</td>\n",
       "      <td>0.761528</td>\n",
       "    </tr>\n",
       "    <tr>\n",
       "      <th>10</th>\n",
       "      <td>VMG</td>\n",
       "      <td>0.135542</td>\n",
       "      <td>0.051506</td>\n",
       "      <td>0.110542</td>\n",
       "      <td>0.025000</td>\n",
       "      <td>0.889458</td>\n",
       "      <td>0.742690</td>\n",
       "      <td>0.282222</td>\n",
       "    </tr>\n",
       "    <tr>\n",
       "      <th>11</th>\n",
       "      <td>OTH</td>\n",
       "      <td>0.027711</td>\n",
       "      <td>0.005120</td>\n",
       "      <td>0.024398</td>\n",
       "      <td>0.003313</td>\n",
       "      <td>0.975602</td>\n",
       "      <td>0.823529</td>\n",
       "      <td>0.152174</td>\n",
       "    </tr>\n",
       "  </tbody>\n",
       "</table>\n",
       "</div>"
      ],
      "text/plain": [
       "   Label  Y_proportion  Pred_proportion     Error  Dummy_Diff  Accuarcy  \\\n",
       "0    CPD      0.127410         0.065060  0.093072    0.034337  0.906928   \n",
       "1     CB      0.184639         0.143976  0.071386    0.113253  0.928614   \n",
       "2    EWC      0.084337         0.021386  0.073795    0.010542  0.926205   \n",
       "3   Exec      0.103012         0.040964  0.086145    0.016867  0.913855   \n",
       "4    FWE      0.062048         0.033133  0.040964    0.021084  0.959036   \n",
       "5     SP      0.096386         0.040060  0.076807    0.019578  0.923193   \n",
       "6     RE      0.085542         0.014458  0.080723    0.004819  0.919277   \n",
       "7    Sup      0.127711         0.043373  0.110843    0.016867  0.889157   \n",
       "8     SW      0.165964         0.072289  0.137651    0.028313  0.862349   \n",
       "9   TEPE      0.228614         0.198193  0.078614    0.150000  0.921386   \n",
       "10   VMG      0.135542         0.051506  0.110542    0.025000  0.889458   \n",
       "11   OTH      0.027711         0.005120  0.024398    0.003313  0.975602   \n",
       "\n",
       "    Precision    Recall  \n",
       "0    0.763889  0.390071  \n",
       "1    0.893305  0.696574  \n",
       "2    0.746479  0.189286  \n",
       "3    0.705882  0.280702  \n",
       "4    0.818182  0.436893  \n",
       "5    0.744361  0.309375  \n",
       "6    0.666667  0.112676  \n",
       "7    0.694444  0.235849  \n",
       "8    0.695833  0.303085  \n",
       "9    0.878419  0.761528  \n",
       "10   0.742690  0.282222  \n",
       "11   0.823529  0.152174  "
      ]
     },
     "execution_count": 36,
     "metadata": {},
     "output_type": "execute_result"
    }
   ],
   "source": [
    "theme_results(Y_valid, Y_pred3)"
   ]
  },
  {
   "cell_type": "code",
   "execution_count": null,
   "metadata": {},
   "outputs": [],
   "source": []
  }
 ],
 "metadata": {
  "kernelspec": {
   "display_name": "Python 3",
   "language": "python",
   "name": "python3"
  },
  "language_info": {
   "codemirror_mode": {
    "name": "ipython",
    "version": 3
   },
   "file_extension": ".py",
   "mimetype": "text/x-python",
   "name": "python",
   "nbconvert_exporter": "python",
   "pygments_lexer": "ipython3",
   "version": "3.6.8"
  }
 },
 "nbformat": 4,
 "nbformat_minor": 2
}
